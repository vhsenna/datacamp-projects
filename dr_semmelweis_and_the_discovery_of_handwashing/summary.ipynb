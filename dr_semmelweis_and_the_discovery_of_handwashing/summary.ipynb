{
 "cells": [
  {
   "cell_type": "markdown",
   "id": "abandoned-benefit",
   "metadata": {},
   "source": [
    "# Dr. Semmelweis and the Discovery of Handwashing\n",
    "\n",
    "Reanalyse the data behind one of the most important discoveries of modern medicine: handwashing.\n",
    "\n",
    "## Project Description\n",
    "\n",
    "In 1847, the Hungarian physician Ignaz Semmelweis made a breakthough discovery: he discovers handwashing. Contaminated hands was a major cause of childbed fever and by enforcing handwashing at his hospital he saved hundreds of lives.\n",
    "\n",
    "## Guided Project\n",
    "\n",
    "In this project, you will reanalyze the medical data Semmelweis collected!\n",
    "\n",
    "### Project Tasks\n",
    "\n",
    "1. Meet Dr. Ignaz Semmelweis\n",
    "2. The alarming number of deaths\n",
    "3. Death at the clinics\n",
    "4. The handwashing begins\n",
    "5. The effect of handwashing\n",
    "6. The effect of handwashing highlighted\n",
    "7. More handwashing, fewer deaths?\n",
    "8. A Bootstrap analysis of Semmelweis handwashing data\n",
    "9. The fate of Dr. Semmelweis"
   ]
  }
 ],
 "metadata": {
  "kernelspec": {
   "display_name": "Python 3",
   "language": "python",
   "name": "python3"
  },
  "language_info": {
   "codemirror_mode": {
    "name": "ipython",
    "version": 3
   },
   "file_extension": ".py",
   "mimetype": "text/x-python",
   "name": "python",
   "nbconvert_exporter": "python",
   "pygments_lexer": "ipython3",
   "version": "3.8.5"
  },
  "toc": {
   "base_numbering": 1,
   "nav_menu": {},
   "number_sections": false,
   "sideBar": true,
   "skip_h1_title": false,
   "title_cell": "Table of Contents",
   "title_sidebar": "Contents",
   "toc_cell": false,
   "toc_position": {},
   "toc_section_display": true,
   "toc_window_display": false
  },
  "varInspector": {
   "cols": {
    "lenName": 16,
    "lenType": 16,
    "lenVar": 40
   },
   "kernels_config": {
    "python": {
     "delete_cmd_postfix": "",
     "delete_cmd_prefix": "del ",
     "library": "var_list.py",
     "varRefreshCmd": "print(var_dic_list())"
    },
    "r": {
     "delete_cmd_postfix": ") ",
     "delete_cmd_prefix": "rm(",
     "library": "var_list.r",
     "varRefreshCmd": "cat(var_dic_list()) "
    }
   },
   "types_to_exclude": [
    "module",
    "function",
    "builtin_function_or_method",
    "instance",
    "_Feature"
   ],
   "window_display": false
  }
 },
 "nbformat": 4,
 "nbformat_minor": 5
}
