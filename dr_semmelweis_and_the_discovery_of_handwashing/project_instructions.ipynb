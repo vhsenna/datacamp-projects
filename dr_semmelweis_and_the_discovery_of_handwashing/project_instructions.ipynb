{
 "cells": [
  {
   "cell_type": "markdown",
   "id": "wrapped-cliff",
   "metadata": {},
   "source": [
    "# Task 1: Instructions\n",
    "\n",
    "Load in the dataset with the yearly number of deaths.\n",
    "\n",
    "- Import the `pandas`, aliasing it as `pd`.\n",
    "- Read in `yearly_deaths_by_clinic.csv` and assign it to the variable `yearly`.\n",
    "- Print out `yearly`.\n",
    "\n",
    "## Good to know\n",
    "\n",
    "To complete this project you need to know some Python and be familiar with `pandas` DataFrames and bootstrap analysis. Here are relevant DataCamp exercises if you need to brush up your skills:\n",
    "\n",
    "- From [Data Manipulation with pandas](https://www.datacamp.com/courses/data-manipulation-with-pandas).\n",
    "    - [Reading in a CSV](https://campus.datacamp.com/courses/data-manipulation-with-pandas/creating-and-visualizing-dataframes?ex=14\\).\n",
    "    - [Subsetting rows](https://campus.datacamp.com/courses/data-manipulation-with-pandas/transforming-data?ex=2).\n",
    "    - [Inspecting a DataFrame](https://campus.datacamp.com/courses/data-manipulation-with-pandas/transforming-data?ex=7).\n",
    "- From [Statistical Thinking in Python (Part 2)](https://www.datacamp.com/courses/statistical-thinking-in-python-part-2).\n",
    "    - [Bootstrap analysis](https://campus.datacamp.com/courses/statistical-thinking-in-python-part-2/bootstrap-confidence-intervals?ex=1).\n",
    "\n",
    "Even if you've taken these courses you will still find this project challenging unless you use some external _documentation_. Here is a [pandas cheat sheet](https://github.com/pandas-dev/pandas/blob/master/doc/cheatsheet/Pandas_Cheat_Sheet.pdf) summarizing the basics of pandas DataFrames. (You could also look at the [official pandas documentation](https://pandas.pydata.org/pandas-docs/stable/index.html) but be aware that it is _very technical_).\n",
    "\n",
    "Finally, know that _Google is your friend_ and a good search pattern is **example of ??? in pandas** where **???** is whatever you need to do. For example, if you need to read in a csv file you could search for [example of reading a csv file in pandas](http://www.google.com/search?q=example+of+reading+a+csv+file+in+pandas)."
   ]
  },
  {
   "cell_type": "markdown",
   "id": "other-quest",
   "metadata": {},
   "source": [
    "# Task 2: Instructions\n",
    "\n",
    "Calculate the yearly proportion of deaths.\n",
    "\n",
    "- Calculate the proportion of `deaths` per number of `births` and store the result in a new column named `proportion_deaths`.\n",
    "- Extract the rows from Clinic 1 into `clinic_1` and the rows from Clinic 2 into `clinic_2`.\n",
    "- Print out `clinic_1`.\n",
    "\n",
    "Here you need to be able to \"pick out\" or _subset_ rows and columns in the `yearly` DataFrame. How to do that can be glanced from the [pandas cheat sheet](https://github.com/pandas-dev/pandas/blob/master/doc/cheatsheet/Pandas_Cheat_Sheet.pdf) under the headings **Subset observations** and **Subset Variables**."
   ]
  },
  {
   "cell_type": "markdown",
   "id": "dense-competition",
   "metadata": {},
   "source": [
    "# Task 3: Instructions\n",
    "\n",
    "Plot the yearly proportion of deaths for both clinics.\n",
    "\n",
    "- Plot `proportion_deaths` by `year` for the two clinics in a single plot. Use the DataFrame `.plot()` method.\n",
    "    - Label the plotted lines using the `label` argument to `.plot()`.\n",
    "    - Change the y-axis label to `\"Proportion deaths\"` using the `ylabel` parameter in your second call of `.plot()`.\n",
    "- Save the Axes object returned by the `plot` method into the variable `ax`.\n",
    "\n",
    "For plotting it is easiest to use the `plot` method that is built into DataFrames. To get two lines into the same plot we need to use a trick you might not have seen before. If `df1` and `df2` are two DataFrames you can plot their data together like this:\n",
    "\n",
    "```\n",
    "ax = df1.plot(x=\"col_a\", y=\"col_b\",\n",
    "              label=\"df1\")\n",
    "df2.plot(x=\"col_a\", y=\"col_b\",\n",
    "         label=\"df2\", ax=ax, ylabel=\"Y Axis Label\")\n",
    "```\n",
    "\n",
    "By capturing the `ax` object and giving it as an argument in the plot statement we get both lines in the same plot."
   ]
  },
  {
   "cell_type": "markdown",
   "id": "realistic-spiritual",
   "metadata": {},
   "source": [
    "# Task 4: Instructions\n",
    "\n",
    "Load in the dataset with the monthly number of deaths for Clinic 1.\n",
    "\n",
    "- Read in `monthly_deaths.csv` and assign it to the variable `monthly`. Make sure to tell `read_csv` to parse the `date` column as a date.\n",
    "- Calculate the proportion of `deaths` per number of `births` and store the result in the new column `monthly[\"proportion_deaths\"]`.\n",
    "- Print out the first rows in `monthly` using the `.head()` method.\n",
    "\n",
    "The `read_csv()` function doesn't automatically detect which columns contain dates. You can tell `read_csv()` this by giving a list of the date columns as the optional argument `parse_dates`. For example, if `my_data.csv` is a csv-file with a date column `date` then you can read it in like this:\n",
    "\n",
    "```\n",
    "my_df = pd.read_csv(\"my_data.csv\", parse_dates=[\"date\"])\n",
    "```"
   ]
  },
  {
   "cell_type": "markdown",
   "id": "exclusive-birthday",
   "metadata": {},
   "source": [
    "# Task 5: Instructions\n",
    "\n",
    "Plot the monthly proportion of deaths for Clinic 1.\n",
    "\n",
    "- Plot `proportion_deaths` by `date` for the `monthly` date using the DataFrame `.plot()` method.\n",
    "    - Change the y-axis label to `\"Proportion deaths\"`.\n",
    "- Save the Axes object returned by the `.plot()` method into the variable `ax`."
   ]
  },
  {
   "cell_type": "markdown",
   "id": "commercial-masters",
   "metadata": {},
   "source": [
    "# Task 6: Instructions\n",
    "\n",
    "Make a plot that highlights the effect of handwashing. _The code to define `handwashing_start` is already provided to you using `pandas`' `to_datetime()` function_.\n",
    "\n",
    "- Split `monthly` into `before_washing` (the rows in `monthly` before `handwashing_start`) and `after_washing` (the rows in `monthly` at and after `handwashing_start`).\n",
    "- Using the same approach you used in Task 3, plot `proportion_deaths` in `before_washing` and `after_washing` into the same plot. Again, use the DataFrame `.plot()` method twice, saving the Axes object returned by the first call of `.plot()` into the variable `ax`.\n",
    "    - Label the plotted lines using the `label` argument to `.plot()`.\n",
    "    - Change the y-axis label to `\"Proportion deaths\"` in your second call of `.plot()`.\n",
    "\n",
    "Since the column `monthly[\"date\"]` was read in as a date column we can now compare it to other dates using the comparison operators (`<`, `>=`, `==`, etc.). For example, to pick out the row exactly at `handwashing_start` we could write:\n",
    "\n",
    "```\n",
    "at_washing = monthly[monthly[\"date\"] == handwashing_start]\n",
    "```"
   ]
  },
  {
   "cell_type": "markdown",
   "id": "raising-agriculture",
   "metadata": {},
   "source": [
    "# Task 7: Instructions\n",
    "\n",
    "Calculate the average reduction in proportion of deaths due to handwashing.\n",
    "\n",
    "- Select the column `proportion_deaths` in `before_washing` and assign it to `before_proportion`.\n",
    "- Do the same for `proportion_deaths` in `after_washing` and assign it to `after_proportion`.\n",
    "- Calculate the difference in mean monthly proportion of deaths as mean `after_proportion` minus mean `before_proportion`.\n",
    "\n",
    "For info on how to calculate the mean of `before_proportion` and `after_proportion` take a look under the heading **Summarize data** in the [pandas cheat sheet](https://github.com/pandas-dev/pandas/blob/master/doc/cheatsheet/Pandas_Cheat_Sheet.pdf)."
   ]
  },
  {
   "cell_type": "markdown",
   "id": "dimensional-brave",
   "metadata": {},
   "source": [
    "# Task 8: Instructions\n",
    "\n",
    "Make a bootstrap analysis of the difference in mean monthly proportion of deaths.\n",
    "\n",
    "- Within your `for` loop:\n",
    "    - `boot_before` and `boot_after` should be sampled with replacement from `before_proportion` and `after_proportion`.\n",
    "    - The difference in means should be appended to `boot_mean_diff`.\n",
    "- Calculate a 95% `confidence_interval` as the 2.5% and 97.5% quantiles of `boot_mean_diff`.\n",
    "\n",
    "A bootstrap analysis is a quick way of getting at the uncertainty of an estimate, in your case the estimate is the `mean_diff` you calculated in Task 7. A bootstrap analysis works by _simulating_ redoing the data collection by drawing randomly from the data and allowing a value to be drawn many times. Using a `pandas` column `my_col` (also called a Series), this can be done like this:\n",
    "\n",
    "```\n",
    "boot_col = my_col.sample(frac=1, replace=True)\n",
    "```\n",
    "\n",
    "The estimate is then calculated using `boot_col` instead of `my_col`. This process is repeated a large number of times and the distribution of the bootstrapped estimates represents the uncertainty around the original estimate. If `boot_mean` is a list of bootstrap estimates you can calculate a 95% confidence interval using `pandas`:\n",
    "\n",
    "```\n",
    "pd.Series(boot_mean).quantile([0.025, 0.975])\n",
    "```\n",
    "\n",
    "If you want to learn more about how the bootstrap works you should check out the course [Statistical Thinking in Python (Part 2)](https://www.datacamp.com/courses/statistical-thinking-in-python-part-2)!"
   ]
  },
  {
   "cell_type": "markdown",
   "id": "agreed-auckland",
   "metadata": {},
   "source": [
    "# Task 9: Instructions\n",
    "\n",
    "- Given the data Semmelweis collected, is it `True` or `False` that doctors should wash their hands?\n",
    "\n",
    "Congratulations, you've made it this far! If you haven't tried it already, you should **check** your project now.\n",
    "\n",
    "Good luck! :)"
   ]
  }
 ],
 "metadata": {
  "kernelspec": {
   "display_name": "Python 3",
   "language": "python",
   "name": "python3"
  },
  "language_info": {
   "codemirror_mode": {
    "name": "ipython",
    "version": 3
   },
   "file_extension": ".py",
   "mimetype": "text/x-python",
   "name": "python",
   "nbconvert_exporter": "python",
   "pygments_lexer": "ipython3",
   "version": "3.8.5"
  },
  "toc": {
   "base_numbering": 1,
   "nav_menu": {},
   "number_sections": false,
   "sideBar": true,
   "skip_h1_title": false,
   "title_cell": "Table of Contents",
   "title_sidebar": "Contents",
   "toc_cell": false,
   "toc_position": {},
   "toc_section_display": true,
   "toc_window_display": false
  },
  "varInspector": {
   "cols": {
    "lenName": 16,
    "lenType": 16,
    "lenVar": 40
   },
   "kernels_config": {
    "python": {
     "delete_cmd_postfix": "",
     "delete_cmd_prefix": "del ",
     "library": "var_list.py",
     "varRefreshCmd": "print(var_dic_list())"
    },
    "r": {
     "delete_cmd_postfix": ") ",
     "delete_cmd_prefix": "rm(",
     "library": "var_list.r",
     "varRefreshCmd": "cat(var_dic_list()) "
    }
   },
   "types_to_exclude": [
    "module",
    "function",
    "builtin_function_or_method",
    "instance",
    "_Feature"
   ],
   "window_display": false
  }
 },
 "nbformat": 4,
 "nbformat_minor": 5
}
