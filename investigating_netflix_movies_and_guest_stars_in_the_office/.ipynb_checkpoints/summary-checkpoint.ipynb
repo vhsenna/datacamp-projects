{
 "cells": [
  {
   "cell_type": "markdown",
   "id": "invalid-raleigh",
   "metadata": {},
   "source": [
    "# Investigating Netflix Movies and Guest Stars in The Office\n",
    "\n",
    "Apply the foundational Python skills you learned in Introduction to Python and Intermediate Python by manipulating and visualizing movie and TV data.\n",
    "\n",
    "## Project Description\n",
    "\n",
    "In this project, you’ll apply the skills you learned in Introduction to Python and Intermediate Python to solve a real-world data science problem. You’ll press “watch next episode” to discover if Netflix’s movies are getting shorter over time and which guest stars appear in the most popular episode of \"The Office\", using everything from lists and loops to pandas and matplotlib.\n",
    "\n",
    "You’ll also gain experience in an essential data science skill — exploratory data analysis. This will allow you to perform critical tasks such as manipulating raw data and drawing conclusions from plots you create of the data. Press play to begin!\n",
    "\n",
    "## Guided\n",
    "\n",
    "Dig into a real-world Netflix movie dataset using everything from lists and loops to pandas and matplotlib. Press play to begin!\n",
    "\n",
    "### Project Tasks\n",
    "\n",
    "1. Loading your friend's data into a dictionary\n",
    "2. Creating a DataFrame from a dictionary\n",
    "3. A visual inspection of our data\n",
    "4. Loading the rest of the data from a CSV\n",
    "5. Filtering for movies!\n",
    "6. Creating a scatter plot\n",
    "7. Digging deeper\n",
    "8. Marking non-feature films\n",
    "9. Plotting with color!\n",
    "10. What next?\n",
    "\n",
    "## Unguided\n",
    "\n",
    "Bring together a wide variety of skills from Intermediate Python to prepare and plot data on the history of the sitcom The Office."
   ]
  }
 ],
 "metadata": {
  "kernelspec": {
   "display_name": "Python 3",
   "language": "python",
   "name": "python3"
  },
  "language_info": {
   "codemirror_mode": {
    "name": "ipython",
    "version": 3
   },
   "file_extension": ".py",
   "mimetype": "text/x-python",
   "name": "python",
   "nbconvert_exporter": "python",
   "pygments_lexer": "ipython3",
   "version": "3.8.5"
  },
  "toc": {
   "base_numbering": 1,
   "nav_menu": {},
   "number_sections": false,
   "sideBar": true,
   "skip_h1_title": false,
   "title_cell": "Table of Contents",
   "title_sidebar": "Contents",
   "toc_cell": false,
   "toc_position": {},
   "toc_section_display": true,
   "toc_window_display": false
  },
  "varInspector": {
   "cols": {
    "lenName": 16,
    "lenType": 16,
    "lenVar": 40
   },
   "kernels_config": {
    "python": {
     "delete_cmd_postfix": "",
     "delete_cmd_prefix": "del ",
     "library": "var_list.py",
     "varRefreshCmd": "print(var_dic_list())"
    },
    "r": {
     "delete_cmd_postfix": ") ",
     "delete_cmd_prefix": "rm(",
     "library": "var_list.r",
     "varRefreshCmd": "cat(var_dic_list()) "
    }
   },
   "types_to_exclude": [
    "module",
    "function",
    "builtin_function_or_method",
    "instance",
    "_Feature"
   ],
   "window_display": false
  }
 },
 "nbformat": 4,
 "nbformat_minor": 5
}
