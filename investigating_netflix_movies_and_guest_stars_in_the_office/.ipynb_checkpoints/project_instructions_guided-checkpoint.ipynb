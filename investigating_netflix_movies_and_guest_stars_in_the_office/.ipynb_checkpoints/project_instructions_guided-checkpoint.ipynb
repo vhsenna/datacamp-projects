{
 "cells": [
  {
   "cell_type": "markdown",
   "id": "animal-degree",
   "metadata": {},
   "source": [
    "# Task 1: Instructions\n",
    "\n",
    "Use our friend's data to create a dictionary. To do so, you will need to perform the following steps.\n",
    "\n",
    "- Create a list of `years` from 2011 to 2020 and a list `durations` of the average movie lengths our friend provided (103, 101, 99, 100, 100, 95, 95, 96, 93, and 90).\n",
    "- Create a dictionary `movie_dict`, with the keys `\"years\"` and `\"durations\"` and the values set to your lists `years` and `durations`.\n",
    "- Print and inspect the dictionary to ensure it was created correctly."
   ]
  },
  {
   "cell_type": "markdown",
   "id": "fresh-coral",
   "metadata": {},
   "source": [
    "# Task 2: Instructions\n",
    "\n",
    "- Import `pandas` using its usual alias, `pd`.\n",
    "- Create a DataFrame `durations_df` using your `movie_dict` dictionary you created in the previous step.\n",
    "- Print the entire DataFrame."
   ]
  },
  {
   "cell_type": "markdown",
   "id": "prime-charger",
   "metadata": {},
   "source": [
    "# Task 3: Instructions\n",
    "\n",
    "- Import `matplotlib.pyplot` under the alias `plt`.\n",
    "- Create a line plot of the data with the `years` column of `durations_df` on the x-axis, and the `durations` column on the y-axis.\n",
    "- Add the title `\"Netflix Movie Durations 2011-2020\"` to your plot."
   ]
  },
  {
   "cell_type": "markdown",
   "id": "stupid-monster",
   "metadata": {},
   "source": [
    "# Task 4: Instructions\n",
    "\n",
    "- Create another DataFrame, `netflix_df`, this time using the CSV file our friend provided us with, available at the path `\"datasets/netflix_data.csv\"`.\n",
    "- Print the first five rows of the DataFrame to inspect the data and ensure it was created successfully."
   ]
  },
  {
   "cell_type": "markdown",
   "id": "informational-chile",
   "metadata": {},
   "source": [
    "# Task 5: Instructions\n",
    "\n",
    "- Subset the `netflix_df` DataFrame such that only **rows** where the `type` is a `\"Movie\"` are preserved. Assign the result to `netflix_df_movies_only`.\n",
    "- Subset the `netflix_df_movies_only` DataFrame to preserve only the **columns** `title`, `country`, `genre`, `release_year`, and `duration`. Assign the result to `netflix_movies_col_subset`.\n",
    "- Print the first five rows of `netflix_movies_col_subset`."
   ]
  },
  {
   "cell_type": "markdown",
   "id": "ideal-fountain",
   "metadata": {},
   "source": [
    "# Task 6: Instructions\n",
    "\n",
    "- Using your `netflix_movies_col_subset` DataFrame, create a scatter plot, placing the `release_year` on the x-axis and the movie `duration` on the y-axis.\n",
    "- Add a title to your plot: `\"Movie Duration by Year of Release\"`.\n",
    "- Show the plot."
   ]
  },
  {
   "cell_type": "markdown",
   "id": "metropolitan-tower",
   "metadata": {},
   "source": [
    "# Task 7: Instructions\n",
    "\n",
    "- Subset `netflix_movies_col_subset` to create a new DataFrame `short_movies` containing only movies that have a `duration` fewer than 60 minutes.\n",
    "- Print the first 20 rows of `short_movies` to get a good overview of the types of films with a short duration."
   ]
  },
  {
   "cell_type": "markdown",
   "id": "sweet-entertainment",
   "metadata": {},
   "source": [
    "# Task 8: Instructions\n",
    "\n",
    "- Initialize an empty list called `colors` to store our different color values.\n",
    "- Use a `for` loop to iterate through the `netflix_movies_col_subset` DataFrame's rows and append `colors` to your colors list based on the following conditions:\n",
    "    - If the `genre` is `\"Children\"`, append `\"red\"`.\n",
    "    - If the `genre` is `\"Documentaries\"`, append `\"blue\"`.\n",
    "    - If the `genre` is `\"Stand-Up\"`, append `\"green\"`.\n",
    "    - If the `genre` is any other genre, append `\"black\"`.\n",
    "- Print the first 10 values of your `colors` list to inspect the results."
   ]
  },
  {
   "cell_type": "markdown",
   "id": "touched-grenada",
   "metadata": {},
   "source": [
    "# Task 9: Instructions\n",
    "\n",
    "- Using the data contained in `netflix_movies_col_subset`, plot the same scatter plot as you did in Task 6, but with a few modifications:\n",
    "    - Color the points on the scatter plot using your `colors` list you defined in the previous step.\n",
    "    - Add a title `\"Movie duration by year of release\"`, an x-axis label `\"Release year\"`, and a y-axis label `\"Duration (min)\"`.\n",
    "- Show the plot."
   ]
  },
  {
   "cell_type": "markdown",
   "id": "talented-equipment",
   "metadata": {},
   "source": [
    "# Task 10: Instructions\n",
    "\n",
    "Provide your answer to the question \"Are we certain that movies are getting shorter?\" in the form of a string. "
   ]
  }
 ],
 "metadata": {
  "kernelspec": {
   "display_name": "Python 3",
   "language": "python",
   "name": "python3"
  },
  "language_info": {
   "codemirror_mode": {
    "name": "ipython",
    "version": 3
   },
   "file_extension": ".py",
   "mimetype": "text/x-python",
   "name": "python",
   "nbconvert_exporter": "python",
   "pygments_lexer": "ipython3",
   "version": "3.8.5"
  },
  "toc": {
   "base_numbering": 1,
   "nav_menu": {},
   "number_sections": false,
   "sideBar": true,
   "skip_h1_title": false,
   "title_cell": "Table of Contents",
   "title_sidebar": "Contents",
   "toc_cell": false,
   "toc_position": {},
   "toc_section_display": true,
   "toc_window_display": false
  },
  "varInspector": {
   "cols": {
    "lenName": 16,
    "lenType": 16,
    "lenVar": 40
   },
   "kernels_config": {
    "python": {
     "delete_cmd_postfix": "",
     "delete_cmd_prefix": "del ",
     "library": "var_list.py",
     "varRefreshCmd": "print(var_dic_list())"
    },
    "r": {
     "delete_cmd_postfix": ") ",
     "delete_cmd_prefix": "rm(",
     "library": "var_list.r",
     "varRefreshCmd": "cat(var_dic_list()) "
    }
   },
   "types_to_exclude": [
    "module",
    "function",
    "builtin_function_or_method",
    "instance",
    "_Feature"
   ],
   "window_display": false
  }
 },
 "nbformat": 4,
 "nbformat_minor": 5
}
