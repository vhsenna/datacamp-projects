{
 "cells": [
  {
   "cell_type": "markdown",
   "id": "leading-daisy",
   "metadata": {},
   "source": [
    "# Instructions\n",
    "\n",
    "Data visualization is often a great way to start exploring your data and uncovering insights. In this notebook, you will initiate this process by creating an informative plot of the episode data provided to you. In doing so, you're going to work on several different variables, including the episode number, the viewership, the fan rating, and guest appearances. Here are the requirements needed to pass this project:\n",
    "\n",
    "1. Create a `matplotlib` **scatter plot** of the data that contains the following attributes:\n",
    "\n",
    "    1. Each episode's **episode number plotted along the x-axis**.\n",
    "    2. Each episode's **viewership (in millions) plotted along the y-axis**.\n",
    "    3. A **color scheme** reflecting the **scaled ratings** (not the regular ratings) of each episode, such that:\n",
    "        1. Ratings < 0.25 are colored `\"red\"`.\n",
    "        2. Ratings >= 0.25 and < 0.50 are colored `\"orange\"`.\n",
    "        3. Ratings >= 0.50 and < 0.75 are colored `\"lightgreen\"`.\n",
    "        4. Ratings >= 0.75 are colored `\"darkgreen\"`.\n",
    "    4. A **sizing system**, such that episodes with guest appearances have a marker size of `250` and episodes without are sized `25`.\n",
    "    5. A **title**, reading `\"Popularity, Quality, and Guest Appearances on the Office\"`.\n",
    "    6. An **x-axis label** reading `\"Episode Number\"`.\n",
    "    7. A **y-axis label** reading `\"Viewership (Millions)\"`.\n",
    "\n",
    "2. Provide the name of one of the guest stars (hint, there were multiple!) who was in the most watched Office episode. Save it as a string in the variable `top_star` (e.g. `top_star = \"Will Ferrell\"`).\n",
    "\n",
    "## **Important!**\n",
    "\n",
    "To test your `matplotlib` plot, you will need to initalize a `matplotlib.pyplot` `fig` object, which you can do using the code `fig = plt.figure()` (provided you have imported `matplotlib.pyplot` as `plt`). In addition, in order to test it correctly, **please make sure to specify your plot (including the type, data, labels, etc) in the same cell as the one you initialize your figure** (`fig`)! _You are still free to use other cells to load data, experiment, and answer Question 2_.\n",
    "\n",
    "_In addition, if you want to be able to see a larger version of your plot, you can set the figure size parameters using this code (provided again you have imported `matplotlib.pyplot` as `plt`):_\n",
    "\n",
    "```\n",
    "plt.rcParams['figure.figsize'] = [11, 7]\n",
    "```\n",
    "\n",
    "## **Bonus Step!**\n",
    "\n",
    "Although it was not taught in Intermediate Python, a useful skill for visualizing different data points is to use a different marker. You can learn more about them via the [Matplotlib documentation](https://matplotlib.org/api/markers_api.html) or via our course [Introduction to Data Visualization with Matplotlib](https://learn.datacamp.com/courses/introduction-to-data-visualization-with-matplotlib). Thus, as a bonus step, try to differentiate guest appearances not just with size, but also with a star!\n",
    "\n",
    "All other attributes still apply (data on the axes, color scheme, sizes for guest appearances, title, and axis labels)."
   ]
  }
 ],
 "metadata": {
  "kernelspec": {
   "display_name": "Python 3",
   "language": "python",
   "name": "python3"
  },
  "language_info": {
   "codemirror_mode": {
    "name": "ipython",
    "version": 3
   },
   "file_extension": ".py",
   "mimetype": "text/x-python",
   "name": "python",
   "nbconvert_exporter": "python",
   "pygments_lexer": "ipython3",
   "version": "3.8.5"
  },
  "toc": {
   "base_numbering": 1,
   "nav_menu": {},
   "number_sections": false,
   "sideBar": true,
   "skip_h1_title": false,
   "title_cell": "Table of Contents",
   "title_sidebar": "Contents",
   "toc_cell": false,
   "toc_position": {},
   "toc_section_display": true,
   "toc_window_display": false
  },
  "varInspector": {
   "cols": {
    "lenName": 16,
    "lenType": 16,
    "lenVar": 40
   },
   "kernels_config": {
    "python": {
     "delete_cmd_postfix": "",
     "delete_cmd_prefix": "del ",
     "library": "var_list.py",
     "varRefreshCmd": "print(var_dic_list())"
    },
    "r": {
     "delete_cmd_postfix": ") ",
     "delete_cmd_prefix": "rm(",
     "library": "var_list.r",
     "varRefreshCmd": "cat(var_dic_list()) "
    }
   },
   "types_to_exclude": [
    "module",
    "function",
    "builtin_function_or_method",
    "instance",
    "_Feature"
   ],
   "window_display": false
  }
 },
 "nbformat": 4,
 "nbformat_minor": 5
}
