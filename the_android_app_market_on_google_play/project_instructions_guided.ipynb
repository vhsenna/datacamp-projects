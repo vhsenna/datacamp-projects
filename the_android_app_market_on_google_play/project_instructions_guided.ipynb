{
 "cells": [
  {
   "cell_type": "markdown",
   "id": "sound-hungarian",
   "metadata": {},
   "source": [
    "# Task 1: Instructions\n",
    "\n",
    "Import the data, drop duplicate rows, and inspect the data.\n",
    "\n",
    "- Load `datasets/apps.csv` into a DataFrame and assign it to the variable `apps_with_duplicates`.\n",
    "\n",
    "- Drop all duplicate rows from `apps_with_duplicates` and assign the result to `apps`.\n",
    "\n",
    "- Print the total number of apps.\n",
    "\n",
    "- Display and inspect the `apps` dataframe for issues such as missing values. Which columns have missing (null) values? **Make a note of the 4 columns that have missing values: `Rating`, `Size`, `Current Ver`, `Android Ver`. We will deal with this later in Task #5**.\n",
    "\n",
    "- Finally, display a random sample of 5 rows from `apps`.\n",
    "\n",
    "## Good to know\n",
    "\n",
    "This project lets you apply the skills from [Joining Data with pandas](https://www.datacamp.com/courses/joining-data-with-pandas). We recommend that you take this course before starting this project.\n",
    "\n",
    "The [data](https://www.kaggle.com/lava18/google-play-store-apps) for this project was scraped from the [Google Play](https://play.google.com/store/apps?hl=en) website. While there are many popular datasets for Apple App Store, there aren't many for Google Play apps, which is partially due to the increased difficulty in scraping the latter as compared to the former.\n",
    "\n",
    "A good practice is to always use the `info()` [documentation](https://pandas.pydata.org/pandas-docs/stable/reference/api/pandas.DataFrame.info.html) function on your dataframe before beginning any analysis. This method prints information about the dataframe including the column data types, non-null values and memory usage.\n",
    "\n",
    "Helpful links:\n",
    "\n",
    "- pandas `read_csv()` [documentation](https://pandas.pydata.org/pandas-docs/version/0.17.0/generated/pandas.read_csv.html)\n",
    "- pandas `drop_duplicates()` [documentation](https://pandas.pydata.org/pandas-docs/version/0.17/generated/pandas.DataFrame.drop_duplicates.html)\n",
    "\n",
    "*Note: This project also uses the plotting libraries [Seaborn](https://seaborn.pydata.org/) and [Plotly](https://plotly.com/python/) to help visualize the results of some steps. However, the tasks have been written in such a way that you should be able to complete them without any prior experience.*"
   ]
  },
  {
   "cell_type": "markdown",
   "id": "color-optimization",
   "metadata": {},
   "source": [
    "# Task 2: Instructions\n",
    "Clean the dataset.\n",
    "\n",
    "- Create a list named `chars_to_remove` that contains the following characters: `+`, `,` and `$`.\n",
    "\n",
    "- Create a list named `cols_to_clean` that contains the following column names: `Installs` and `Price`.\n",
    "\n",
    "- For each column in `cols_to_clean` in the `apps` DataFrame, replace each character in `chars_to_remove` with the empty string `''`. \n",
    "\n",
    "**Note: Make sure to use an empty string `''` and not a space character `' '`**\n",
    "\n",
    "- Finally, convert `Installs` and `Price` columns to `float` data type using `astype()` function.\n",
    "\n",
    "Helpful links:\n",
    "\n",
    "- `astype()` [documentation](https://pandas.pydata.org/docs/reference/api/pandas.Series.astype.html)"
   ]
  },
  {
   "cell_type": "markdown",
   "id": "associate-serial",
   "metadata": {},
   "source": [
    "# Task 3: Instructions\n",
    "\n",
    "Create data for a bar chart that shows the distribution of apps across different categories.\n",
    "\n",
    "- Find the number of unique app categories. Save your result in `num_categories`.\n",
    "\n",
    "- Count the number of apps in each category and sort the categories in descending order of app count. Save your answer in `num_apps_in_category`.\n",
    "\n",
    "Helpful links:\n",
    "\n",
    "- `unique()` [documentation](https://pandas.pydata.org/pandas-docs/stable/reference/api/pandas.Series.unique.html)\n",
    "\n",
    "- `value_counts()` [documentation](https://pandas.pydata.org/pandas-docs/stable/generated/pandas.Series.value_counts.html)\n",
    "\n",
    "- `sort_values()` [documentation](https://pandas.pydata.org/pandas-docs/stable/reference/api/pandas.DataFrame.sort_values.html)"
   ]
  },
  {
   "cell_type": "markdown",
   "id": "controlling-reply",
   "metadata": {},
   "source": [
    "# Task 4: Instructions\n",
    "\n",
    "Create a plot annotation for average app rating.\n",
    "\n",
    "- Find the average app rating and assign it to `avg_app_rating`.\n",
    "\n",
    "Helpful links:\n",
    "\n",
    "- `mean()` [documentation](https://pandas.pydata.org/pandas-docs/stable/reference/api/pandas.Series.mean.html)\n",
    "\n",
    "- Plotly histogram [documentation](https://plot.ly/python/histograms/)"
   ]
  },
  {
   "cell_type": "markdown",
   "id": "fossil-piece",
   "metadata": {},
   "source": [
    "# Task 5: Instructions\n",
    "\n",
    "Examine the relationship between size, price, and rating of apps using `jointplot()`.\n",
    "\n",
    "Recall from Task #1 that we had observed some missing values in the `Rating` and `Size` columns. To make rational decisions, it is important that we do not consider these missing values in our analysis. We will work with a subset `apps_with_size_and_rating_present` DataFrame for this task.\n",
    "\n",
    "- Select rows from `apps` where both `Rating` and `Size` values are present, ie - they are not null. Store the result in the `apps_with_size_and_rating_present` dataframe.\n",
    "\n",
    "- From `apps_with_size_and_rating_present`, select the categories having atleast `250` apps. Assign the result to `large_categories` dataframe.\n",
    "\n",
    "- Fill out `x` and `y` to create a joint plot of `Rating` as a function of `Size`.\n",
    "\n",
    "- From `apps_with_size_and_rating_present` dataframe, select all `Paid` apps. Save the result in `paid_apps`.\n",
    "\n",
    "- Fill out `x` and `y` to create a joint plot of `Rating` as a function of `Price`.\n",
    "\n",
    "Helpful links:\n",
    "\n",
    "- There are many ways to subset a dataframe and select rows based on a column value. [This exercise](https://campus.datacamp.com/courses/data-manipulation-with-pandas/transforming-data?ex=7) from Data Manipulation with pandas may be a good starting place.\n",
    "\n",
    "- `jointplot()` [documentation](https://seaborn.pydata.org/generated/seaborn.jointplot.html)"
   ]
  },
  {
   "cell_type": "markdown",
   "id": "irish-victor",
   "metadata": {},
   "source": [
    "# Task 6: Instructions\n",
    "\n",
    "Use a strip plot to visualize the distribution of paid apps across different categories.\n",
    "\n",
    "- Plot a strip plot with x-axis extending along the `Price` range and y-axis depicting the `Category`.\n",
    "\n",
    "- Find apps priced above `$200`. Print the `Category`, `App` and `Price` columns for such apps.\n",
    "\n",
    "Here are some interesting websites that can estimate app price:\n",
    "\n",
    "- [Estimate my app](https://estimatemyapp.com/)\n",
    "\n",
    "- [How much to make an app](http://howmuchtomakeanapp.com/)\n",
    "\n",
    "Helpful links:\n",
    "\n",
    "- `stripplot()` [documentation](https://seaborn.pydata.org/generated/seaborn.stripplot.html)\n",
    "\n",
    "- [Filter rows](https://cmdlinetips.com/2018/02/how-to-subset-pandas-dataframe-based-on-values-of-a-column/) in pandas"
   ]
  },
  {
   "cell_type": "markdown",
   "id": "another-annex",
   "metadata": {},
   "source": [
    "# Task 7: Instructions\n",
    "\n",
    "Filter out \"junk\" apps.\n",
    "\n",
    "**Note: For simplicity, we will continue to use the `popular_app_cats` dataframe (from previous task) and not our original dataframe `apps`**\n",
    "\n",
    "- Select rows from `popular_app_cats` that contain apps priced below $100 and assign it to `apps_under_100`.\n",
    "\n",
    "- Re-plot your strip plot using `apps_under_100` dataframe (instead of `popular_app_cats` used in the previous task)."
   ]
  },
  {
   "cell_type": "markdown",
   "id": "chubby-burner",
   "metadata": {},
   "source": [
    "# Task 8: Instructions\n",
    "\n",
    "Prep the data for a box plot that compares the number of installs of paid apps vs. number of installs of free apps.\n",
    "\n",
    "- From `apps`, filter rows where for `Type` == `Paid`, and select the `Installs` column and assign it to `y` of `trace0`.\n",
    "\n",
    "- From `apps`, filter rows where for `Type` == `Free`, and select the `Installs` column and assign it to `y` of `trace1`.\n",
    "\n",
    "Helpful links:\n",
    "\n",
    "- Plotly box plot [documentation](https://plot.ly/python/box-plots/)\n",
    "- Interpreting box plots [article](https://www.wellbeingatschool.org.nz/information-sheet/understanding-and-interpreting-box-plots)"
   ]
  },
  {
   "cell_type": "markdown",
   "id": "heated-animation",
   "metadata": {},
   "source": [
    "# Task 9: Instructions\n",
    "\n",
    "Load the user review data and plot it to visualize sentiment of paid vs. free apps.\n",
    "\n",
    "- Read `datasets/user_reviews.csv` into the `reviews_df` DataFrame.\n",
    "\n",
    "- Merge `apps` and `reviews_df` DataFrames and assign the result to `merged_df`.\n",
    "\n",
    "- Create a box plot with `Type` on the x-axis and `Sentiment_Polarity` on the y-axis.\n",
    "\n",
    "If you'd like to learn more about sentiment analysis, check out DataCamp's [Natural Language Processing Fundamentals in Python](https://www.datacamp.com/courses/natural-language-processing-fundamentals-in-python) course.\n",
    "\n",
    "Helpful links:\n",
    "\n",
    "- pandas `merge()` function [documentation](https://pandas.pydata.org/pandas-docs/stable/generated/pandas.DataFrame.merge.html)\n",
    "- `boxplot()` [documentation](https://seaborn.pydata.org/generated/seaborn.boxplot.html)"
   ]
  }
 ],
 "metadata": {
  "kernelspec": {
   "display_name": "Python 3",
   "language": "python",
   "name": "python3"
  },
  "language_info": {
   "codemirror_mode": {
    "name": "ipython",
    "version": 3
   },
   "file_extension": ".py",
   "mimetype": "text/x-python",
   "name": "python",
   "nbconvert_exporter": "python",
   "pygments_lexer": "ipython3",
   "version": "3.8.5"
  },
  "toc": {
   "base_numbering": 1,
   "nav_menu": {},
   "number_sections": false,
   "sideBar": true,
   "skip_h1_title": false,
   "title_cell": "Table of Contents",
   "title_sidebar": "Contents",
   "toc_cell": false,
   "toc_position": {},
   "toc_section_display": true,
   "toc_window_display": false
  },
  "varInspector": {
   "cols": {
    "lenName": 16,
    "lenType": 16,
    "lenVar": 40
   },
   "kernels_config": {
    "python": {
     "delete_cmd_postfix": "",
     "delete_cmd_prefix": "del ",
     "library": "var_list.py",
     "varRefreshCmd": "print(var_dic_list())"
    },
    "r": {
     "delete_cmd_postfix": ") ",
     "delete_cmd_prefix": "rm(",
     "library": "var_list.r",
     "varRefreshCmd": "cat(var_dic_list()) "
    }
   },
   "types_to_exclude": [
    "module",
    "function",
    "builtin_function_or_method",
    "instance",
    "_Feature"
   ],
   "window_display": false
  }
 },
 "nbformat": 4,
 "nbformat_minor": 5
}
