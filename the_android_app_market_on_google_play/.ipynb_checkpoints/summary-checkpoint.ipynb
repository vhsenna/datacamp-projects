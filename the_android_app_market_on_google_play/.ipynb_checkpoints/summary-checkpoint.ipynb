{
 "cells": [
  {
   "cell_type": "markdown",
   "id": "flexible-democracy",
   "metadata": {},
   "source": [
    "# The Android App Market on Google Play\n",
    "\n",
    "Load, clean, and visualize scraped Google Play Store data to gain insights into the Android app market.\n",
    "\n",
    "## Project Description\n",
    "\n",
    "Mobile apps are everywhere. They are easy to create and can be lucrative. Because of these two factors, more and more apps are being developed. In this project, you will do a comprehensive analysis of the Android app market by comparing over ten thousand apps in Google Play across different categories. You'll look for insights in the data to devise strategies to drive growth and retention. The [data](https://www.kaggle.com/lava18/google-play-store-apps) for this project was scraped from the [Google Play](https://play.google.com/store/apps?hl=en) website. While there are many popular datasets for Apple App Store, there aren't many for Google Play apps, which is partially due to the increased difficulty in scraping the latter as compared to the former. The data files are as follows:\n",
    "\n",
    "- `apps.csv`: contains all the details of the apps on Google Play. These are the features that describe an app.\n",
    "- `user_reviews.csv`: contains 100 reviews for each app, [most helpful first](https://www.androidpolice.com/2019/01/21/google-play-stores-redesigned-ratings-and-reviews-section-lets-you-easily-filter-by-star-rating/). The text in each review has been pre-processed, passed through a sentiment analyzer engine and tagged with its sentiment score.\n",
    "\n",
    "## Guided Project\n",
    "\n",
    "Through a series of guided steps, harness your complete data analyst toolbox to perform data wrangling, create visualizations, and carry out a descriptive and inferential analysis.\n",
    "\n",
    "### Project Tasks\n",
    "\n",
    "1. Google Play Store apps and reviews\n",
    "2. Data cleaning\n",
    "3. Exploring app categories\n",
    "4. Distribution of app ratings\n",
    "5. Size and price of an app\n",
    "6. Relation between app category and app price\n",
    "7. Filter out \"junk\" apps\n",
    "8. Popularity of paid apps vs free apps\n",
    "9. Sentiment analysis of user reviews\n",
    "\n",
    "## Unguided Project\n",
    "\n",
    "Deconstruct information and draw inferences from a large dataset of Google Play apps and user reviews, using your data manipulation and analytical skills."
   ]
  }
 ],
 "metadata": {
  "kernelspec": {
   "display_name": "Python 3",
   "language": "python",
   "name": "python3"
  },
  "language_info": {
   "codemirror_mode": {
    "name": "ipython",
    "version": 3
   },
   "file_extension": ".py",
   "mimetype": "text/x-python",
   "name": "python",
   "nbconvert_exporter": "python",
   "pygments_lexer": "ipython3",
   "version": "3.8.5"
  },
  "toc": {
   "base_numbering": 1,
   "nav_menu": {},
   "number_sections": false,
   "sideBar": true,
   "skip_h1_title": false,
   "title_cell": "Table of Contents",
   "title_sidebar": "Contents",
   "toc_cell": false,
   "toc_position": {},
   "toc_section_display": true,
   "toc_window_display": false
  },
  "varInspector": {
   "cols": {
    "lenName": 16,
    "lenType": 16,
    "lenVar": 40
   },
   "kernels_config": {
    "python": {
     "delete_cmd_postfix": "",
     "delete_cmd_prefix": "del ",
     "library": "var_list.py",
     "varRefreshCmd": "print(var_dic_list())"
    },
    "r": {
     "delete_cmd_postfix": ") ",
     "delete_cmd_prefix": "rm(",
     "library": "var_list.r",
     "varRefreshCmd": "cat(var_dic_list()) "
    }
   },
   "types_to_exclude": [
    "module",
    "function",
    "builtin_function_or_method",
    "instance",
    "_Feature"
   ],
   "window_display": false
  }
 },
 "nbformat": 4,
 "nbformat_minor": 5
}
