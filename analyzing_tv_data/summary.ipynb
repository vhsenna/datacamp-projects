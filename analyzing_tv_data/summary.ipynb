{
 "cells": [
  {
   "cell_type": "markdown",
   "id": "radical-symphony",
   "metadata": {},
   "source": [
    "# Analyzing TV Data\n",
    "\n",
    "Use data manipulation and visualization to explore one of two different television broadcast datasets: The Super Bowl and hit sitcom The Office!\n",
    "\n",
    "## Project Description\n",
    "\n",
    "With Intermediate Python under your belt, you can already analyze and extract meaningful insights from various sources. For this set of projects, you will use a combination of data manipulation and visualization to explore television data.\n",
    "\n",
    "In this project's guided variant, you will look at Super Bowl Data, generating insights into game outcomes, viewership, and even halftime shows. In the unguided variant of this project, you'll develop an informative plot that helps to visualize the viewership and quality of The Office throughout its nine seasons.\n",
    "\n",
    "## Guided Project\n",
    "\n",
    "Bring together a wide variety of skills from Intermediate Python to explore Super Bowl TV data, including viewership numbers and halftime shows!\n",
    "\n",
    "## Unguided Project\n",
    "\n",
    "Bring together a wide variety of skills from Intermediate Python to prepare and plot data on the history of the sitcom The Office!\n",
    "\n",
    "### Project Tasks\n",
    "\n",
    "1. TV, halftime shows, and the Big Game\n",
    "2. Taking note of dataset issues\n",
    "3. Combined points distribution\n",
    "4. Point difference distribution\n",
    "5. Do blowouts translate to lost viewers?\n",
    "6. Viewership and the ad industry over time\n",
    "7. Halftime shows weren't always this great\n",
    "8. Who has the most halftime show appearances?\n",
    "9. Who performed the most songs in a halftime show?\n",
    "10. Conclusion"
   ]
  }
 ],
 "metadata": {
  "kernelspec": {
   "display_name": "Python 3",
   "language": "python",
   "name": "python3"
  },
  "language_info": {
   "codemirror_mode": {
    "name": "ipython",
    "version": 3
   },
   "file_extension": ".py",
   "mimetype": "text/x-python",
   "name": "python",
   "nbconvert_exporter": "python",
   "pygments_lexer": "ipython3",
   "version": "3.8.5"
  },
  "toc": {
   "base_numbering": 1,
   "nav_menu": {},
   "number_sections": false,
   "sideBar": true,
   "skip_h1_title": false,
   "title_cell": "Table of Contents",
   "title_sidebar": "Contents",
   "toc_cell": false,
   "toc_position": {},
   "toc_section_display": true,
   "toc_window_display": false
  },
  "varInspector": {
   "cols": {
    "lenName": 16,
    "lenType": 16,
    "lenVar": 40
   },
   "kernels_config": {
    "python": {
     "delete_cmd_postfix": "",
     "delete_cmd_prefix": "del ",
     "library": "var_list.py",
     "varRefreshCmd": "print(var_dic_list())"
    },
    "r": {
     "delete_cmd_postfix": ") ",
     "delete_cmd_prefix": "rm(",
     "library": "var_list.r",
     "varRefreshCmd": "cat(var_dic_list()) "
    }
   },
   "types_to_exclude": [
    "module",
    "function",
    "builtin_function_or_method",
    "instance",
    "_Feature"
   ],
   "window_display": false
  }
 },
 "nbformat": 4,
 "nbformat_minor": 5
}
