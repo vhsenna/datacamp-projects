{
 "cells": [
  {
   "cell_type": "markdown",
   "id": "dense-acceptance",
   "metadata": {},
   "source": [
    "# Task 1: Instructions\n",
    "\n",
    "Import `pandas` then load the data.\n",
    "\n",
    "- Read the notebook on the right before the instructions here on the left.\n",
    "\n",
    "- Import `pandas` under the alias `pd`.\n",
    "\n",
    "- Load the dataset's CSV files (`'datasets/super_bowls.csv'`, `'datasets/tv.csv'`, and `'datasets/halftime_musicians.csv'`) into DataFrames.\n",
    "\n",
    "## Good to know\n",
    "\n",
    "This project gives you an opportunity to apply the skills from [Intermediate Python for Data Science](https://www.datacamp.com/courses/intermediate-python-for-data-science). DataCamp projects are completed in Jupyter Notebooks. If you'd like more info on Jupyter Notebooks, check out this [introduction](https://www.datacamp.com/projects/33).\n",
    "\n",
    "DataCamp projects are more open-ended than DataCamp courses. The **\"Check Project\" button** checks to see if you have completed tasks in the project, though it doesn't check for absolute code \"correctness\" as there can be multiple \"correct\" solutions sometimes. The Jupyter Notebook will still provide error messages if your code causes an error. Consult the hint and the expected output image to see what one correct solution looks like.\n",
    "\n",
    "The **hints** for this project consist of the solution code with minimal fill-in-the-blanks represented by underscores.\n",
    "\n",
    "If you experience odd behavior you can reset the project by clicking the circular arrow in the bottom-right corner of the screen. Resetting the project will discard all code you have written so be sure to save it offline first.\n",
    "\n",
    "Helpful links for this task:\n",
    "\n",
    "- CSV to DataFrame [exercise](https://campus.datacamp.com/courses/intermediate-python-for-data-science/dictionaries-pandas?ex=12)\n",
    "\n",
    "The output for *one* correct version of a solution looks like this:\n",
    "\n",
    "![1](https://assets.datacamp.com/production/project_684/img/task_1_output.png)"
   ]
  },
  {
   "cell_type": "markdown",
   "id": "progressive-marriage",
   "metadata": {},
   "source": [
    "# Task 2: Instructions\n",
    "\n",
    "Display and inspect the summaries of the TV and halftime musician DataFrames for issues.\n",
    "\n",
    "- Use the `.info()` method to inspect the DataFrame `tv`.\n",
    "\n",
    "- Use the `.info()` method to inspect the DataFrame `halftime_musicians`.\n",
    "\n",
    "The `.info()` method wasn't covered in Intermediate Python for Data Science so if you're stuck, check out the hint for the full solution.\n",
    "\n",
    "You don't need to use `display()` or `print()` with `.info()` in Jupyter Notebooks because it prints to the output by default. The `'\\n'` prints a blank line in between the `.info()` summaries to make them more readable.\n",
    "\n",
    "Helpful links:\n",
    "\n",
    "- `.info()` method [documentation](https://pandas.pydata.org/pandas-docs/stable/reference/api/pandas.DataFrame.info.html)\n",
    "- Inspecting a DataFrame [exercise](https://campus.datacamp.com/courses/introduction-to-data-science-in-python/loading-data-in-pandas?ex=3) (in another course)\n",
    "\n",
    "The output for *one* correct version of a solution looks like this:\n",
    "    \n",
    "![2](https://assets.datacamp.com/production/project_684/img/task_2_output.png)"
   ]
  },
  {
   "cell_type": "markdown",
   "id": "cooked-myanmar",
   "metadata": {},
   "source": [
    "# Task 3: Instructions\n",
    "\n",
    "Plot a histogram of combined points then display the rows with the most extreme combined point outcomes.\n",
    "\n",
    "- From `matplotlib`, import the `pyplot` module under the alias `plt`.\n",
    "\n",
    "- Create a histogram of the `combined_pts` column from the `super_bowls` DataFrame.\n",
    "\n",
    "- Select the Super Bowl(s) where the combined score was less than 25.\n",
    "\n",
    "`%matplotlib inline` is a magic Jupyter Notebook command that allows you to display your graphs without `plt.show()`. You only need to use `plt.show()` in this notebook if you want to display the plot before other outputs (which you do in this task).\n",
    "\n",
    "Helpful links:\n",
    "\n",
    "- Basic plots with `matplotlib` [lesson](https://campus.datacamp.com/courses/intermediate-python-for-data-science/matplotlib?ex=1)\n",
    "\n",
    "- Histograms [lesson](https://campus.datacamp.com/courses/intermediate-python-for-data-science/matplotlib?ex=7)\n",
    "\n",
    "- Filtering Pandas DataFrame [lesson](https://campus.datacamp.com/courses/intermediate-python-for-data-science/logic-control-flow-and-filtering?ex=14)\n",
    "\n",
    "The output for *one* correct version of a solution looks like this:\n",
    "    \n",
    "![3](https://assets.datacamp.com/production/project_684/img/task_3_output.png)"
   ]
  },
  {
   "cell_type": "markdown",
   "id": "authorized-liberal",
   "metadata": {},
   "source": [
    "# Task 4: Instructions\n",
    "\n",
    "Modify and display the histogram of point differences, then display the rows with the most extreme point difference outcomes.\n",
    "\n",
    "- Add a y-label with `'Number of Super Bowls'`.\n",
    "\n",
    "- Display the plot with `plt.show()`.\n",
    "\n",
    "- Select the Super Bowl(s) where the point difference was equal to 1.\n",
    "\n",
    "- Select the Super Bowl(s) where the point difference was greater than or equal to 35.\n",
    "\n",
    "Helpful links:\n",
    "\n",
    "- Labels [exercise](https://campus.datacamp.com/courses/intermediate-python-for-data-science/matplotlib?ex=14)\n",
    "\n",
    "The output for *one* correct version of a solution looks like this:\n",
    "    \n",
    "![4](https://assets.datacamp.com/production/project_684/img/task_4_output.png)"
   ]
  },
  {
   "cell_type": "markdown",
   "id": "professional-cowboy",
   "metadata": {},
   "source": [
    "# Task 5: Instructions\n",
    "\n",
    "Import `seaborn` and plot household share vs. point difference.\n",
    "\n",
    "- Import the `seaborn` module under the alias `sns`.\n",
    "\n",
    "- Fill in the `x` argument of `sns.regplot()` with the point difference column\n",
    "\n",
    "- Fill in the `y` argument of `sns.regplot()` with the household share column.\n",
    "\n",
    "Remember column names are represented as strings!\n",
    "\n",
    "`seaborn`'s `regplot()` is like scatter plot except more specialized for [visualizing linear relationships](https://seaborn.pydata.org/tutorial/regression.html#functions-to-draw-linear-regression-models). It draws a scatterplot, then fits a regression model and plots the resulting regression line and a 95% confidence interval for that regression.\n",
    "\n",
    "Helpful links:\n",
    "\n",
    "- Packages [lesson](https://campus.datacamp.com/courses/intro-to-python-for-data-science/chapter-3-functions-and-packages?ex=9)\n",
    "\n",
    "The output for *one* correct version of a solution looks like this:\n",
    "    \n",
    "![5](https://assets.datacamp.com/production/project_684/img/task_5_output.png)"
   ]
  },
  {
   "cell_type": "markdown",
   "id": "north-shoot",
   "metadata": {},
   "source": [
    "# Task 6: Instructions\n",
    "\n",
    "Create three line plots using the `tv` DataFrame to compare viewers, rating, and ad cost.\n",
    "\n",
    "- For the first plot, plot `super_bowl` on the x-axis, `avg_us_viewers` on the y-axis, and set the line color to `'#648FFF'`.\n",
    "\n",
    "- For the second plot, plot `super_bowl` on the x-axis, `rating_household` on the y-axis, and set the line color to `'#DC267F'`.\n",
    "\n",
    "- For the third plot, plot `super_bowl` on the x-axis, `ad_cost` on the y-axis, and set the line color to `'#FFB000'`.\n",
    "\n",
    "The colors for the lines were based on a palette suggestion from [Coloring for Colorblindness](https://davidmathlogic.com/colorblind/).\n",
    "\n",
    "Helpful links:\n",
    "\n",
    "- Line plot [exercise](https://campus.datacamp.com/courses/intermediate-python-for-data-science/matplotlib?ex=2)\n",
    "\n",
    "The output for *one* correct version of a solution looks like this:\n",
    "    \n",
    "![6](https://assets.datacamp.com/production/project_684/img/task_6_output.png)"
   ]
  },
  {
   "cell_type": "markdown",
   "id": "personal-roads",
   "metadata": {},
   "source": [
    "# Task 7: Instructions\n",
    "\n",
    "Filter and display the musicians for halftime shows up to and including Super Bowl XXVII.\n",
    "\n",
    "- Using `halftime_musicians`, select the musicians that performed in halftime shows up to and including Super Bowl XXVII (27) (i.e. Michael Jackson's performance).\n",
    "\n",
    "The last line of code in a Jupyter Notebook cell automatically gets it output displayed so you don't need to use `display()` here.\n",
    "\n",
    "The output for *one* correct version of a solution looks like this:\n",
    "\n",
    "![7](https://assets.datacamp.com/production/project_684/img/task_7_output.png)"
   ]
  },
  {
   "cell_type": "markdown",
   "id": "indonesian-meter",
   "metadata": {},
   "source": [
    "# Task 8: Instructions\n",
    "\n",
    "Select and display the musicians with more than one halftime show appearance.\n",
    "\n",
    "- The new `halftime_appearances` DataFrame has two columns, `musician` and `super_bowl`, where `super_bowl` now contains the halftime show counts for each musician. Select the musicians that have appeared in more than one halftime show.\n",
    "\n",
    "The `halftime_appearances` code is preloaded because it wasn't covered in the prerequisite for this project, [Intermediate Python for Data Science](https://www.datacamp.com/courses/intermediate-python-for-data-science). Grouping and rearranging data are covered in [Manipulating DataFrames with pandas](https://www.datacamp.com/courses/manipulating-dataframes-with-pandas).\n",
    "\n",
    "The output for *one* correct version of a solution looks like this:\n",
    "\n",
    "![8](https://assets.datacamp.com/production/project_684/img/task_8_output.png)"
   ]
  },
  {
   "cell_type": "markdown",
   "id": "afraid-necessity",
   "metadata": {},
   "source": [
    "# Task 9: Instructions\n",
    "\n",
    "Modify the histogram of number of songs performed for non-band musicians.\n",
    "\n",
    "- In the `plt.hist()` function, set the number of bins argument equal to `most_songs` (the most number of songs performed in a halftime show by a single musician).\n",
    "- Add an x-label with `'Number of Songs Per Halftime Show Performance'`.\n",
    "\n",
    "You can't filter out \"Band\" because Bruce Springsteen and the E Street Band performed at Super Bowl XLIII.\n",
    "\n",
    "The `no_bands` code is preloaded because it wasn't covered in [Intermediate Python for Data Science](https://www.datacamp.com/courses/intermediate-python-for-data-science). The `.str.contains()` method is covered in [Cleaning Data in Python](https://campus.datacamp.com/courses/cleaning-data-in-python/case-study-5?ex=9).\n",
    "\n",
    "Helpful links:\n",
    "\n",
    "- Build a histogram: bins [exercise](https://campus.datacamp.com/courses/intermediate-python-for-data-science/matplotlib?ex=9)\n",
    "\n",
    "The output for *one* correct version of a solution looks like this:\n",
    "\n",
    "![9](https://assets.datacamp.com/production/project_684/img/task_9_output.png)"
   ]
  },
  {
   "cell_type": "markdown",
   "id": "educated-edgar",
   "metadata": {},
   "source": [
    "# Task 10: Instructions\n",
    "\n",
    "Who will win Super Bowl LIII?\n",
    "\n",
    "- The `patriots` and `rams` are playing in Super Bowl LIII. Assign the variable of the team you think will win to the `super_bowl_LIII_winner` variable.\n",
    "\n",
    "Congratulations on reaching the end of the project! You just applied your Python skills in a real-world data analysis. The structure of this project (where code intersperses narrative) is an excellent structure for blog posts to add to your data science portfolio.\n",
    "\n",
    "To continue building your Python skills, continue to the next course in your track. If you're not enrolled in a track, pick a new course from DataCamp's Python [library](https://www.datacamp.com/courses/tech:python)."
   ]
  }
 ],
 "metadata": {
  "kernelspec": {
   "display_name": "Python 3",
   "language": "python",
   "name": "python3"
  },
  "language_info": {
   "codemirror_mode": {
    "name": "ipython",
    "version": 3
   },
   "file_extension": ".py",
   "mimetype": "text/x-python",
   "name": "python",
   "nbconvert_exporter": "python",
   "pygments_lexer": "ipython3",
   "version": "3.8.5"
  },
  "toc": {
   "base_numbering": 1,
   "nav_menu": {},
   "number_sections": false,
   "sideBar": true,
   "skip_h1_title": false,
   "title_cell": "Table of Contents",
   "title_sidebar": "Contents",
   "toc_cell": false,
   "toc_position": {},
   "toc_section_display": true,
   "toc_window_display": false
  },
  "varInspector": {
   "cols": {
    "lenName": 16,
    "lenType": 16,
    "lenVar": 40
   },
   "kernels_config": {
    "python": {
     "delete_cmd_postfix": "",
     "delete_cmd_prefix": "del ",
     "library": "var_list.py",
     "varRefreshCmd": "print(var_dic_list())"
    },
    "r": {
     "delete_cmd_postfix": ") ",
     "delete_cmd_prefix": "rm(",
     "library": "var_list.r",
     "varRefreshCmd": "cat(var_dic_list()) "
    }
   },
   "types_to_exclude": [
    "module",
    "function",
    "builtin_function_or_method",
    "instance",
    "_Feature"
   ],
   "window_display": false
  }
 },
 "nbformat": 4,
 "nbformat_minor": 5
}
