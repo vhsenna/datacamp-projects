{
 "cells": [
  {
   "cell_type": "markdown",
   "id": "infectious-details",
   "metadata": {},
   "source": [
    "# Task 1: Instructions\n",
    "\n",
    "Import the data that John Snow collected about the cholera epidemic.\n",
    "\n",
    "- Read about Dr. John Snow to the right.\n",
    "- Load in the `pandas` module.\n",
    "- Import the data `deaths.csv` and assign the resulting DataFrame to `deaths`.\n",
    "- Print out the first rows of `deaths`.\n",
    "\n",
    "## Good to know\n",
    "\n",
    "This Project is designed to test also your knowledge of pandas and Bokeh. If you'd like to refresh your memory, the recommended prerequisites for this course are [Data Manipulation with pandas](https://www.datacamp.com/courses/data-manipulation-with-pandas) and [Interactive Data Visualization with Bokeh](https://www.datacamp.com/courses/interactive-data-visualization-with-bokeh).\n",
    "\n",
    "Even if you've finished all the DataCamp Python courses you may still find this project challenging unless you use/read some external _documentation_.\n",
    "In this case check out Karlijn's Datacamp pandas DataFrame [tutorial](https://www.datacamp.com/community/tutorials/pandas-tutorial-dataframe-python), Hugo's Hierarchical indices, groupby and pandas [tutorial](https://www.datacamp.com/community/tutorials/pandas-multi-index), and pandas' [cheat sheet](https://github.com/pandas-dev/pandas/raw/master/doc/cheatsheet/Pandas_Cheat_Sheet.pdf) that summarizes the basics of pandas DataFrames. You could also look at the official pandas [documentation](https://pandas.pydata.org/pandas-docs/stable/pandas.pdf).\n",
    "\n",
    "Stack Overflow is also a useful resource. A handy search pattern is **example of ??? in pandas** where **???*** is what you need to do.\n",
    "\n",
    "A big thank you to [Robin Wilson](http://blog.rtwilson.com/john-snows-famous-cholera-analysis-data-in-modern-gis-formats/) from Southampton University who digitized John Snow’s original data and georeferenced it to the Ordnance Survey co-ordinate system which will allow us to analyze it and overlay it on modern maps of that area."
   ]
  },
  {
   "cell_type": "markdown",
   "id": "static-startup",
   "metadata": {},
   "source": [
    "# Task 2: Instructions\n",
    "\n",
    "Check, rename columns, and describe the DataFrame.\n",
    "\n",
    "- Summarize the content of `deaths` (from previous exercise) with `.info()` method.\n",
    "- Prepare dictionary that will be used to rename the `Death`, `X coordinate`, and `Y coordinate` columns to `death_count`, `x_latitude`, and `y_longitude`, respectively.\n",
    "- Rename the columns of the dataset with the `.rename()` method.\n",
    "- Describe the dataset with the `.describe()` method.\n",
    "\n",
    "The following exercise may be helpful:\n",
    "\n",
    "[Inspecting DataFrames](https://campus.datacamp.com/courses/pandas-foundations/data-ingestion-inspection?ex=2) from [`pandas` Foundations](https://www.datacamp.com/courses/pandas-foundations)"
   ]
  },
  {
   "cell_type": "markdown",
   "id": "irish-graduation",
   "metadata": {},
   "source": [
    "# Task 3: Instructions\n",
    "\n",
    "Prepare and pre-process the data for plotting.\n",
    "\n",
    "- Create a subset (called `locations`) of the original dataset selecting only `x_latitude` and `y_longitude` columns.\n",
    "- Transform this subset into list of `x_latitude` and `y_longitude` pairs and name it `deaths_list`.\n",
    "- Check the length of this list (the number of pairs).\n",
    "\n",
    "The following links may be helpful:\n",
    "\n",
    "- [Selecting columns using `[]`](https://campus.datacamp.com/courses/intermediate-python-for-data-science/dictionaries-pandas?ex=15) from [Intermediate Python for Data Science](https://www.datacamp.com/courses/intermediate-python-for-data-science).\n",
    "- [Subselecting DataFrames with lists](https://campus.datacamp.com/courses/manipulating-dataframes-with-pandas/extracting-and-transforming-data?ex=8) from [Manipulating DataFrames with `pandas`](https://www.datacamp.com/courses/manipulating-dataframes-with-pandas).\n",
    "- [Pandas DataFrame to list](https://stackoverflow.com/questions/23748995/pandas-dataframe-to-list) on Stack Overflow."
   ]
  },
  {
   "cell_type": "markdown",
   "id": "weird-cookie",
   "metadata": {},
   "source": [
    "# Task 4: Instructions\n",
    "\n",
    "Loop through the pre-processed data to create a map.\n",
    "\n",
    "- Fill in the `len` function to loop through the data.\n",
    "\n",
    "More info about on loops can be found here: [Loops/LearnPython.org](https://www.learnpython.org/en/Loops).\n",
    "\n",
    "Basic info about the folium library is found here: [Folium 0.5.0 documentation](http://python-visualization.github.io/folium/).\n",
    "\n",
    "The map displayed in the notebook is also in the 2nd reprint of _On the Mode of Communication of Cholera (1855)_ that is publicly available [here](http://www.academia.dk/MedHist/Biblioteket/Print/snow_1855.html)."
   ]
  },
  {
   "cell_type": "markdown",
   "id": "annoying-integral",
   "metadata": {},
   "source": [
    "# Task 5: Instructions\n",
    "\n",
    "Recreate The Ghost Map.\n",
    "\n",
    "- Import the data `pumps.csv` and assign the resulting DataFrame to `pumps`.\n",
    "- Create subset `locations_pumps` of the original dataset (select only `'X coordinate'` and `'Y coordinate'` columns).\n",
    "- Transform this subset into list of `'X coordinate'` and `'Y coordinate'` pairs and call it `pumps_list`.\n",
    "- Create `for loop` to plot all the points on a map (we will use `folium/Leaflet library` again).\n",
    "\n",
    "The following exercises may be helpful:\n",
    "\n",
    "- [Selecting columns using `[]`](https://campus.datacamp.com/courses/intermediate-python-for-data-science/dictionaries-pandas?ex=15) from [Intermediate Python for Data Science](https://www.datacamp.com/courses/intermediate-python-for-data-science).\n",
    "- [Dates in DataFrames](https://campus.datacamp.com/courses/pandas-foundations/time-series-in-pandas?ex=2) from [`pandas` Foundations](https://www.datacamp.com/courses/pandas-foundations).\n",
    "- [Subselecting DataFrames with lists](https://campus.datacamp.com/courses/manipulating-dataframes-with-pandas/extracting-and-transforming-data?ex=8) from [Manipulating DataFrames with `pandas`](https://www.datacamp.com/courses/manipulating-dataframes-with-pandas)."
   ]
  },
  {
   "cell_type": "markdown",
   "id": "saved-boxing",
   "metadata": {},
   "source": [
    "# Task 6: Instructions\n",
    "\n",
    "Reanalyze the John Snow's data about the Cholera Outbreak.\n",
    "\n",
    "- Import the data `dates.csv` as DataFrame `dates` and parse `date` column as the datetime data type.\n",
    "- Create new column `day_name` that will contain name of the day (Monday to Sunday) using `dt.day_name()` attribute.\n",
    "- Create new column `handle` that will contain a Boolean (True or False) for whether or not the handle was present.\n",
    "\n",
    "The following links may be helpful:\n",
    "\n",
    "- [pandas.to_datetime](https://pandas.pydata.org/pandas-docs/version/0.20/generated/pandas.to_datetime.html).\n",
    "- [Selecting columns using `[]`](https://campus.datacamp.com/courses/intermediate-python-for-data-science/dictionaries-pandas?ex=15) from [Intermediate Python for Data Science](https://www.datacamp.com/courses/intermediate-python-for-data-science).\n",
    "- [Dates in DataFrames](https://campus.datacamp.com/courses/pandas-foundations/time-series-in-pandas?ex=2) from [`pandas` Foundations](https://www.datacamp.com/courses/pandas-foundations)."
   ]
  },
  {
   "cell_type": "markdown",
   "id": "elementary-automation",
   "metadata": {},
   "source": [
    "# Task 7: Instructions\n",
    "\n",
    "Visualize the data about the Cholera Outbreak using the Bokeh library.\n",
    "\n",
    "- Plot a line graph for cholera deaths vs. date.\n",
    "- Plot a circle/point graph for cholera deaths vs. date.\n",
    "- Plot a line graph for cholera attacks vs. date.\n",
    "\n",
    "The following exercises may be helpful:\n",
    "\n",
    "- From [Interactive Data Visualization with Bokeh](https://campus.datacamp.com/courses/interactive-data-visualization-with-bokeh/):\n",
    "    - [Plotting data from Pandas DataFrames](https://campus.datacamp.com/courses/interactive-data-visualization-with-bokeh/basic-plotting-with-bokeh?ex=12).\n",
    "    - [Lines](https://campus.datacamp.com/courses/interactive-data-visualization-with-bokeh/basic-plotting-with-bokeh?ex=7).\n",
    "    - [Customizing glyphs](https://campus.datacamp.com/courses/interactive-data-visualization-with-bokeh/basic-plotting-with-bokeh?ex=15).\n",
    "    - [Selection and non-selection glyphs](https://campus.datacamp.com/courses/interactive-data-visualization-with-bokeh/basic-plotting-with-bokeh?ex=16).\n",
    "    - [How to create legends](https://campus.datacamp.com/courses/interactive-data-visualization-with-bokeh/layouts-interactions-and-annotations?ex=14).\n",
    "- [Dates in DataFrames](https://campus.datacamp.com/courses/pandas-foundations/time-series-in-pandas?ex=2) from [`pandas` Foundations](https://www.datacamp.com/courses/pandas-foundations)."
   ]
  },
  {
   "cell_type": "markdown",
   "id": "creative-filing",
   "metadata": {},
   "source": [
    "# Task 8: Instructions\n",
    "\n",
    "True or false?\n",
    "\n",
    "- Given the data John Snow collected and The Ghost Map he created, is it `True` or `False` that he \"knows nothing\"?\n",
    "\n",
    "Congratulations, for completing the project!\n",
    "\n",
    "Good luck on your data science journey! :)"
   ]
  }
 ],
 "metadata": {
  "kernelspec": {
   "display_name": "Python 3",
   "language": "python",
   "name": "python3"
  },
  "language_info": {
   "codemirror_mode": {
    "name": "ipython",
    "version": 3
   },
   "file_extension": ".py",
   "mimetype": "text/x-python",
   "name": "python",
   "nbconvert_exporter": "python",
   "pygments_lexer": "ipython3",
   "version": "3.8.5"
  },
  "toc": {
   "base_numbering": 1,
   "nav_menu": {},
   "number_sections": false,
   "sideBar": true,
   "skip_h1_title": false,
   "title_cell": "Table of Contents",
   "title_sidebar": "Contents",
   "toc_cell": false,
   "toc_position": {},
   "toc_section_display": true,
   "toc_window_display": false
  },
  "varInspector": {
   "cols": {
    "lenName": 16,
    "lenType": 16,
    "lenVar": 40
   },
   "kernels_config": {
    "python": {
     "delete_cmd_postfix": "",
     "delete_cmd_prefix": "del ",
     "library": "var_list.py",
     "varRefreshCmd": "print(var_dic_list())"
    },
    "r": {
     "delete_cmd_postfix": ") ",
     "delete_cmd_prefix": "rm(",
     "library": "var_list.r",
     "varRefreshCmd": "cat(var_dic_list()) "
    }
   },
   "types_to_exclude": [
    "module",
    "function",
    "builtin_function_or_method",
    "instance",
    "_Feature"
   ],
   "window_display": false
  }
 },
 "nbformat": 4,
 "nbformat_minor": 5
}
