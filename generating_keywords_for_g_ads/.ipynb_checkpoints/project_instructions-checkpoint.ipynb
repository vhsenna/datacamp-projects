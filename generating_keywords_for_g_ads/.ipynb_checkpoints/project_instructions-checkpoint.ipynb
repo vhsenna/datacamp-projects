{
 "cells": [
  {
   "cell_type": "markdown",
   "id": "forbidden-finish",
   "metadata": {},
   "source": [
    "# Task 1: Instructions\n",
    "\n",
    "Create a list of words to pair with products.\n",
    "\n",
    "- Create a list of six to ten strings named `words` that contain words you think would work well with the products in the brief. If you're stuck, here are six words that would work: buy, price, discount, promotion, promo, and shop.\n",
    "- Print `words` to inspect your newly-created list.\n",
    "\n",
    "## Good to know\n",
    "\n",
    "_Note: the hint contains all acceptable words for this task._\n",
    "\n",
    "Welcome to the Project! This Project requires that you know your way around Python and pandas. We recommend the following courses as prerequisites:\n",
    "\n",
    "- [Intro to Python for Data Science](https://www.datacamp.com/courses/intro-to-python-for-data-science).\n",
    "- [Intermediate Python for Data Science](https://www.datacamp.com/courses/intermediate-python-for-data-science).\n",
    "\n",
    "Remember the words have to signify purchase intent and should be focused on a price-sensitive audience.\n",
    "\n",
    "Helpful links:\n",
    "\n",
    "- [Search engine marketing campaign for DataCamp](https://www.datacamp.com/community/tutorials/sem-data-science): A tutorial, showing a full case study, where you go through the process of creating an entire campaign for DataCamp. You will be going through part of the process here.\n",
    "- Python Data Structures [DataCamp Tutorial](https://www.datacamp.com/community/tutorials/data-structures-python#list).\n",
    "- [advertools](https://github.com/eliasdabbas/advertools): Once you are comfortable with the basic concepts, you can check the advertools package, which has several functions and tools for online marketing productivity and analysis.\n",
    "- Search Engine Marketing [cheat sheet](https://github.com/eliasdabbas/advertools/blob/master/search_engine_marketing_cheat_sheet.pdf)."
   ]
  },
  {
   "cell_type": "markdown",
   "id": "sacred-crime",
   "metadata": {},
   "source": [
    "# Task 2: Instructions\n",
    "\n",
    "Combine words and products.\n",
    "\n",
    "- Create an empty list named `keywords_list`.\n",
    "- Loop through all `products`.\n",
    "- Loop through all `words`.\n",
    "- Append `product`, and `word` and `product` joined by a space.\n",
    "\n",
    "An example of an appended list would be: `['sofas', 'sofas buy']`. Note that you can concatenate two strings with the `+` operator in Python.\n",
    "\n",
    "To inspect `keyword_list`, a module named `pprint` is used that \"pretty-prints” Python data structures like lists (or lists of lists!) and dictionaries. After importing the module, `pprint()` is used like Python's regular `print()` statement. Here is the `pprint` [documentation](https://docs.python.org/3/library/pprint.html), which has plenty of examples. Here is a specific example with lists in an [answer](https://stackoverflow.com/questions/1523660/how-to-print-a-list-in-python-nicely) on Stack Overflow.\n",
    "\n",
    "Helpful links:\n",
    "\n",
    "List [exercises](https://campus.datacamp.com/courses/intro-to-python-for-data-science/chapter-2-python-lists?ex=1) in Intro to Python for Data Science\n",
    "Loop [exercises](https://campus.datacamp.com/courses/intermediate-python-for-data-science/loops?ex=5) in Intermediate Python for Data Science"
   ]
  },
  {
   "cell_type": "markdown",
   "id": "caring-planner",
   "metadata": {},
   "source": [
    "# Task 3: Instructions\n",
    "\n",
    "Convert the list into a DataFrame.\n",
    "\n",
    "- Load the `pandas` library aliased as `pd`.\n",
    "- Create a DataFrame named `keywords_df` from `keywords_list` using the pandas `from_records()` method. Don't specify column names yet.\n",
    "- Inspect the contents of `keywords_df` using the `head()` method.\n",
    "\n",
    "Helpful links:\n",
    "\n",
    "- [pandas documentation](http://pandas.pydata.org/pandas-docs/version/0.23/generated/pandas.DataFrame.from_records.html) for the `from_records()` method."
   ]
  },
  {
   "cell_type": "markdown",
   "id": "affected-penny",
   "metadata": {},
   "source": [
    "# Task 4: Instructions\n",
    "\n",
    "Give `keyword_df` more descriptive column names.\n",
    "\n",
    "- Rename column `0` to `Ad Group` and column `1` to `Keyword`.\n",
    "\n",
    "Helpful links:\n",
    "\n",
    "- pandas `rename` [documentation](http://pandas.pydata.org/pandas-docs/stable/generated/pandas.DataFrame.rename.html).\n",
    "- Stack Overflow [answer](https://stackoverflow.com/a/11354850) for \"Renaming columns in pandas\""
   ]
  },
  {
   "cell_type": "markdown",
   "id": "presidential-seeker",
   "metadata": {},
   "source": [
    "# Task 5: Instructions\n",
    "\n",
    "Add a column to include the campaign name.\n",
    "\n",
    "- Add a new column called `Campaign` with the value 'SEM_Sofas' in every row.\n",
    "\n",
    "Helpful links:\n",
    "\n",
    "- Stack Overflow [answer](https://stackoverflow.com/a/29517089) for \"Add column to dataframe with default value\"."
   ]
  },
  {
   "cell_type": "markdown",
   "id": "governmental-scenario",
   "metadata": {},
   "source": [
    "# Task 6: Instructions\n",
    "\n",
    "Add a column to include the match criterion.\n",
    "\n",
    "- Add a new column called `Criterion Type` with the value 'Exact' in every row.\n",
    "\n",
    "Helpful links:\n",
    "\n",
    "- Stack Overflow [answer](https://stackoverflow.com/a/29517089) for \"Add column to dataframe with default value\".\n",
    "- AdWords Keyword match type [documentation](https://support.google.com/adwords/answer/2497836?hl=en)."
   ]
  },
  {
   "cell_type": "markdown",
   "id": "integral-behavior",
   "metadata": {},
   "source": [
    "# Task 7: Instructions\n",
    "\n",
    "Create phrase match keywords.\n",
    "\n",
    "- Change the `Criterion Type` column values of the newly copied DataFrame `keyword_phrase` to 'Phrase'.\n",
    "- Append the two DataFrames vertically so you can have one final DataFrame containing both. Name the new DataFrame `keywords_df_final`.\n",
    "\n",
    "Appending DataFrames [exercises](https://campus.datacamp.com/courses/merging-dataframes-with-pandas/concatenating-data?ex=6) are covered in the Merging DataFrames with pandas course. The appending task may be a bit outside of your comfort zone since it is not covered in the recommended prerequisites, so don't hesitate to check the hint if you're stuck!"
   ]
  },
  {
   "cell_type": "markdown",
   "id": "simple-eleven",
   "metadata": {},
   "source": [
    "# Task 8: Instructions\n",
    "\n",
    "Save the `DataFrame` to a CSV file.\n",
    "\n",
    "- Save `keywords_df_final` to a CSV file named 'keywords.csv' using the pandas `to_csv()` method. Exclude the DataFrame index in the saved file by specifying `index=False`.\n",
    "\n",
    "Saving DataFrames to CSV files isn't explicitly covered in Intermediate Python for Data Science, but it is the opposite of these \"CSV to DataFrame\" [exercises](https://campus.datacamp.com/courses/intermediate-python-for-data-science/dictionaries-pandas?ex=12). Don't hesitate to check out the hint if you're stuck!\n",
    "\n",
    "If you'd like to learn how to group by and count to generate the campaign summary, check out the [Manipulating DataFrames with pandas](https://www.datacamp.com/courses/manipulating-dataframes-with-pandas) course. The pandas split-apply-combine [documentation](https://pandas.pydata.org/pandas-docs/stable/groupby.html) is also excellent!\n",
    "\n",
    "If you're curious about pasting the data into the AdWords or BingAds editor, check out the pandas `to_clipboard` [documentation](http://pandas.pydata.org/pandas-docs/stable/generated/pandas.DataFrame.to_clipboard.html).\n",
    "\n",
    "Helpful links:\n",
    "\n",
    "- `pd.to_csv()` [documentation](http://pandas.pydata.org/pandas-docs/version/0.23/generated/pandas.DataFrame.to_csv.html).\n",
    "- DataCamp tutorial: [How To Write a Pandas DataFrame to a File](https://www.datacamp.com/community/tutorials/pandas-tutorial-dataframe-python#question11).\n",
    "- Stack Overflow [answer](https://stackoverflow.com/a/42978156) for \"How to avoid Python/Pandas creating an index in a saved csv?\""
   ]
  }
 ],
 "metadata": {
  "kernelspec": {
   "display_name": "Python 3",
   "language": "python",
   "name": "python3"
  },
  "language_info": {
   "codemirror_mode": {
    "name": "ipython",
    "version": 3
   },
   "file_extension": ".py",
   "mimetype": "text/x-python",
   "name": "python",
   "nbconvert_exporter": "python",
   "pygments_lexer": "ipython3",
   "version": "3.8.5"
  },
  "toc": {
   "base_numbering": 1,
   "nav_menu": {},
   "number_sections": false,
   "sideBar": true,
   "skip_h1_title": false,
   "title_cell": "Table of Contents",
   "title_sidebar": "Contents",
   "toc_cell": false,
   "toc_position": {},
   "toc_section_display": true,
   "toc_window_display": false
  },
  "varInspector": {
   "cols": {
    "lenName": 16,
    "lenType": 16,
    "lenVar": 40
   },
   "kernels_config": {
    "python": {
     "delete_cmd_postfix": "",
     "delete_cmd_prefix": "del ",
     "library": "var_list.py",
     "varRefreshCmd": "print(var_dic_list())"
    },
    "r": {
     "delete_cmd_postfix": ") ",
     "delete_cmd_prefix": "rm(",
     "library": "var_list.r",
     "varRefreshCmd": "cat(var_dic_list()) "
    }
   },
   "types_to_exclude": [
    "module",
    "function",
    "builtin_function_or_method",
    "instance",
    "_Feature"
   ],
   "window_display": false
  }
 },
 "nbformat": 4,
 "nbformat_minor": 5
}
