{
 "cells": [
  {
   "cell_type": "markdown",
   "id": "premier-twist",
   "metadata": {},
   "source": [
    "# Writing Functions for Product Analysis\n",
    "\n",
    "Use coding best practices and functions to improve a script!\n",
    "\n",
    "## Project Description\n",
    "\n",
    "Have you ever started your data analysis and ended up with repetitive code? Repetitive code is a sign that functions are needed. Functions help keep our code flexible, maintainable, and interpretable.\n",
    "\n",
    "Our colleague Brenda, a product analyst, has written a script to pull Net Promotor Score (NPS) survey data from multiple sources to calculate the NPS score. This code works well, but it violates coding best practices, including Don't Repeat Yourself (DRY). Let's take a look at her code and write some functions for Brenda! To complete this project, you need to know how to write functions in Python and how to use pandas for DataFrame manipulation.\n",
    "\n",
    "### Project Tasks\n",
    "\n",
    "1. DRY: Don't repeat yourself\n",
    "2. Verifying the files with the \"with\" keyword\n",
    "3. Putting it together with nested functions\n",
    "4. Detractors, Passives, and Promoters\n",
    "5. Applying our function to a DataFrame\n",
    "6. Calculating the Net Promoter Score\n",
    "7. Breaking down NPS by source\n",
    "8. Adding docstrings"
   ]
  }
 ],
 "metadata": {
  "kernelspec": {
   "display_name": "Python 3",
   "language": "python",
   "name": "python3"
  },
  "language_info": {
   "codemirror_mode": {
    "name": "ipython",
    "version": 3
   },
   "file_extension": ".py",
   "mimetype": "text/x-python",
   "name": "python",
   "nbconvert_exporter": "python",
   "pygments_lexer": "ipython3",
   "version": "3.8.5"
  },
  "toc": {
   "base_numbering": 1,
   "nav_menu": {},
   "number_sections": false,
   "sideBar": true,
   "skip_h1_title": false,
   "title_cell": "Table of Contents",
   "title_sidebar": "Contents",
   "toc_cell": false,
   "toc_position": {},
   "toc_section_display": true,
   "toc_window_display": false
  },
  "varInspector": {
   "cols": {
    "lenName": 16,
    "lenType": 16,
    "lenVar": 40
   },
   "kernels_config": {
    "python": {
     "delete_cmd_postfix": "",
     "delete_cmd_prefix": "del ",
     "library": "var_list.py",
     "varRefreshCmd": "print(var_dic_list())"
    },
    "r": {
     "delete_cmd_postfix": ") ",
     "delete_cmd_prefix": "rm(",
     "library": "var_list.r",
     "varRefreshCmd": "cat(var_dic_list()) "
    }
   },
   "types_to_exclude": [
    "module",
    "function",
    "builtin_function_or_method",
    "instance",
    "_Feature"
   ],
   "window_display": false
  }
 },
 "nbformat": 4,
 "nbformat_minor": 5
}
