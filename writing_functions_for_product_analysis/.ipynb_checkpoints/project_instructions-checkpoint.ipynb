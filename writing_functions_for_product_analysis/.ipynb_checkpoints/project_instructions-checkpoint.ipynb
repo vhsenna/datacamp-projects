{
 "cells": [
  {
   "cell_type": "markdown",
   "id": "fundamental-cycling",
   "metadata": {},
   "source": [
    "# Task 1: Instructions\n",
    "\n",
    "Write a function that takes an NPS CSV file and the source type to create a DataFrame with a column specifying the source type. A docstring describing the arguments and output of the function has been added.\n",
    "\n",
    "- Import `pandas` with the alias `pd`.\n",
    "- Complete `convert_csv_to_df()` so that it functions as the docstring describes.\n",
    "\n",
    "## Good to know\n",
    "\n",
    "This project lets you apply the skills from [Writing Functions in Python](https://learn.datacamp.com/courses/writing-functions-in-python) and [Data Manipulation with pandas](https://learn.datacamp.com/courses/data-manipulation-with-pandas). We recommend that you are familiar with the content in those courses before starting this project.\n",
    "\n",
    "Helpful link:\n",
    "\n",
    "- Docstrings [video](https://campus.datacamp.com/courses/writing-functions-in-python/best-practices?ex=1) in the Writing Functions in Python course"
   ]
  },
  {
   "cell_type": "markdown",
   "id": "olympic-redhead",
   "metadata": {},
   "source": [
    "# Task 2: Instructions\n",
    "\n",
    "Write a function to check if a CSV file has these three columns: `response_date`, `user_id`, and `nps_rating`.\n",
    "\n",
    "- Define a function `check_csv()` that takes one argument: the `csv_name`.\n",
    "- Open `csv_name` as `f` using `with open()`.\n",
    "- Return `True` if the CSV has the three specified columns, otherwise return `False`.\n",
    "- Test `check_cvs()` on `datasets/corrupted.csv` to see if it returns `False`."
   ]
  },
  {
   "cell_type": "markdown",
   "id": "frank-pleasure",
   "metadata": {},
   "source": [
    "# Task 3: Instructions\n",
    "\n",
    "Write a function that uses `check_csv()` and `convert_csv_to_df()` to convert valid files into DataFrames and combines the resulting DataFrames into one DataFrame.\n",
    "\n",
    "- Define a function `combine_nps_csvs` that takes a dictionary argument, `csvs_dict`, and iterate over `csvs_dict` to get the name and source type of each CSV in `csvs_dict`.\n",
    "- Use `check_csv()` to see if a CSV is valid.\n",
    "- If it is valid, use `convert_csv_to_df()` to convert the CSV into a DataFrame called `temp` and concatenate `temp` with `combined`.\n",
    "- If the CSV is not valid, print a message with the CSV's name.\n",
    "\n",
    "Helpful link:\n",
    "\n",
    "- DataCamp's Python Dictionaries: The Definitive Guide [tutorial](https://www.datacamp.com/community/tutorials/dictionary-python)."
   ]
  },
  {
   "cell_type": "markdown",
   "id": "funded-strengthening",
   "metadata": {},
   "source": [
    "# Task 4: Instructions\n",
    "\n",
    "Write a function `categorize_nps` that classifies a rating, `x`, into one of four categories: detractor, passives, promoters, and invalid.\n",
    "\n",
    "- Add conditional cases to check the argument `x` for each possible category.\n",
    "- Return the category of the rating as a string."
   ]
  },
  {
   "cell_type": "markdown",
   "id": "monetary-offering",
   "metadata": {},
   "source": [
    "# Task 5: Instructions\n",
    "\n",
    "Write a new line of code to `convert_csv_to_df()` so that there is a column for each rating's NPS category.\n",
    "\n",
    "- Add a new column, `nps_group` which holds the result of applying `categorize_nps()` to the `nps_rating` column.\n",
    "\n",
    "Helpful link:\n",
    "\n",
    "- The `pandas.DataFrame.apply` function [documentation](https://pandas.pydata.org/pandas-docs/stable/reference/api/pandas.DataFrame.apply.html)."
   ]
  },
  {
   "cell_type": "markdown",
   "id": "miniature-abuse",
   "metadata": {},
   "source": [
    "# Task 6: Instructions\n",
    "\n",
    "Write a new function called `calculate_nps()` that calculates the NPS score of a DataFrame with the column `nps_group`.\n",
    "\n",
    "- Define a function `calculate_nps` that takes one argument, a DataFrame.\n",
    "- Calculate the NPS score by counting the number of promoter ratings and detractor ratings in `nps_group`. Subtract the number of detractor ratings from the number of promoter ratings and divide the results by the total number of ratings.\n",
    "- Multiply the result by 100 and return it without any rounding.\n",
    "\n",
    "Helpful link:\n",
    "\n",
    "- `pandas.Series.value_counts` function [documentation](https://pandas.pydata.org/pandas-docs/stable/reference/api/pandas.Series.value_counts.html)."
   ]
  },
  {
   "cell_type": "markdown",
   "id": "stainless-delaware",
   "metadata": {},
   "source": [
    "# Task 7: Instructions\n",
    "\n",
    "Write a function that calculates the individual NPS score for each source type in the column `source`.\n",
    "\n",
    "- Define a function `calculate_nps_by_source` that takes a DataFrame as its sole argument.\n",
    "- Group the DataFrame by `source` and apply `calculate_nps()` from the last task to each source.\n",
    "- Return a Series with the NPS scores broken by source.\n",
    "\n",
    "Helpful links:\n",
    "\n",
    "- The `pandas.DataFrame.groupby` function [documentation](https://pandas.pydata.org/pandas-docs/stable/reference/api/pandas.DataFrame.groupby.html).\n",
    "- The `pandas.DataFrame.apply` function [documentation](https://pandas.pydata.org/pandas-docs/stable/reference/api/pandas.DataFrame.apply.html)."
   ]
  },
  {
   "cell_type": "markdown",
   "id": "excess-qualification",
   "metadata": {},
   "source": [
    "# Task 8: Instructions\n",
    "\n",
    "Add docstrings to the functions: `combine_nps_csvs()`, `calculate_nps()`, and `calculate_nps_by_source()`.\n",
    "\n",
    "- Copy and paste the code of these functions from your solutions of earlier tasks.\n",
    "- Add docstrings for each function enclosed in triple quotes. It's up to you to pick a docstring standard!\n",
    "\n",
    "Helpful links:\n",
    "\n",
    "- Docstrings [video](https://campus.datacamp.com/courses/writing-functions-in-python/best-practices?ex=1) in the Writing Functions in Python course.\n",
    "- Crafting a docstring [exercise](https://campus.datacamp.com/courses/writing-functions-in-python/best-practices?ex=2) in the Writing Functions in Python course.\n",
    "- DataCamp's Docstrings in Python [tutorial](https://www.datacamp.com/community/tutorials/docstrings-python)."
   ]
  }
 ],
 "metadata": {
  "kernelspec": {
   "display_name": "Python 3",
   "language": "python",
   "name": "python3"
  },
  "language_info": {
   "codemirror_mode": {
    "name": "ipython",
    "version": 3
   },
   "file_extension": ".py",
   "mimetype": "text/x-python",
   "name": "python",
   "nbconvert_exporter": "python",
   "pygments_lexer": "ipython3",
   "version": "3.8.5"
  },
  "toc": {
   "base_numbering": 1,
   "nav_menu": {},
   "number_sections": false,
   "sideBar": true,
   "skip_h1_title": false,
   "title_cell": "Table of Contents",
   "title_sidebar": "Contents",
   "toc_cell": false,
   "toc_position": {},
   "toc_section_display": true,
   "toc_window_display": false
  },
  "varInspector": {
   "cols": {
    "lenName": 16,
    "lenType": 16,
    "lenVar": 40
   },
   "kernels_config": {
    "python": {
     "delete_cmd_postfix": "",
     "delete_cmd_prefix": "del ",
     "library": "var_list.py",
     "varRefreshCmd": "print(var_dic_list())"
    },
    "r": {
     "delete_cmd_postfix": ") ",
     "delete_cmd_prefix": "rm(",
     "library": "var_list.r",
     "varRefreshCmd": "cat(var_dic_list()) "
    }
   },
   "types_to_exclude": [
    "module",
    "function",
    "builtin_function_or_method",
    "instance",
    "_Feature"
   ],
   "window_display": false
  }
 },
 "nbformat": 4,
 "nbformat_minor": 5
}
