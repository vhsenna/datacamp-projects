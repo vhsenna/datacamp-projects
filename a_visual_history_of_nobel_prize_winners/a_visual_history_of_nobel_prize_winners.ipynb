{
 "cells": [
  {
   "cell_type": "markdown",
   "metadata": {
    "dc": {
     "key": "3"
    },
    "deletable": false,
    "editable": false,
    "run_control": {
     "frozen": true
    },
    "tags": [
     "context"
    ]
   },
   "source": [
    "## 1. The most Nobel of Prizes\n",
    "<p><img style=\"float: right;margin:5px 20px 5px 1px; max-width:250px\" src=\"https://assets.datacamp.com/production/project_441/img/Nobel_Prize.png\"></p>\n",
    "<p>The Nobel Prize is perhaps the world's most well known scientific award. Except for the honor, prestige and substantial prize money the recipient also gets a gold medal showing Alfred Nobel (1833 - 1896) who established the prize. Every year it's given to scientists and scholars in the categories chemistry, literature, physics, physiology or medicine, economics, and peace. The first Nobel Prize was handed out in 1901, and at that time the Prize was very Eurocentric and male-focused, but nowadays it's not biased in any way whatsoever. Surely. Right?</p>\n",
    "<p>Well, we're going to find out! The Nobel Foundation has made a dataset available of all prize winners from the start of the prize, in 1901, to 2016. Let's load it in and take a look.</p>"
   ]
  },
  {
   "cell_type": "code",
   "execution_count": 1,
   "metadata": {
    "dc": {
     "key": "3"
    },
    "tags": [
     "sample_code"
    ]
   },
   "outputs": [
    {
     "data": {
      "text/html": [
       "<div>\n",
       "<style scoped>\n",
       "    .dataframe tbody tr th:only-of-type {\n",
       "        vertical-align: middle;\n",
       "    }\n",
       "\n",
       "    .dataframe tbody tr th {\n",
       "        vertical-align: top;\n",
       "    }\n",
       "\n",
       "    .dataframe thead th {\n",
       "        text-align: right;\n",
       "    }\n",
       "</style>\n",
       "<table border=\"1\" class=\"dataframe\">\n",
       "  <thead>\n",
       "    <tr style=\"text-align: right;\">\n",
       "      <th></th>\n",
       "      <th>year</th>\n",
       "      <th>category</th>\n",
       "      <th>prize</th>\n",
       "      <th>motivation</th>\n",
       "      <th>prize_share</th>\n",
       "      <th>laureate_id</th>\n",
       "      <th>laureate_type</th>\n",
       "      <th>full_name</th>\n",
       "      <th>birth_date</th>\n",
       "      <th>birth_city</th>\n",
       "      <th>birth_country</th>\n",
       "      <th>sex</th>\n",
       "      <th>organization_name</th>\n",
       "      <th>organization_city</th>\n",
       "      <th>organization_country</th>\n",
       "      <th>death_date</th>\n",
       "      <th>death_city</th>\n",
       "      <th>death_country</th>\n",
       "    </tr>\n",
       "  </thead>\n",
       "  <tbody>\n",
       "    <tr>\n",
       "      <th>0</th>\n",
       "      <td>1901</td>\n",
       "      <td>Chemistry</td>\n",
       "      <td>The Nobel Prize in Chemistry 1901</td>\n",
       "      <td>\"in recognition of the extraordinary services ...</td>\n",
       "      <td>1/1</td>\n",
       "      <td>160</td>\n",
       "      <td>Individual</td>\n",
       "      <td>Jacobus Henricus van 't Hoff</td>\n",
       "      <td>1852-08-30</td>\n",
       "      <td>Rotterdam</td>\n",
       "      <td>Netherlands</td>\n",
       "      <td>Male</td>\n",
       "      <td>Berlin University</td>\n",
       "      <td>Berlin</td>\n",
       "      <td>Germany</td>\n",
       "      <td>1911-03-01</td>\n",
       "      <td>Berlin</td>\n",
       "      <td>Germany</td>\n",
       "    </tr>\n",
       "    <tr>\n",
       "      <th>1</th>\n",
       "      <td>1901</td>\n",
       "      <td>Literature</td>\n",
       "      <td>The Nobel Prize in Literature 1901</td>\n",
       "      <td>\"in special recognition of his poetic composit...</td>\n",
       "      <td>1/1</td>\n",
       "      <td>569</td>\n",
       "      <td>Individual</td>\n",
       "      <td>Sully Prudhomme</td>\n",
       "      <td>1839-03-16</td>\n",
       "      <td>Paris</td>\n",
       "      <td>France</td>\n",
       "      <td>Male</td>\n",
       "      <td>NaN</td>\n",
       "      <td>NaN</td>\n",
       "      <td>NaN</td>\n",
       "      <td>1907-09-07</td>\n",
       "      <td>Châtenay</td>\n",
       "      <td>France</td>\n",
       "    </tr>\n",
       "    <tr>\n",
       "      <th>2</th>\n",
       "      <td>1901</td>\n",
       "      <td>Medicine</td>\n",
       "      <td>The Nobel Prize in Physiology or Medicine 1901</td>\n",
       "      <td>\"for his work on serum therapy, especially its...</td>\n",
       "      <td>1/1</td>\n",
       "      <td>293</td>\n",
       "      <td>Individual</td>\n",
       "      <td>Emil Adolf von Behring</td>\n",
       "      <td>1854-03-15</td>\n",
       "      <td>Hansdorf (Lawice)</td>\n",
       "      <td>Prussia (Poland)</td>\n",
       "      <td>Male</td>\n",
       "      <td>Marburg University</td>\n",
       "      <td>Marburg</td>\n",
       "      <td>Germany</td>\n",
       "      <td>1917-03-31</td>\n",
       "      <td>Marburg</td>\n",
       "      <td>Germany</td>\n",
       "    </tr>\n",
       "    <tr>\n",
       "      <th>3</th>\n",
       "      <td>1901</td>\n",
       "      <td>Peace</td>\n",
       "      <td>The Nobel Peace Prize 1901</td>\n",
       "      <td>NaN</td>\n",
       "      <td>1/2</td>\n",
       "      <td>462</td>\n",
       "      <td>Individual</td>\n",
       "      <td>Jean Henry Dunant</td>\n",
       "      <td>1828-05-08</td>\n",
       "      <td>Geneva</td>\n",
       "      <td>Switzerland</td>\n",
       "      <td>Male</td>\n",
       "      <td>NaN</td>\n",
       "      <td>NaN</td>\n",
       "      <td>NaN</td>\n",
       "      <td>1910-10-30</td>\n",
       "      <td>Heiden</td>\n",
       "      <td>Switzerland</td>\n",
       "    </tr>\n",
       "    <tr>\n",
       "      <th>4</th>\n",
       "      <td>1901</td>\n",
       "      <td>Peace</td>\n",
       "      <td>The Nobel Peace Prize 1901</td>\n",
       "      <td>NaN</td>\n",
       "      <td>1/2</td>\n",
       "      <td>463</td>\n",
       "      <td>Individual</td>\n",
       "      <td>Frédéric Passy</td>\n",
       "      <td>1822-05-20</td>\n",
       "      <td>Paris</td>\n",
       "      <td>France</td>\n",
       "      <td>Male</td>\n",
       "      <td>NaN</td>\n",
       "      <td>NaN</td>\n",
       "      <td>NaN</td>\n",
       "      <td>1912-06-12</td>\n",
       "      <td>Paris</td>\n",
       "      <td>France</td>\n",
       "    </tr>\n",
       "    <tr>\n",
       "      <th>5</th>\n",
       "      <td>1901</td>\n",
       "      <td>Physics</td>\n",
       "      <td>The Nobel Prize in Physics 1901</td>\n",
       "      <td>\"in recognition of the extraordinary services ...</td>\n",
       "      <td>1/1</td>\n",
       "      <td>1</td>\n",
       "      <td>Individual</td>\n",
       "      <td>Wilhelm Conrad Röntgen</td>\n",
       "      <td>1845-03-27</td>\n",
       "      <td>Lennep (Remscheid)</td>\n",
       "      <td>Prussia (Germany)</td>\n",
       "      <td>Male</td>\n",
       "      <td>Munich University</td>\n",
       "      <td>Munich</td>\n",
       "      <td>Germany</td>\n",
       "      <td>1923-02-10</td>\n",
       "      <td>Munich</td>\n",
       "      <td>Germany</td>\n",
       "    </tr>\n",
       "  </tbody>\n",
       "</table>\n",
       "</div>"
      ],
      "text/plain": [
       "   year    category                                           prize  \\\n",
       "0  1901   Chemistry               The Nobel Prize in Chemistry 1901   \n",
       "1  1901  Literature              The Nobel Prize in Literature 1901   \n",
       "2  1901    Medicine  The Nobel Prize in Physiology or Medicine 1901   \n",
       "3  1901       Peace                      The Nobel Peace Prize 1901   \n",
       "4  1901       Peace                      The Nobel Peace Prize 1901   \n",
       "5  1901     Physics                 The Nobel Prize in Physics 1901   \n",
       "\n",
       "                                          motivation prize_share  laureate_id  \\\n",
       "0  \"in recognition of the extraordinary services ...         1/1          160   \n",
       "1  \"in special recognition of his poetic composit...         1/1          569   \n",
       "2  \"for his work on serum therapy, especially its...         1/1          293   \n",
       "3                                                NaN         1/2          462   \n",
       "4                                                NaN         1/2          463   \n",
       "5  \"in recognition of the extraordinary services ...         1/1            1   \n",
       "\n",
       "  laureate_type                     full_name  birth_date          birth_city  \\\n",
       "0    Individual  Jacobus Henricus van 't Hoff  1852-08-30           Rotterdam   \n",
       "1    Individual               Sully Prudhomme  1839-03-16               Paris   \n",
       "2    Individual        Emil Adolf von Behring  1854-03-15   Hansdorf (Lawice)   \n",
       "3    Individual             Jean Henry Dunant  1828-05-08              Geneva   \n",
       "4    Individual                Frédéric Passy  1822-05-20               Paris   \n",
       "5    Individual        Wilhelm Conrad Röntgen  1845-03-27  Lennep (Remscheid)   \n",
       "\n",
       "       birth_country   sex   organization_name organization_city  \\\n",
       "0        Netherlands  Male   Berlin University            Berlin   \n",
       "1             France  Male                 NaN               NaN   \n",
       "2   Prussia (Poland)  Male  Marburg University           Marburg   \n",
       "3        Switzerland  Male                 NaN               NaN   \n",
       "4             France  Male                 NaN               NaN   \n",
       "5  Prussia (Germany)  Male   Munich University            Munich   \n",
       "\n",
       "  organization_country  death_date death_city death_country  \n",
       "0              Germany  1911-03-01     Berlin       Germany  \n",
       "1                  NaN  1907-09-07   Châtenay        France  \n",
       "2              Germany  1917-03-31    Marburg       Germany  \n",
       "3                  NaN  1910-10-30     Heiden   Switzerland  \n",
       "4                  NaN  1912-06-12      Paris        France  \n",
       "5              Germany  1923-02-10     Munich       Germany  "
      ]
     },
     "execution_count": 1,
     "metadata": {},
     "output_type": "execute_result"
    }
   ],
   "source": [
    "# Loading in required libraries\n",
    "import pandas as pd\n",
    "import seaborn as sns\n",
    "import numpy as np\n",
    "\n",
    "# Reading in the Nobel Prize data\n",
    "nobel = pd.read_csv('nobel.csv')\n",
    "\n",
    "# Taking a look at the first several winners\n",
    "nobel.head(6)"
   ]
  },
  {
   "cell_type": "markdown",
   "metadata": {
    "dc": {
     "key": "10"
    },
    "deletable": false,
    "editable": false,
    "run_control": {
     "frozen": true
    },
    "tags": [
     "context"
    ]
   },
   "source": [
    "## 2. So, who gets the Nobel Prize?\n",
    "<p>Just looking at the first couple of prize winners, or Nobel laureates as they are also called, we already see a celebrity: Wilhelm Conrad Röntgen, the guy who discovered X-rays. And actually, we see that all of the winners in 1901 were guys that came from Europe. But that was back in 1901, looking at all winners in the dataset, from 1901 to 2016, which sex and which country is the most commonly represented? </p>\n",
    "<p>(For <em>country</em>, we will use the <code>birth_country</code> of the winner, as the <code>organization_country</code> is <code>NaN</code> for all shared Nobel Prizes.)</p>"
   ]
  },
  {
   "cell_type": "code",
   "execution_count": 5,
   "metadata": {
    "dc": {
     "key": "10"
    },
    "tags": [
     "sample_code"
    ]
   },
   "outputs": [
    {
     "data": {
      "text/plain": [
       "911"
      ]
     },
     "metadata": {},
     "output_type": "display_data"
    },
    {
     "data": {
      "text/plain": [
       "Male      836\n",
       "Female     49\n",
       "Name: sex, dtype: int64"
      ]
     },
     "metadata": {},
     "output_type": "display_data"
    },
    {
     "data": {
      "text/plain": [
       "United States of America    259\n",
       "United Kingdom               85\n",
       "Germany                      61\n",
       "France                       51\n",
       "Sweden                       29\n",
       "Japan                        24\n",
       "Canada                       18\n",
       "Netherlands                  18\n",
       "Russia                       17\n",
       "Italy                        17\n",
       "Name: birth_country, dtype: int64"
      ]
     },
     "metadata": {},
     "output_type": "display_data"
    }
   ],
   "source": [
    "# Display the number of (possibly shared) Nobel Prizes handed out between 1901 and 2016\n",
    "display(len(nobel))\n",
    "\n",
    "# Display the number of prizes won by male and female recipients.\n",
    "display(nobel['sex'].value_counts())\n",
    "\n",
    "# Display the number of prizes won by the top 10 nationalities.\n",
    "display(nobel['birth_country'].value_counts().head(10))"
   ]
  },
  {
   "cell_type": "markdown",
   "metadata": {
    "dc": {
     "key": "17"
    },
    "deletable": false,
    "editable": false,
    "run_control": {
     "frozen": true
    },
    "tags": [
     "context"
    ]
   },
   "source": [
    "## 3. USA dominance\n",
    "<p>Not so surprising perhaps: the most common Nobel laureate between 1901 and 2016 was a man born in the United States of America. But in 1901 all the winners were European. When did the USA start to dominate the Nobel Prize charts?</p>"
   ]
  },
  {
   "cell_type": "code",
   "execution_count": 7,
   "metadata": {
    "dc": {
     "key": "17"
    },
    "tags": [
     "sample_code"
    ]
   },
   "outputs": [
    {
     "data": {
      "text/html": [
       "<div>\n",
       "<style scoped>\n",
       "    .dataframe tbody tr th:only-of-type {\n",
       "        vertical-align: middle;\n",
       "    }\n",
       "\n",
       "    .dataframe tbody tr th {\n",
       "        vertical-align: top;\n",
       "    }\n",
       "\n",
       "    .dataframe thead th {\n",
       "        text-align: right;\n",
       "    }\n",
       "</style>\n",
       "<table border=\"1\" class=\"dataframe\">\n",
       "  <thead>\n",
       "    <tr style=\"text-align: right;\">\n",
       "      <th></th>\n",
       "      <th>decade</th>\n",
       "      <th>usa_born_winner</th>\n",
       "    </tr>\n",
       "  </thead>\n",
       "  <tbody>\n",
       "    <tr>\n",
       "      <th>0</th>\n",
       "      <td>1900</td>\n",
       "      <td>0.017544</td>\n",
       "    </tr>\n",
       "    <tr>\n",
       "      <th>1</th>\n",
       "      <td>1910</td>\n",
       "      <td>0.075000</td>\n",
       "    </tr>\n",
       "    <tr>\n",
       "      <th>2</th>\n",
       "      <td>1920</td>\n",
       "      <td>0.074074</td>\n",
       "    </tr>\n",
       "    <tr>\n",
       "      <th>3</th>\n",
       "      <td>1930</td>\n",
       "      <td>0.250000</td>\n",
       "    </tr>\n",
       "    <tr>\n",
       "      <th>4</th>\n",
       "      <td>1940</td>\n",
       "      <td>0.302326</td>\n",
       "    </tr>\n",
       "    <tr>\n",
       "      <th>5</th>\n",
       "      <td>1950</td>\n",
       "      <td>0.291667</td>\n",
       "    </tr>\n",
       "    <tr>\n",
       "      <th>6</th>\n",
       "      <td>1960</td>\n",
       "      <td>0.265823</td>\n",
       "    </tr>\n",
       "    <tr>\n",
       "      <th>7</th>\n",
       "      <td>1970</td>\n",
       "      <td>0.317308</td>\n",
       "    </tr>\n",
       "    <tr>\n",
       "      <th>8</th>\n",
       "      <td>1980</td>\n",
       "      <td>0.319588</td>\n",
       "    </tr>\n",
       "    <tr>\n",
       "      <th>9</th>\n",
       "      <td>1990</td>\n",
       "      <td>0.403846</td>\n",
       "    </tr>\n",
       "    <tr>\n",
       "      <th>10</th>\n",
       "      <td>2000</td>\n",
       "      <td>0.422764</td>\n",
       "    </tr>\n",
       "    <tr>\n",
       "      <th>11</th>\n",
       "      <td>2010</td>\n",
       "      <td>0.292683</td>\n",
       "    </tr>\n",
       "  </tbody>\n",
       "</table>\n",
       "</div>"
      ],
      "text/plain": [
       "    decade  usa_born_winner\n",
       "0     1900         0.017544\n",
       "1     1910         0.075000\n",
       "2     1920         0.074074\n",
       "3     1930         0.250000\n",
       "4     1940         0.302326\n",
       "5     1950         0.291667\n",
       "6     1960         0.265823\n",
       "7     1970         0.317308\n",
       "8     1980         0.319588\n",
       "9     1990         0.403846\n",
       "10    2000         0.422764\n",
       "11    2010         0.292683"
      ]
     },
     "metadata": {},
     "output_type": "display_data"
    }
   ],
   "source": [
    "# Calculating the proportion of USA born winners per decade\n",
    "nobel['usa_born_winner'] = nobel['birth_country'] == 'United States of America'\n",
    "nobel['decade'] = (np.floor(nobel['year'] / 10) * 10).astype(int)\n",
    "prop_usa_winners = nobel.groupby('decade', as_index=False)['usa_born_winner'].mean()\n",
    "\n",
    "# Display the proportions of USA born winners per decade\n",
    "display(prop_usa_winners)"
   ]
  },
  {
   "cell_type": "markdown",
   "metadata": {
    "dc": {
     "key": "24"
    },
    "deletable": false,
    "editable": false,
    "run_control": {
     "frozen": true
    },
    "tags": [
     "context"
    ]
   },
   "source": [
    "## 4. USA dominance, visualized\n",
    "<p>A table is OK, but to <em>see</em> when the USA started to dominate the Nobel charts we need a plot!</p>"
   ]
  },
  {
   "cell_type": "code",
   "execution_count": 8,
   "metadata": {
    "dc": {
     "key": "24"
    },
    "tags": [
     "sample_code"
    ]
   },
   "outputs": [
    {
     "data": {
      "image/png": "[encoded data removed]",
      "text/plain": [
       "<Figure size 792x504 with 1 Axes>"
      ]
     },
     "metadata": {},
     "output_type": "display_data"
    }
   ],
   "source": [
    "# Setting the plotting theme\n",
    "sns.set()\n",
    "\n",
    "# and setting the size of all plots.\n",
    "import matplotlib.pyplot as plt\n",
    "plt.rcParams['figure.figsize'] = [11, 7]\n",
    "\n",
    "# Plotting USA born winners\n",
    "ax = sns.lineplot(x='decade', y='usa_born_winner', data=prop_usa_winners)\n",
    "\n",
    "# Adding %-formatting to the y-axis\n",
    "from matplotlib.ticker import PercentFormatter\n",
    "ax.yaxis.set_major_formatter(PercentFormatter(1.0))"
   ]
  },
  {
   "cell_type": "markdown",
   "metadata": {
    "dc": {
     "key": "31"
    },
    "deletable": false,
    "editable": false,
    "run_control": {
     "frozen": true
    },
    "tags": [
     "context"
    ]
   },
   "source": [
    "## 5. What is the gender of a typical Nobel Prize winner?\n",
    "<p>So the USA became the dominating winner of the Nobel Prize first in the 1930s and had kept the leading position ever since. But one group that was in the lead from the start, and never seems to let go, are <em>men</em>. Maybe it shouldn't come as a shock that there is some imbalance between how many male and female prize winners there are, but how significant is this imbalance? And is it better or worse within specific prize categories like physics, medicine, literature, etc.?</p>"
   ]
  },
  {
   "cell_type": "code",
   "execution_count": 9,
   "metadata": {
    "dc": {
     "key": "31"
    },
    "tags": [
     "sample_code"
    ]
   },
   "outputs": [
    {
     "data": {
      "image/png": "[encoded data removed]",
      "text/plain": [
       "<Figure size 792x504 with 1 Axes>"
      ]
     },
     "metadata": {},
     "output_type": "display_data"
    }
   ],
   "source": [
    "# Calculating the proportion of female laureates per decade\n",
    "nobel['female_winner'] = nobel['sex'] == 'Female'\n",
    "prop_female_winners = nobel.groupby(['decade', 'category'], as_index=False)['female_winner'].mean()\n",
    "\n",
    "# Plotting female winners with % winners on the y-axis\n",
    "ax = sns.lineplot(x='decade', y='female_winner', hue='category', data=prop_female_winners)\n",
    "ax.yaxis.set_major_formatter(PercentFormatter(1.0))"
   ]
  },
  {
   "cell_type": "markdown",
   "metadata": {
    "dc": {
     "key": "38"
    },
    "deletable": false,
    "editable": false,
    "run_control": {
     "frozen": true
    },
    "tags": [
     "context"
    ]
   },
   "source": [
    "## 6. The first woman to win the Nobel Prize\n",
    "<p>The plot above is a bit messy as the lines are overplotting. But it does show some interesting trends and patterns. Overall the imbalance is pretty large with physics, economics, and chemistry having the largest imbalance. Medicine has a somewhat positive trend, and since the 1990s the literature prize is also now more balanced. The big outlier is the peace prize during the 2010s, but keep in mind that this just covers the years 2010 to 2016.</p>\n",
    "<p>Given this imbalance, who was the first woman to receive a Nobel Prize? And in what category?</p>"
   ]
  },
  {
   "cell_type": "code",
   "execution_count": 10,
   "metadata": {
    "dc": {
     "key": "38"
    },
    "tags": [
     "sample_code"
    ]
   },
   "outputs": [
    {
     "data": {
      "text/html": [
       "<div>\n",
       "<style scoped>\n",
       "    .dataframe tbody tr th:only-of-type {\n",
       "        vertical-align: middle;\n",
       "    }\n",
       "\n",
       "    .dataframe tbody tr th {\n",
       "        vertical-align: top;\n",
       "    }\n",
       "\n",
       "    .dataframe thead th {\n",
       "        text-align: right;\n",
       "    }\n",
       "</style>\n",
       "<table border=\"1\" class=\"dataframe\">\n",
       "  <thead>\n",
       "    <tr style=\"text-align: right;\">\n",
       "      <th></th>\n",
       "      <th>year</th>\n",
       "      <th>category</th>\n",
       "      <th>prize</th>\n",
       "      <th>motivation</th>\n",
       "      <th>prize_share</th>\n",
       "      <th>laureate_id</th>\n",
       "      <th>laureate_type</th>\n",
       "      <th>full_name</th>\n",
       "      <th>birth_date</th>\n",
       "      <th>birth_city</th>\n",
       "      <th>...</th>\n",
       "      <th>sex</th>\n",
       "      <th>organization_name</th>\n",
       "      <th>organization_city</th>\n",
       "      <th>organization_country</th>\n",
       "      <th>death_date</th>\n",
       "      <th>death_city</th>\n",
       "      <th>death_country</th>\n",
       "      <th>usa_born_winner</th>\n",
       "      <th>decade</th>\n",
       "      <th>female_winner</th>\n",
       "    </tr>\n",
       "  </thead>\n",
       "  <tbody>\n",
       "    <tr>\n",
       "      <th>19</th>\n",
       "      <td>1903</td>\n",
       "      <td>Physics</td>\n",
       "      <td>The Nobel Prize in Physics 1903</td>\n",
       "      <td>\"in recognition of the extraordinary services ...</td>\n",
       "      <td>1/4</td>\n",
       "      <td>6</td>\n",
       "      <td>Individual</td>\n",
       "      <td>Marie Curie, née Sklodowska</td>\n",
       "      <td>1867-11-07</td>\n",
       "      <td>Warsaw</td>\n",
       "      <td>...</td>\n",
       "      <td>Female</td>\n",
       "      <td>NaN</td>\n",
       "      <td>NaN</td>\n",
       "      <td>NaN</td>\n",
       "      <td>1934-07-04</td>\n",
       "      <td>Sallanches</td>\n",
       "      <td>France</td>\n",
       "      <td>False</td>\n",
       "      <td>1900</td>\n",
       "      <td>True</td>\n",
       "    </tr>\n",
       "  </tbody>\n",
       "</table>\n",
       "<p>1 rows × 21 columns</p>\n",
       "</div>"
      ],
      "text/plain": [
       "    year category                            prize  \\\n",
       "19  1903  Physics  The Nobel Prize in Physics 1903   \n",
       "\n",
       "                                           motivation prize_share  \\\n",
       "19  \"in recognition of the extraordinary services ...         1/4   \n",
       "\n",
       "    laureate_id laureate_type                    full_name  birth_date  \\\n",
       "19            6    Individual  Marie Curie, née Sklodowska  1867-11-07   \n",
       "\n",
       "   birth_city  ...     sex organization_name organization_city  \\\n",
       "19     Warsaw  ...  Female               NaN               NaN   \n",
       "\n",
       "   organization_country  death_date  death_city death_country usa_born_winner  \\\n",
       "19                  NaN  1934-07-04  Sallanches        France           False   \n",
       "\n",
       "    decade  female_winner  \n",
       "19    1900           True  \n",
       "\n",
       "[1 rows x 21 columns]"
      ]
     },
     "execution_count": 10,
     "metadata": {},
     "output_type": "execute_result"
    }
   ],
   "source": [
    "# Picking out the first woman to win a Nobel Prize\n",
    "nobel[nobel.sex == 'Female'].nsmallest(1, 'year')"
   ]
  },
  {
   "cell_type": "markdown",
   "metadata": {
    "dc": {
     "key": "45"
    },
    "deletable": false,
    "editable": false,
    "run_control": {
     "frozen": true
    },
    "tags": [
     "context"
    ]
   },
   "source": [
    "## 7. Repeat laureates\n",
    "<p>For most scientists/writers/activists a Nobel Prize would be the crowning achievement of a long career. But for some people, one is just not enough, and few have gotten it more than once. Who are these lucky few? (Having won no Nobel Prize myself, I'll assume it's just about luck.)</p>"
   ]
  },
  {
   "cell_type": "code",
   "execution_count": 11,
   "metadata": {
    "dc": {
     "key": "45"
    },
    "tags": [
     "sample_code"
    ]
   },
   "outputs": [
    {
     "data": {
      "text/html": [
       "<div>\n",
       "<style scoped>\n",
       "    .dataframe tbody tr th:only-of-type {\n",
       "        vertical-align: middle;\n",
       "    }\n",
       "\n",
       "    .dataframe tbody tr th {\n",
       "        vertical-align: top;\n",
       "    }\n",
       "\n",
       "    .dataframe thead th {\n",
       "        text-align: right;\n",
       "    }\n",
       "</style>\n",
       "<table border=\"1\" class=\"dataframe\">\n",
       "  <thead>\n",
       "    <tr style=\"text-align: right;\">\n",
       "      <th></th>\n",
       "      <th>year</th>\n",
       "      <th>category</th>\n",
       "      <th>prize</th>\n",
       "      <th>motivation</th>\n",
       "      <th>prize_share</th>\n",
       "      <th>laureate_id</th>\n",
       "      <th>laureate_type</th>\n",
       "      <th>full_name</th>\n",
       "      <th>birth_date</th>\n",
       "      <th>birth_city</th>\n",
       "      <th>...</th>\n",
       "      <th>sex</th>\n",
       "      <th>organization_name</th>\n",
       "      <th>organization_city</th>\n",
       "      <th>organization_country</th>\n",
       "      <th>death_date</th>\n",
       "      <th>death_city</th>\n",
       "      <th>death_country</th>\n",
       "      <th>usa_born_winner</th>\n",
       "      <th>decade</th>\n",
       "      <th>female_winner</th>\n",
       "    </tr>\n",
       "  </thead>\n",
       "  <tbody>\n",
       "    <tr>\n",
       "      <th>19</th>\n",
       "      <td>1903</td>\n",
       "      <td>Physics</td>\n",
       "      <td>The Nobel Prize in Physics 1903</td>\n",
       "      <td>\"in recognition of the extraordinary services ...</td>\n",
       "      <td>1/4</td>\n",
       "      <td>6</td>\n",
       "      <td>Individual</td>\n",
       "      <td>Marie Curie, née Sklodowska</td>\n",
       "      <td>1867-11-07</td>\n",
       "      <td>Warsaw</td>\n",
       "      <td>...</td>\n",
       "      <td>Female</td>\n",
       "      <td>NaN</td>\n",
       "      <td>NaN</td>\n",
       "      <td>NaN</td>\n",
       "      <td>1934-07-04</td>\n",
       "      <td>Sallanches</td>\n",
       "      <td>France</td>\n",
       "      <td>False</td>\n",
       "      <td>1900</td>\n",
       "      <td>True</td>\n",
       "    </tr>\n",
       "    <tr>\n",
       "      <th>62</th>\n",
       "      <td>1911</td>\n",
       "      <td>Chemistry</td>\n",
       "      <td>The Nobel Prize in Chemistry 1911</td>\n",
       "      <td>\"in recognition of her services to the advance...</td>\n",
       "      <td>1/1</td>\n",
       "      <td>6</td>\n",
       "      <td>Individual</td>\n",
       "      <td>Marie Curie, née Sklodowska</td>\n",
       "      <td>1867-11-07</td>\n",
       "      <td>Warsaw</td>\n",
       "      <td>...</td>\n",
       "      <td>Female</td>\n",
       "      <td>Sorbonne University</td>\n",
       "      <td>Paris</td>\n",
       "      <td>France</td>\n",
       "      <td>1934-07-04</td>\n",
       "      <td>Sallanches</td>\n",
       "      <td>France</td>\n",
       "      <td>False</td>\n",
       "      <td>1910</td>\n",
       "      <td>True</td>\n",
       "    </tr>\n",
       "    <tr>\n",
       "      <th>89</th>\n",
       "      <td>1917</td>\n",
       "      <td>Peace</td>\n",
       "      <td>The Nobel Peace Prize 1917</td>\n",
       "      <td>NaN</td>\n",
       "      <td>1/1</td>\n",
       "      <td>482</td>\n",
       "      <td>Organization</td>\n",
       "      <td>Comité international de la Croix Rouge (Intern...</td>\n",
       "      <td>NaN</td>\n",
       "      <td>NaN</td>\n",
       "      <td>...</td>\n",
       "      <td>NaN</td>\n",
       "      <td>NaN</td>\n",
       "      <td>NaN</td>\n",
       "      <td>NaN</td>\n",
       "      <td>NaN</td>\n",
       "      <td>NaN</td>\n",
       "      <td>NaN</td>\n",
       "      <td>False</td>\n",
       "      <td>1910</td>\n",
       "      <td>False</td>\n",
       "    </tr>\n",
       "    <tr>\n",
       "      <th>215</th>\n",
       "      <td>1944</td>\n",
       "      <td>Peace</td>\n",
       "      <td>The Nobel Peace Prize 1944</td>\n",
       "      <td>NaN</td>\n",
       "      <td>1/1</td>\n",
       "      <td>482</td>\n",
       "      <td>Organization</td>\n",
       "      <td>Comité international de la Croix Rouge (Intern...</td>\n",
       "      <td>NaN</td>\n",
       "      <td>NaN</td>\n",
       "      <td>...</td>\n",
       "      <td>NaN</td>\n",
       "      <td>NaN</td>\n",
       "      <td>NaN</td>\n",
       "      <td>NaN</td>\n",
       "      <td>NaN</td>\n",
       "      <td>NaN</td>\n",
       "      <td>NaN</td>\n",
       "      <td>False</td>\n",
       "      <td>1940</td>\n",
       "      <td>False</td>\n",
       "    </tr>\n",
       "    <tr>\n",
       "      <th>278</th>\n",
       "      <td>1954</td>\n",
       "      <td>Chemistry</td>\n",
       "      <td>The Nobel Prize in Chemistry 1954</td>\n",
       "      <td>\"for his research into the nature of the chemi...</td>\n",
       "      <td>1/1</td>\n",
       "      <td>217</td>\n",
       "      <td>Individual</td>\n",
       "      <td>Linus Carl Pauling</td>\n",
       "      <td>1901-02-28</td>\n",
       "      <td>Portland, OR</td>\n",
       "      <td>...</td>\n",
       "      <td>Male</td>\n",
       "      <td>California Institute of Technology (Caltech)</td>\n",
       "      <td>Pasadena, CA</td>\n",
       "      <td>United States of America</td>\n",
       "      <td>1994-08-19</td>\n",
       "      <td>Big Sur, CA</td>\n",
       "      <td>United States of America</td>\n",
       "      <td>True</td>\n",
       "      <td>1950</td>\n",
       "      <td>False</td>\n",
       "    </tr>\n",
       "    <tr>\n",
       "      <th>283</th>\n",
       "      <td>1954</td>\n",
       "      <td>Peace</td>\n",
       "      <td>The Nobel Peace Prize 1954</td>\n",
       "      <td>NaN</td>\n",
       "      <td>1/1</td>\n",
       "      <td>515</td>\n",
       "      <td>Organization</td>\n",
       "      <td>Office of the United Nations High Commissioner...</td>\n",
       "      <td>NaN</td>\n",
       "      <td>NaN</td>\n",
       "      <td>...</td>\n",
       "      <td>NaN</td>\n",
       "      <td>NaN</td>\n",
       "      <td>NaN</td>\n",
       "      <td>NaN</td>\n",
       "      <td>NaN</td>\n",
       "      <td>NaN</td>\n",
       "      <td>NaN</td>\n",
       "      <td>False</td>\n",
       "      <td>1950</td>\n",
       "      <td>False</td>\n",
       "    </tr>\n",
       "    <tr>\n",
       "      <th>298</th>\n",
       "      <td>1956</td>\n",
       "      <td>Physics</td>\n",
       "      <td>The Nobel Prize in Physics 1956</td>\n",
       "      <td>\"for their researches on semiconductors and th...</td>\n",
       "      <td>1/3</td>\n",
       "      <td>66</td>\n",
       "      <td>Individual</td>\n",
       "      <td>John Bardeen</td>\n",
       "      <td>1908-05-23</td>\n",
       "      <td>Madison, WI</td>\n",
       "      <td>...</td>\n",
       "      <td>Male</td>\n",
       "      <td>University of Illinois</td>\n",
       "      <td>Urbana, IL</td>\n",
       "      <td>United States of America</td>\n",
       "      <td>1991-01-30</td>\n",
       "      <td>Boston, MA</td>\n",
       "      <td>United States of America</td>\n",
       "      <td>True</td>\n",
       "      <td>1950</td>\n",
       "      <td>False</td>\n",
       "    </tr>\n",
       "    <tr>\n",
       "      <th>306</th>\n",
       "      <td>1958</td>\n",
       "      <td>Chemistry</td>\n",
       "      <td>The Nobel Prize in Chemistry 1958</td>\n",
       "      <td>\"for his work on the structure of proteins, es...</td>\n",
       "      <td>1/1</td>\n",
       "      <td>222</td>\n",
       "      <td>Individual</td>\n",
       "      <td>Frederick Sanger</td>\n",
       "      <td>1918-08-13</td>\n",
       "      <td>Rendcombe</td>\n",
       "      <td>...</td>\n",
       "      <td>Male</td>\n",
       "      <td>University of Cambridge</td>\n",
       "      <td>Cambridge</td>\n",
       "      <td>United Kingdom</td>\n",
       "      <td>2013-11-19</td>\n",
       "      <td>Cambridge</td>\n",
       "      <td>United Kingdom</td>\n",
       "      <td>False</td>\n",
       "      <td>1950</td>\n",
       "      <td>False</td>\n",
       "    </tr>\n",
       "    <tr>\n",
       "      <th>340</th>\n",
       "      <td>1962</td>\n",
       "      <td>Peace</td>\n",
       "      <td>The Nobel Peace Prize 1962</td>\n",
       "      <td>NaN</td>\n",
       "      <td>1/1</td>\n",
       "      <td>217</td>\n",
       "      <td>Individual</td>\n",
       "      <td>Linus Carl Pauling</td>\n",
       "      <td>1901-02-28</td>\n",
       "      <td>Portland, OR</td>\n",
       "      <td>...</td>\n",
       "      <td>Male</td>\n",
       "      <td>California Institute of Technology (Caltech)</td>\n",
       "      <td>Pasadena, CA</td>\n",
       "      <td>United States of America</td>\n",
       "      <td>1994-08-19</td>\n",
       "      <td>Big Sur, CA</td>\n",
       "      <td>United States of America</td>\n",
       "      <td>True</td>\n",
       "      <td>1960</td>\n",
       "      <td>False</td>\n",
       "    </tr>\n",
       "    <tr>\n",
       "      <th>348</th>\n",
       "      <td>1963</td>\n",
       "      <td>Peace</td>\n",
       "      <td>The Nobel Peace Prize 1963</td>\n",
       "      <td>NaN</td>\n",
       "      <td>1/2</td>\n",
       "      <td>482</td>\n",
       "      <td>Organization</td>\n",
       "      <td>Comité international de la Croix Rouge (Intern...</td>\n",
       "      <td>NaN</td>\n",
       "      <td>NaN</td>\n",
       "      <td>...</td>\n",
       "      <td>NaN</td>\n",
       "      <td>NaN</td>\n",
       "      <td>NaN</td>\n",
       "      <td>NaN</td>\n",
       "      <td>NaN</td>\n",
       "      <td>NaN</td>\n",
       "      <td>NaN</td>\n",
       "      <td>False</td>\n",
       "      <td>1960</td>\n",
       "      <td>False</td>\n",
       "    </tr>\n",
       "    <tr>\n",
       "      <th>424</th>\n",
       "      <td>1972</td>\n",
       "      <td>Physics</td>\n",
       "      <td>The Nobel Prize in Physics 1972</td>\n",
       "      <td>\"for their jointly developed theory of superco...</td>\n",
       "      <td>1/3</td>\n",
       "      <td>66</td>\n",
       "      <td>Individual</td>\n",
       "      <td>John Bardeen</td>\n",
       "      <td>1908-05-23</td>\n",
       "      <td>Madison, WI</td>\n",
       "      <td>...</td>\n",
       "      <td>Male</td>\n",
       "      <td>University of Illinois</td>\n",
       "      <td>Urbana, IL</td>\n",
       "      <td>United States of America</td>\n",
       "      <td>1991-01-30</td>\n",
       "      <td>Boston, MA</td>\n",
       "      <td>United States of America</td>\n",
       "      <td>True</td>\n",
       "      <td>1970</td>\n",
       "      <td>False</td>\n",
       "    </tr>\n",
       "    <tr>\n",
       "      <th>505</th>\n",
       "      <td>1980</td>\n",
       "      <td>Chemistry</td>\n",
       "      <td>The Nobel Prize in Chemistry 1980</td>\n",
       "      <td>\"for their contributions concerning the determ...</td>\n",
       "      <td>1/4</td>\n",
       "      <td>222</td>\n",
       "      <td>Individual</td>\n",
       "      <td>Frederick Sanger</td>\n",
       "      <td>1918-08-13</td>\n",
       "      <td>Rendcombe</td>\n",
       "      <td>...</td>\n",
       "      <td>Male</td>\n",
       "      <td>MRC Laboratory of Molecular Biology</td>\n",
       "      <td>Cambridge</td>\n",
       "      <td>United Kingdom</td>\n",
       "      <td>2013-11-19</td>\n",
       "      <td>Cambridge</td>\n",
       "      <td>United Kingdom</td>\n",
       "      <td>False</td>\n",
       "      <td>1980</td>\n",
       "      <td>False</td>\n",
       "    </tr>\n",
       "    <tr>\n",
       "      <th>523</th>\n",
       "      <td>1981</td>\n",
       "      <td>Peace</td>\n",
       "      <td>The Nobel Peace Prize 1981</td>\n",
       "      <td>NaN</td>\n",
       "      <td>1/1</td>\n",
       "      <td>515</td>\n",
       "      <td>Organization</td>\n",
       "      <td>Office of the United Nations High Commissioner...</td>\n",
       "      <td>NaN</td>\n",
       "      <td>NaN</td>\n",
       "      <td>...</td>\n",
       "      <td>NaN</td>\n",
       "      <td>NaN</td>\n",
       "      <td>NaN</td>\n",
       "      <td>NaN</td>\n",
       "      <td>NaN</td>\n",
       "      <td>NaN</td>\n",
       "      <td>NaN</td>\n",
       "      <td>False</td>\n",
       "      <td>1980</td>\n",
       "      <td>False</td>\n",
       "    </tr>\n",
       "  </tbody>\n",
       "</table>\n",
       "<p>13 rows × 21 columns</p>\n",
       "</div>"
      ],
      "text/plain": [
       "     year   category                              prize  \\\n",
       "19   1903    Physics    The Nobel Prize in Physics 1903   \n",
       "62   1911  Chemistry  The Nobel Prize in Chemistry 1911   \n",
       "89   1917      Peace         The Nobel Peace Prize 1917   \n",
       "215  1944      Peace         The Nobel Peace Prize 1944   \n",
       "278  1954  Chemistry  The Nobel Prize in Chemistry 1954   \n",
       "283  1954      Peace         The Nobel Peace Prize 1954   \n",
       "298  1956    Physics    The Nobel Prize in Physics 1956   \n",
       "306  1958  Chemistry  The Nobel Prize in Chemistry 1958   \n",
       "340  1962      Peace         The Nobel Peace Prize 1962   \n",
       "348  1963      Peace         The Nobel Peace Prize 1963   \n",
       "424  1972    Physics    The Nobel Prize in Physics 1972   \n",
       "505  1980  Chemistry  The Nobel Prize in Chemistry 1980   \n",
       "523  1981      Peace         The Nobel Peace Prize 1981   \n",
       "\n",
       "                                            motivation prize_share  \\\n",
       "19   \"in recognition of the extraordinary services ...         1/4   \n",
       "62   \"in recognition of her services to the advance...         1/1   \n",
       "89                                                 NaN         1/1   \n",
       "215                                                NaN         1/1   \n",
       "278  \"for his research into the nature of the chemi...         1/1   \n",
       "283                                                NaN         1/1   \n",
       "298  \"for their researches on semiconductors and th...         1/3   \n",
       "306  \"for his work on the structure of proteins, es...         1/1   \n",
       "340                                                NaN         1/1   \n",
       "348                                                NaN         1/2   \n",
       "424  \"for their jointly developed theory of superco...         1/3   \n",
       "505  \"for their contributions concerning the determ...         1/4   \n",
       "523                                                NaN         1/1   \n",
       "\n",
       "     laureate_id laureate_type  \\\n",
       "19             6    Individual   \n",
       "62             6    Individual   \n",
       "89           482  Organization   \n",
       "215          482  Organization   \n",
       "278          217    Individual   \n",
       "283          515  Organization   \n",
       "298           66    Individual   \n",
       "306          222    Individual   \n",
       "340          217    Individual   \n",
       "348          482  Organization   \n",
       "424           66    Individual   \n",
       "505          222    Individual   \n",
       "523          515  Organization   \n",
       "\n",
       "                                             full_name  birth_date  \\\n",
       "19                         Marie Curie, née Sklodowska  1867-11-07   \n",
       "62                         Marie Curie, née Sklodowska  1867-11-07   \n",
       "89   Comité international de la Croix Rouge (Intern...         NaN   \n",
       "215  Comité international de la Croix Rouge (Intern...         NaN   \n",
       "278                                 Linus Carl Pauling  1901-02-28   \n",
       "283  Office of the United Nations High Commissioner...         NaN   \n",
       "298                                       John Bardeen  1908-05-23   \n",
       "306                                   Frederick Sanger  1918-08-13   \n",
       "340                                 Linus Carl Pauling  1901-02-28   \n",
       "348  Comité international de la Croix Rouge (Intern...         NaN   \n",
       "424                                       John Bardeen  1908-05-23   \n",
       "505                                   Frederick Sanger  1918-08-13   \n",
       "523  Office of the United Nations High Commissioner...         NaN   \n",
       "\n",
       "       birth_city  ...     sex                             organization_name  \\\n",
       "19         Warsaw  ...  Female                                           NaN   \n",
       "62         Warsaw  ...  Female                           Sorbonne University   \n",
       "89            NaN  ...     NaN                                           NaN   \n",
       "215           NaN  ...     NaN                                           NaN   \n",
       "278  Portland, OR  ...    Male  California Institute of Technology (Caltech)   \n",
       "283           NaN  ...     NaN                                           NaN   \n",
       "298   Madison, WI  ...    Male                        University of Illinois   \n",
       "306     Rendcombe  ...    Male                       University of Cambridge   \n",
       "340  Portland, OR  ...    Male  California Institute of Technology (Caltech)   \n",
       "348           NaN  ...     NaN                                           NaN   \n",
       "424   Madison, WI  ...    Male                        University of Illinois   \n",
       "505     Rendcombe  ...    Male           MRC Laboratory of Molecular Biology   \n",
       "523           NaN  ...     NaN                                           NaN   \n",
       "\n",
       "    organization_city      organization_country  death_date   death_city  \\\n",
       "19                NaN                       NaN  1934-07-04   Sallanches   \n",
       "62              Paris                    France  1934-07-04   Sallanches   \n",
       "89                NaN                       NaN         NaN          NaN   \n",
       "215               NaN                       NaN         NaN          NaN   \n",
       "278      Pasadena, CA  United States of America  1994-08-19  Big Sur, CA   \n",
       "283               NaN                       NaN         NaN          NaN   \n",
       "298        Urbana, IL  United States of America  1991-01-30   Boston, MA   \n",
       "306         Cambridge            United Kingdom  2013-11-19    Cambridge   \n",
       "340      Pasadena, CA  United States of America  1994-08-19  Big Sur, CA   \n",
       "348               NaN                       NaN         NaN          NaN   \n",
       "424        Urbana, IL  United States of America  1991-01-30   Boston, MA   \n",
       "505         Cambridge            United Kingdom  2013-11-19    Cambridge   \n",
       "523               NaN                       NaN         NaN          NaN   \n",
       "\n",
       "                death_country usa_born_winner  decade  female_winner  \n",
       "19                     France           False    1900           True  \n",
       "62                     France           False    1910           True  \n",
       "89                        NaN           False    1910          False  \n",
       "215                       NaN           False    1940          False  \n",
       "278  United States of America            True    1950          False  \n",
       "283                       NaN           False    1950          False  \n",
       "298  United States of America            True    1950          False  \n",
       "306            United Kingdom           False    1950          False  \n",
       "340  United States of America            True    1960          False  \n",
       "348                       NaN           False    1960          False  \n",
       "424  United States of America            True    1970          False  \n",
       "505            United Kingdom           False    1980          False  \n",
       "523                       NaN           False    1980          False  \n",
       "\n",
       "[13 rows x 21 columns]"
      ]
     },
     "execution_count": 11,
     "metadata": {},
     "output_type": "execute_result"
    }
   ],
   "source": [
    "# Selecting the laureates that have received 2 or more prizes.\n",
    "nobel.groupby('full_name').filter(lambda group: len(group) >= 2)"
   ]
  },
  {
   "cell_type": "markdown",
   "metadata": {
    "dc": {
     "key": "52"
    },
    "deletable": false,
    "editable": false,
    "run_control": {
     "frozen": true
    },
    "tags": [
     "context"
    ]
   },
   "source": [
    "## 8. How old are you when you get the prize?\n",
    "<p>The list of repeat winners contains some illustrious names! We again meet Marie Curie, who got the prize in physics for discovering radiation and in chemistry for isolating radium and polonium. John Bardeen got it twice in physics for transistors and superconductivity, Frederick Sanger got it twice in chemistry, and Linus Carl Pauling got it first in chemistry and later in peace for his work in promoting nuclear disarmament. We also learn that organizations also get the prize as both the Red Cross and the UNHCR have gotten it twice.</p>\n",
    "<p>But how old are you generally when you get the prize?</p>"
   ]
  },
  {
   "cell_type": "code",
   "execution_count": 13,
   "metadata": {
    "dc": {
     "key": "52"
    },
    "tags": [
     "sample_code"
    ]
   },
   "outputs": [
    {
     "data": {
      "image/png": "[encoded data removed]",
      "text/plain": [
       "<Figure size 720x360 with 1 Axes>"
      ]
     },
     "metadata": {},
     "output_type": "display_data"
    }
   ],
   "source": [
    "# Converting birth_date from String to datetime\n",
    "nobel['birth_date'] = pd.to_datetime(nobel['birth_date'])\n",
    "\n",
    "# Calculating the age of Nobel Prize winners\n",
    "nobel['age'] = nobel['year'] - nobel['birth_date'].dt.year\n",
    "\n",
    "# Plotting the age of Nobel Prize winners\n",
    "sns.lmplot(x='year', y='age', data=nobel, lowess=True, \n",
    "           aspect=2, line_kws={'color':'black'});"
   ]
  },
  {
   "cell_type": "markdown",
   "metadata": {
    "dc": {
     "key": "59"
    },
    "deletable": false,
    "editable": false,
    "run_control": {
     "frozen": true
    },
    "tags": [
     "context"
    ]
   },
   "source": [
    "## 9. Age differences between prize categories\n",
    "<p>The plot above shows us a lot! We see that people use to be around 55 when they received the price, but nowadays the average is closer to 65. But there is a large spread in the laureates' ages, and while most are 50+, some are very young.</p>\n",
    "<p>We also see that the density of points is much high nowadays than in the early 1900s -- nowadays many more of the prizes are shared, and so there are many more winners. We also see that there was a disruption in awarded prizes around the Second World War (1939 - 1945). </p>\n",
    "<p>Let's look at age trends within different prize categories.</p>"
   ]
  },
  {
   "cell_type": "code",
   "execution_count": 0,
   "metadata": {
    "dc": {
     "key": "59"
    },
    "tags": [
     "sample_code"
    ]
   },
   "outputs": [],
   "source": [
    "# Same plot as above, but separate plots for each type of Nobel Prize\n",
    "sns.lmplot(x='year', y='age', row='category', data=nobel, lowess=True, \n",
    "           aspect=2, line_kws={'color':'black'})"
   ]
  },
  {
   "cell_type": "markdown",
   "metadata": {
    "dc": {
     "key": "66"
    },
    "deletable": false,
    "editable": false,
    "run_control": {
     "frozen": true
    },
    "tags": [
     "context"
    ]
   },
   "source": [
    "## 10. Oldest and youngest winners\n",
    "<p>More plots with lots of exciting stuff going on! We see that both winners of the chemistry, medicine, and physics prize have gotten older over time. The trend is strongest for physics: the average age used to be below 50, and now it's almost 70. Literature and economics are more stable. We also see that economics is a newer category. But peace shows an opposite trend where winners are getting younger! </p>\n",
    "<p>In the peace category we also a winner around 2010 that seems exceptionally young. This begs the questions, who are the oldest and youngest people ever to have won a Nobel Prize?</p>"
   ]
  },
  {
   "cell_type": "code",
   "execution_count": 14,
   "metadata": {
    "dc": {
     "key": "66"
    },
    "tags": [
     "sample_code"
    ]
   },
   "outputs": [
    {
     "data": {
      "text/html": [
       "<div>\n",
       "<style scoped>\n",
       "    .dataframe tbody tr th:only-of-type {\n",
       "        vertical-align: middle;\n",
       "    }\n",
       "\n",
       "    .dataframe tbody tr th {\n",
       "        vertical-align: top;\n",
       "    }\n",
       "\n",
       "    .dataframe thead th {\n",
       "        text-align: right;\n",
       "    }\n",
       "</style>\n",
       "<table border=\"1\" class=\"dataframe\">\n",
       "  <thead>\n",
       "    <tr style=\"text-align: right;\">\n",
       "      <th></th>\n",
       "      <th>year</th>\n",
       "      <th>category</th>\n",
       "      <th>prize</th>\n",
       "      <th>motivation</th>\n",
       "      <th>prize_share</th>\n",
       "      <th>laureate_id</th>\n",
       "      <th>laureate_type</th>\n",
       "      <th>full_name</th>\n",
       "      <th>birth_date</th>\n",
       "      <th>birth_city</th>\n",
       "      <th>...</th>\n",
       "      <th>organization_name</th>\n",
       "      <th>organization_city</th>\n",
       "      <th>organization_country</th>\n",
       "      <th>death_date</th>\n",
       "      <th>death_city</th>\n",
       "      <th>death_country</th>\n",
       "      <th>usa_born_winner</th>\n",
       "      <th>decade</th>\n",
       "      <th>female_winner</th>\n",
       "      <th>age</th>\n",
       "    </tr>\n",
       "  </thead>\n",
       "  <tbody>\n",
       "    <tr>\n",
       "      <th>793</th>\n",
       "      <td>2007</td>\n",
       "      <td>Economics</td>\n",
       "      <td>The Sveriges Riksbank Prize in Economic Scienc...</td>\n",
       "      <td>\"for having laid the foundations of mechanism ...</td>\n",
       "      <td>1/3</td>\n",
       "      <td>820</td>\n",
       "      <td>Individual</td>\n",
       "      <td>Leonid Hurwicz</td>\n",
       "      <td>1917-08-21</td>\n",
       "      <td>Moscow</td>\n",
       "      <td>...</td>\n",
       "      <td>University of Minnesota</td>\n",
       "      <td>Minneapolis, MN</td>\n",
       "      <td>United States of America</td>\n",
       "      <td>2008-06-24</td>\n",
       "      <td>Minneapolis, MN</td>\n",
       "      <td>United States of America</td>\n",
       "      <td>False</td>\n",
       "      <td>2000</td>\n",
       "      <td>False</td>\n",
       "      <td>90.0</td>\n",
       "    </tr>\n",
       "  </tbody>\n",
       "</table>\n",
       "<p>1 rows × 22 columns</p>\n",
       "</div>"
      ],
      "text/plain": [
       "     year   category                                              prize  \\\n",
       "793  2007  Economics  The Sveriges Riksbank Prize in Economic Scienc...   \n",
       "\n",
       "                                            motivation prize_share  \\\n",
       "793  \"for having laid the foundations of mechanism ...         1/3   \n",
       "\n",
       "     laureate_id laureate_type       full_name birth_date birth_city  ...  \\\n",
       "793          820    Individual  Leonid Hurwicz 1917-08-21     Moscow  ...   \n",
       "\n",
       "           organization_name organization_city      organization_country  \\\n",
       "793  University of Minnesota   Minneapolis, MN  United States of America   \n",
       "\n",
       "     death_date       death_city             death_country usa_born_winner  \\\n",
       "793  2008-06-24  Minneapolis, MN  United States of America           False   \n",
       "\n",
       "    decade  female_winner   age  \n",
       "793   2000          False  90.0  \n",
       "\n",
       "[1 rows x 22 columns]"
      ]
     },
     "metadata": {},
     "output_type": "display_data"
    },
    {
     "data": {
      "text/html": [
       "<div>\n",
       "<style scoped>\n",
       "    .dataframe tbody tr th:only-of-type {\n",
       "        vertical-align: middle;\n",
       "    }\n",
       "\n",
       "    .dataframe tbody tr th {\n",
       "        vertical-align: top;\n",
       "    }\n",
       "\n",
       "    .dataframe thead th {\n",
       "        text-align: right;\n",
       "    }\n",
       "</style>\n",
       "<table border=\"1\" class=\"dataframe\">\n",
       "  <thead>\n",
       "    <tr style=\"text-align: right;\">\n",
       "      <th></th>\n",
       "      <th>year</th>\n",
       "      <th>category</th>\n",
       "      <th>prize</th>\n",
       "      <th>motivation</th>\n",
       "      <th>prize_share</th>\n",
       "      <th>laureate_id</th>\n",
       "      <th>laureate_type</th>\n",
       "      <th>full_name</th>\n",
       "      <th>birth_date</th>\n",
       "      <th>birth_city</th>\n",
       "      <th>...</th>\n",
       "      <th>organization_name</th>\n",
       "      <th>organization_city</th>\n",
       "      <th>organization_country</th>\n",
       "      <th>death_date</th>\n",
       "      <th>death_city</th>\n",
       "      <th>death_country</th>\n",
       "      <th>usa_born_winner</th>\n",
       "      <th>decade</th>\n",
       "      <th>female_winner</th>\n",
       "      <th>age</th>\n",
       "    </tr>\n",
       "  </thead>\n",
       "  <tbody>\n",
       "    <tr>\n",
       "      <th>885</th>\n",
       "      <td>2014</td>\n",
       "      <td>Peace</td>\n",
       "      <td>The Nobel Peace Prize 2014</td>\n",
       "      <td>\"for their struggle against the suppression of...</td>\n",
       "      <td>1/2</td>\n",
       "      <td>914</td>\n",
       "      <td>Individual</td>\n",
       "      <td>Malala Yousafzai</td>\n",
       "      <td>1997-07-12</td>\n",
       "      <td>Mingora</td>\n",
       "      <td>...</td>\n",
       "      <td>NaN</td>\n",
       "      <td>NaN</td>\n",
       "      <td>NaN</td>\n",
       "      <td>NaN</td>\n",
       "      <td>NaN</td>\n",
       "      <td>NaN</td>\n",
       "      <td>False</td>\n",
       "      <td>2010</td>\n",
       "      <td>True</td>\n",
       "      <td>17.0</td>\n",
       "    </tr>\n",
       "  </tbody>\n",
       "</table>\n",
       "<p>1 rows × 22 columns</p>\n",
       "</div>"
      ],
      "text/plain": [
       "     year category                       prize  \\\n",
       "885  2014    Peace  The Nobel Peace Prize 2014   \n",
       "\n",
       "                                            motivation prize_share  \\\n",
       "885  \"for their struggle against the suppression of...         1/2   \n",
       "\n",
       "     laureate_id laureate_type         full_name birth_date birth_city  ...  \\\n",
       "885          914    Individual  Malala Yousafzai 1997-07-12    Mingora  ...   \n",
       "\n",
       "    organization_name organization_city organization_country death_date  \\\n",
       "885               NaN               NaN                  NaN        NaN   \n",
       "\n",
       "    death_city death_country usa_born_winner decade  female_winner   age  \n",
       "885        NaN           NaN           False   2010           True  17.0  \n",
       "\n",
       "[1 rows x 22 columns]"
      ]
     },
     "execution_count": 14,
     "metadata": {},
     "output_type": "execute_result"
    }
   ],
   "source": [
    "# The oldest winner of a Nobel Prize as of 2016\n",
    "display(nobel.nlargest(1, 'age'))\n",
    "\n",
    "# The youngest winner of a Nobel Prize as of 2016\n",
    "nobel.nsmallest(1, 'age')"
   ]
  },
  {
   "cell_type": "markdown",
   "metadata": {
    "dc": {
     "key": "73"
    },
    "deletable": false,
    "editable": false,
    "run_control": {
     "frozen": true
    },
    "tags": [
     "context"
    ]
   },
   "source": [
    "## 11. You get a prize!\n",
    "<p><img style=\"float: right;margin:20px 20px 20px 20px; max-width:200px\" src=\"https://assets.datacamp.com/production/project_441/img/paint_nobel_prize.png\"></p>\n",
    "<p>Hey! You get a prize for making it to the very end of this notebook! It might not be a Nobel Prize, but I made it myself in paint so it should count for something. But don't despair, Leonid Hurwicz was 90 years old when he got his prize, so it might not be too late for you. Who knows.</p>\n",
    "<p>Before you leave, what was again the name of the youngest winner ever who in 2014 got the prize for \"[her] struggle against the suppression of children and young people and for the right of all children to education\"?</p>"
   ]
  },
  {
   "cell_type": "code",
   "execution_count": 15,
   "metadata": {
    "dc": {
     "key": "73"
    },
    "tags": [
     "sample_code"
    ]
   },
   "outputs": [],
   "source": [
    "# The name of the youngest winner of the Nobel Prize as of 2016\n",
    "youngest_winner = 'Malala'"
   ]
  }
 ],
 "metadata": {
  "kernelspec": {
   "display_name": "Python 3",
   "language": "python",
   "name": "python3"
  },
  "language_info": {
   "codemirror_mode": {
    "name": "ipython",
    "version": 3
   },
   "file_extension": ".py",
   "mimetype": "text/x-python",
   "name": "python",
   "nbconvert_exporter": "python",
   "pygments_lexer": "ipython3",
   "version": "3.8.5"
  },
  "toc": {
   "base_numbering": 1,
   "nav_menu": {},
   "number_sections": false,
   "sideBar": true,
   "skip_h1_title": false,
   "title_cell": "Table of Contents",
   "title_sidebar": "Contents",
   "toc_cell": false,
   "toc_position": {},
   "toc_section_display": true,
   "toc_window_display": false
  },
  "varInspector": {
   "cols": {
    "lenName": 16,
    "lenType": 16,
    "lenVar": 40
   },
   "kernels_config": {
    "python": {
     "delete_cmd_postfix": "",
     "delete_cmd_prefix": "del ",
     "library": "var_list.py",
     "varRefreshCmd": "print(var_dic_list())"
    },
    "r": {
     "delete_cmd_postfix": ") ",
     "delete_cmd_prefix": "rm(",
     "library": "var_list.r",
     "varRefreshCmd": "cat(var_dic_list()) "
    }
   },
   "types_to_exclude": [
    "module",
    "function",
    "builtin_function_or_method",
    "instance",
    "_Feature"
   ],
   "window_display": false
  }
 },
 "nbformat": 4,
 "nbformat_minor": 2
}
