{
 "cells": [
  {
   "cell_type": "markdown",
   "id": "radical-symphony",
   "metadata": {},
   "source": [
    "# A Visual History of Nobel Prize Winners\n",
    "\n",
    "Explore a dataset from Kaggle containing a century's worth of Nobel Laureates. Who won? Who got snubbed?\n",
    "\n",
    "## Project Description\n",
    "\n",
    "The Nobel Prize is perhaps the world's most well known scientific award. Every year it is given to scientists and scholars in chemistry, literature, physics, medicine, economics, and peace. The first Nobel Prize was handed out in 1901, and at that time the prize was Eurocentric and male-focused, but nowadays it's not biased in any way. Surely, right?\n",
    "\n",
    "Well, let's find out! What characteristics do the prize winners have? Which country gets it most often? And has anybody gotten it twice? It's up to you to figure this out.\n",
    "\n",
    "The [dataset](https://www.kaggle.com/nobelfoundation/nobel-laureates) used in this project is from The Nobel Foundation on Kaggle.\n",
    "\n",
    "## Guided Project\n",
    "\n",
    "In this project, you will use your data manipulation and visualization skills to explore patterns and trends over 100 years worth of Nobel Prize winners.\n",
    "\n",
    "### Project Tasks\n",
    "\n",
    "1. The most Nobel of Prizes\n",
    "2. So, who gets the Nobel Prize?\n",
    "3. USA dominance\n",
    "4. USA dominance, visualized\n",
    "5. What is the gender of a typical Nobel Prize winner?\n",
    "6. The first woman to win the Nobel Prize\n",
    "7. Repeat laureates\n",
    "8. How old are you when you get the prize?\n",
    "9. Age differences between prize categories\n",
    "10. Oldest and youngest winners\n",
    "11. You get a prize!"
   ]
  }
 ],
 "metadata": {
  "kernelspec": {
   "display_name": "Python 3",
   "language": "python",
   "name": "python3"
  },
  "language_info": {
   "codemirror_mode": {
    "name": "ipython",
    "version": 3
   },
   "file_extension": ".py",
   "mimetype": "text/x-python",
   "name": "python",
   "nbconvert_exporter": "python",
   "pygments_lexer": "ipython3",
   "version": "3.8.5"
  },
  "toc": {
   "base_numbering": 1,
   "nav_menu": {},
   "number_sections": false,
   "sideBar": true,
   "skip_h1_title": false,
   "title_cell": "Table of Contents",
   "title_sidebar": "Contents",
   "toc_cell": false,
   "toc_position": {},
   "toc_section_display": true,
   "toc_window_display": false
  },
  "varInspector": {
   "cols": {
    "lenName": 16,
    "lenType": 16,
    "lenVar": 40
   },
   "kernels_config": {
    "python": {
     "delete_cmd_postfix": "",
     "delete_cmd_prefix": "del ",
     "library": "var_list.py",
     "varRefreshCmd": "print(var_dic_list())"
    },
    "r": {
     "delete_cmd_postfix": ") ",
     "delete_cmd_prefix": "rm(",
     "library": "var_list.r",
     "varRefreshCmd": "cat(var_dic_list()) "
    }
   },
   "types_to_exclude": [
    "module",
    "function",
    "builtin_function_or_method",
    "instance",
    "_Feature"
   ],
   "window_display": false
  }
 },
 "nbformat": 4,
 "nbformat_minor": 5
}
