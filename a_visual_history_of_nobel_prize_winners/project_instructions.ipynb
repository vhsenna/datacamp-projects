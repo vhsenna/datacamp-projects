{
 "cells": [
  {
   "cell_type": "markdown",
   "id": "dense-acceptance",
   "metadata": {},
   "source": [
    "# Task 1: Instructions\n",
    "\n",
    "Load the required libraries and the Nobel Prize dataset.\n",
    "\n",
    "- Import the `pandas` library as `pd`.\n",
    "- Import the `seaborn` library as `sns`.\n",
    "- Import the `numpy` library as `np`.\n",
    "- Use `pd.read_csv` to read in `datasets/nobel.csv` and save it into `nobel`.\n",
    "- Show at least the first six entries of `nobel` using the `head()` method, setting `n=6` or greater.\n",
    "\n",
    "## Good to know\n",
    "\n",
    "This project assumes you are familiar with the `pandas` and `seaborn` libraries and before taking on this project, we recommend that you have completed the courses [Data Manipulation with pandas](https://www.datacamp.com/courses/data-manipulation-with-pandas) and [Intermediate Data Visualization with Seaborn](https://www.datacamp.com/courses/intermediate-data-visualization-with-seaborn).\n",
    "\n",
    "Two cheat sheets that will be useful throughout this project: DataCamp's [Seaborn cheat sheet](https://s3.amazonaws.com/assets.datacamp.com/blog_assets/Python_Seaborn_Cheat_Sheet.pdf) and [Data Wrangling with pandas](https://github.com/pandas-dev/pandas/blob/master/doc/cheatsheet/Pandas_Cheat_Sheet.pdf) cheat sheet. We recommend that you keep them open in separate tabs to make it easy to refer to them."
   ]
  },
  {
   "cell_type": "markdown",
   "id": "valuable-imagination",
   "metadata": {},
   "source": [
    "# Task 2: Instructions\n",
    "\n",
    "Count up the Nobel Prizes. Also, split by `sex` and `birth_country`.\n",
    "\n",
    "- Count the number of rows/prizes using the `len()` function. Use the `display()` function to display the result.\n",
    "- Count and `display` the number of prizes for each `sex` using the `value_counts()` method.\n",
    "- Count the number of prizes for each `birth_country` using `value_counts()` and show the top 10 using `head()`. **Do not use `display()`.**\n",
    "\n",
    "By default, a Jupyter Notebook (which is where you are working right now) will only show the final output in a cell. If you want to show intermediate results, you will have to use the `display()` function. See [here](https://cmdlinetips.com/2018/02/how-to-get-frequency-counts-of-a-column-in-pandas-dataframe/) for an example of how to use `value_counts()`.\n",
    "\n",
    "Why `display()` over `print()`? Try them both out for yourself. You'll find that the output of `display()` is prettier. :)"
   ]
  },
  {
   "cell_type": "markdown",
   "id": "combined-brown",
   "metadata": {},
   "source": [
    "# Task 3: Instructions\n",
    "\n",
    "Create a DataFrame with two columns: decade and proportion of USA-born Nobel Prize winners that decade.\n",
    "\n",
    "- Add a `usa_born_winner` column to `nobel`, where the value is `True` when `birth_country` is `\"United States of America\"`.\n",
    "- Add a `decade` column to `nobel` for the decade each prize was awarded. Here, `np.floor()` will come in handy. Ensure the decade column is of type `int64`.\n",
    "- Use `groupby` to group by `decade`, setting `as_index=False`. Then isolate the `usa_born_winner` column and take the `mean()`. Assign the resulting DataFrame to `prop_usa_winners`.\n",
    "- Display `prop_usa_winners`.\n",
    "\n",
    "For the `decade` column, 1953 should become 1950, for example. Calculating this column is a bit tricky, but try to see if you can solve it using the `np.floor` function. If not, check the hint!\n",
    "\n",
    "By setting `as_index=False`, you make sure that both the grouping variable and the calculated mean are included in the resulting DataFrame."
   ]
  },
  {
   "cell_type": "markdown",
   "id": "serious-affiliation",
   "metadata": {},
   "source": [
    "# Task 4: Instructions\n",
    "\n",
    "Plot the proportion of USA born winners per decade.\n",
    "\n",
    "- Use seaborn to plot `prop_usa_winners` with `decade` on the x-axis and `usa_born_winner` on the y-axis as an `sns.lineplot`. Assign the plot to ax.\n",
    "- Fix the y-scale so that it shows percentages using `PercentFormatter`.\n",
    "\n",
    "See [here](https://stackoverflow.com/a/36319915/1001848) for a Stack Overflow answer on how `PercentFormatter` works and [here](https://seaborn.pydata.org/generated/seaborn.lineplot.html) for the documentation of `lineplot`."
   ]
  },
  {
   "cell_type": "markdown",
   "id": "bronze-burns",
   "metadata": {},
   "source": [
    "# Task 5: Instructions\n",
    "\n",
    "Plot the proportion of female laureates by decade split by prize category.\n",
    "\n",
    "- Add the `female_winner` column to `nobel`, where the value is `True` when `sex` is `\"Female\"`.\n",
    "- Use `groupby` to group by both `decade` and `category`, setting `as_index=False`. Then isolate the `female_winner` column and take the `mean()`. Assign the resulting DataFrame to `prop_female_winners`.\n",
    "- Copy and paste your `seaborn` plot from task 4 (including axis formatting code), but plot `prop_female_winners` and map the `category` variable to the `hue` parameter.\n",
    "\n",
    "This task can be solved by copying and modifying the code from task 3 and 4."
   ]
  },
  {
   "cell_type": "markdown",
   "id": "naked-recipe",
   "metadata": {},
   "source": [
    "# Task 6: Instructions\n",
    "\n",
    "Extract and display the row showing the first woman to win a Nobel Prize.\n",
    "\n",
    "- Select only the rows of `'Female'` winners in `nobel`.\n",
    "- Using the `nsmallest()` method with its `n` and `columns` parameters, pick out the first woman to get a Nobel Prize.\n",
    "\n",
    "See [here](https://pandas.pydata.org/pandas-docs/stable/generated/pandas.DataFrame.nsmallest.html) for the documentation of `nsmallest()`."
   ]
  },
  {
   "cell_type": "markdown",
   "id": "attached-herald",
   "metadata": {},
   "source": [
    "# Task 7: Instructions\n",
    "\n",
    "Extract and display the rows of repeat Nobel Prize winners.\n",
    "\n",
    "- Use `groupby` to group `nobel` by `'full_name'`.\n",
    "- Use the `filter` method to keep only those rows in `nobel` with winners with 2 or more prizes.\n",
    "\n",
    "See [here](http://pandas.pydata.org/pandas-docs/stable/groupby.html#filtration) for how to use the `filter` method."
   ]
  },
  {
   "cell_type": "markdown",
   "id": "prompt-baking",
   "metadata": {},
   "source": [
    "# Task 8: Instructions\n",
    "\n",
    "Calculate and plot the age of each winner when they won their Nobel Prize.\n",
    "\n",
    "- Convert the `nobel['birth_date']` column to datetime using `pd.to_datetime`.\n",
    "- Add a new column `nobel['age']` that contains the age of each winner when they got the prize. That is, year of prize win minus birth year.\n",
    "- Use `sns.lmplot` (**not** `sns.lineplot`) to make a plot with `year` on the x-axis and `age` on the y-axis.\n",
    "\n",
    "To get the year from a datetime column you need to use access the dt.year value. Here is an example:\n",
    "\n",
    "```\n",
    "a_data_frame['a_datatime_column'].dt.year\n",
    "```\n",
    "\n",
    "Seaborn's `lmplot` is a 2D scatterplot with an optional overlaid regression line. This type of plot is useful for [visualizing linear relationships](https://seaborn.pydata.org/tutorial/regression.html).\n",
    "\n",
    "To make the plot prettier, add the arguments `lowess=True`, `aspect=2`, and `line_kws={'color':'black'}`."
   ]
  },
  {
   "cell_type": "markdown",
   "id": "western-arcade",
   "metadata": {},
   "source": [
    "# Task 9: Instructions\n",
    "\n",
    "Plot how old winners are within the different price categories.\n",
    "\n",
    "- As before, use `sns.lmplot` to make a plot with `year` on the x-axis and `age` on the y-axis. But this time, make one plot per prize category by setting the `row` argument to `'category'`.\n",
    "\n",
    "This is the same plot as in task 8, except with the added `row=` argument (examples in the official Seaborn documentation [here](https://seaborn.pydata.org/generated/seaborn.lmplot.html))."
   ]
  },
  {
   "cell_type": "markdown",
   "id": "parental-agent",
   "metadata": {},
   "source": [
    "# Task 10: Instructions\n",
    "\n",
    "Pick out the rows of the oldest and the youngest winner of a Nobel Prize.\n",
    "\n",
    "- Use `nlargest()` to pick out and display the row of the oldest winner.\n",
    "- Use `nsmallest()` to pick out and display the row of the youngest winner.\n",
    "\n",
    "As before, you will need to use `display()` to display more than the last output of the cell. Here is [the documentation for nsmallest](https://pandas.pydata.org/pandas-docs/stable/generated/pandas.DataFrame.nsmallest.html) and [n_largest](https://pandas.pydata.org/pandas-docs/stable/generated/pandas.DataFrame.nlargest.html)."
   ]
  },
  {
   "cell_type": "markdown",
   "id": "rational-desire",
   "metadata": {},
   "source": [
    "# Task 11: Instructions\n",
    "\n",
    "- Assign the name of the youngest winner of a Nobel Prize to `youngest_winner`. The first name will suffice.\n",
    "\n",
    "## If you want to know more\n",
    "\n",
    "The Nobel Prize dataset is rich, and this project just scratched the surface -- there is much more to explore! After you have completed this project, you can download it and continue exploring on your own! To do that you will have to install Jupyter Notebooks. Here are instructions for [how to install the Jupyter Notebook interface](http://jupyter.org/install.html). Good luck!"
   ]
  },
  {
   "cell_type": "code",
   "execution_count": null,
   "id": "advised-interaction",
   "metadata": {},
   "outputs": [],
   "source": []
  }
 ],
 "metadata": {
  "kernelspec": {
   "display_name": "Python 3",
   "language": "python",
   "name": "python3"
  },
  "language_info": {
   "codemirror_mode": {
    "name": "ipython",
    "version": 3
   },
   "file_extension": ".py",
   "mimetype": "text/x-python",
   "name": "python",
   "nbconvert_exporter": "python",
   "pygments_lexer": "ipython3",
   "version": "3.8.5"
  },
  "toc": {
   "base_numbering": 1,
   "nav_menu": {},
   "number_sections": false,
   "sideBar": true,
   "skip_h1_title": false,
   "title_cell": "Table of Contents",
   "title_sidebar": "Contents",
   "toc_cell": false,
   "toc_position": {},
   "toc_section_display": true,
   "toc_window_display": true
  },
  "varInspector": {
   "cols": {
    "lenName": 16,
    "lenType": 16,
    "lenVar": 40
   },
   "kernels_config": {
    "python": {
     "delete_cmd_postfix": "",
     "delete_cmd_prefix": "del ",
     "library": "var_list.py",
     "varRefreshCmd": "print(var_dic_list())"
    },
    "r": {
     "delete_cmd_postfix": ") ",
     "delete_cmd_prefix": "rm(",
     "library": "var_list.r",
     "varRefreshCmd": "cat(var_dic_list()) "
    }
   },
   "types_to_exclude": [
    "module",
    "function",
    "builtin_function_or_method",
    "instance",
    "_Feature"
   ],
   "window_display": false
  }
 },
 "nbformat": 4,
 "nbformat_minor": 5
}
