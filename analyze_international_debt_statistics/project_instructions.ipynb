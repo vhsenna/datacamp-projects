{
 "cells": [
  {
   "cell_type": "markdown",
   "id": "competitive-joshua",
   "metadata": {},
   "source": [
    "# Task 1: Instructions\n",
    "\n",
    "Inspect the international debt data.\n",
    "\n",
    "- Read the line of code provided for you, which connects you to the `international_debt` database.\n",
    "- Select all of the columns from the `international_debt` table and limit the output to the first 10 rows.\n",
    "\n",
    "## Good to know\n",
    "\n",
    "The only prerequisite to complete this project is familiarity with the contents covered in DataCamp's [Intro to SQL for Data Science](https://www.datacamp.com/courses/intro-to-sql-for-data-science) course.\n",
    "\n",
    "SQL DataCamp projects are completed in Jupyter Notebooks. If you're not familiar with Jupyter Notebooks, that's okay! All you need to know is that you can execute SQL commands in the code cells provided, as long as you have `%%sql` at the top of them. If you'd like more info on Jupyter Notebooks, go [here](https://www.datacamp.com/projects/571).\n",
    "\n",
    "If you experience odd behavior you can reset the project by clicking the circular arrow in the bottom-right corner of the screen. Resetting the project will discard all code you have written so be sure to save it offline first.\n",
    "\n",
    "Helpful links:\n",
    "\n",
    "- `SELECT`ing columns [exercise](https://campus.datacamp.com/courses/intro-to-sql-for-data-science/selecting-columns?ex=8) from Intro to SQL for Data Science\n",
    "- `LIMIT` [exercise](https://campus.datacamp.com/courses/intro-to-sql-for-data-science/selecting-columns?ex=8) from Intro to SQL for Data Science"
   ]
  },
  {
   "cell_type": "markdown",
   "id": "western-salmon",
   "metadata": {},
   "source": [
    "# Task 2: Instructions\n",
    "\n",
    "Find the number of distinct countries.\n",
    "\n",
    "- Use the `DISTINCT` clause and the `COUNT()` function in pair on the `country_name` column.\n",
    "- Alias the resulting column as `total_distinct_countries`.\n",
    "\n",
    "Jupyter Notebook trick: if you click the white area to the left of the output for this task's code cell, the output area will be collapsed and become scrollable.\n",
    "\n",
    "Helpful links:\n",
    "\n",
    "- `COUNT` and `DISTINCT` [exercise](https://campus.datacamp.com/courses/intro-to-sql-for-data-science/selecting-columns?ex=11) from Intro to SQL for Data Science\n",
    "- Aliasing [exercise](https://campus.datacamp.com/courses/intro-to-sql-for-data-science/aggregate-functions?ex=5) from Intro to SQL for Data Science"
   ]
  },
  {
   "cell_type": "markdown",
   "id": "centered-hebrew",
   "metadata": {},
   "source": [
    "# Task 3: Instructions\n",
    "\n",
    "Extract the unique debt indicators in the table.\n",
    "\n",
    "- Use the `DISTINCT` clause on the `indicator_code` column.\n",
    "- Alias the resulting column as `distinct_debt_indicators`.\n",
    "- Order the results by `distinct_debt_indicators`.\n",
    "\n",
    "Helpful links:\n",
    "\n",
    "- [Exercise](https://campus.datacamp.com/courses/intro-to-sql-for-data-science/selecting-columns?ex=9) on `DISTINCT` from Intro to SQL for Data Science\n",
    "- Aliasing [exercise](https://campus.datacamp.com/courses/intro-to-sql-for-data-science/aggregate-functions?ex=5) from Intro to SQL for Data Science\n",
    "- [Exercise](https://campus.datacamp.com/courses/intro-to-sql-for-data-science/sorting-grouping-and-joins?ex=2) on `ORDER BY` from Intro to SQL for Data Science"
   ]
  },
  {
   "cell_type": "markdown",
   "id": "sealed-practitioner",
   "metadata": {},
   "source": [
    "# Task 4: Instructions\n",
    "\n",
    "Find out the total amount of debt as reflected in the table.\n",
    "\n",
    "- Use the built-in `SUM` function on the `debt` column, then divide it by 1000000 and round the result to 2 decimal places so that the output is fathomable.\n",
    "- Alias the resulting column as `total_debt`.\n",
    "\n",
    "Helpful links:\n",
    "\n",
    "- [Exercise](https://campus.datacamp.com/courses/intro-to-sql-for-data-science/aggregate-functions?ex=2) on _aggregate functions_ from Intro to SQL for Data Science\n",
    "- Aliasing [exercise](https://campus.datacamp.com/courses/intro-to-sql-for-data-science/aggregate-functions?ex=5) from Intro to SQL for Data Science"
   ]
  },
  {
   "cell_type": "markdown",
   "id": "acknowledged-chocolate",
   "metadata": {},
   "source": [
    "# Task 5: Instructions\n",
    "\n",
    "Find out the country owing to the highest debt.\n",
    "\n",
    "- Select the `country_name` and `debt` columns, then apply the `SUM` function on the `debt` column.\n",
    "- Alias the column resulted from the summation as `total_debt`.\n",
    "- `GROUP` the results `BY` `country_name` and `ORDER` them `BY` the new alias `total_debt` in a _descending_ manner.\n",
    "- `LIMIT` the number of rows to be _one_.\n",
    "\n",
    "Helpful links:\n",
    "\n",
    "- [Exercise](https://campus.datacamp.com/courses/intro-to-sql-for-data-science/aggregate-functions?ex=2) on _aggregate functions_ from Intro to SQL for Data Science\n",
    "- `GROUP BY` [exercise](https://campus.datacamp.com/courses/intro-to-sql-for-data-science/sorting-grouping-and-joins?ex=7) from Intro to SQL for Data Science\n",
    "- [Exercise](https://campus.datacamp.com/courses/intro-to-sql-for-data-science/sorting-grouping-and-joins?ex=2) on `ORDER BY` from Intro to SQL for Data Science"
   ]
  },
  {
   "cell_type": "markdown",
   "id": "worst-routine",
   "metadata": {},
   "source": [
    "# Task 6: Instructions\n",
    "\n",
    "Determine the average amount of debt owed across the categories.\n",
    "\n",
    "- Select `indicator_code` aliased as `debt_indicator`, then select `indicator_name` and `debt`.\n",
    "- Apply an aggregate function on the `debt` column to average out its values and alias it as `average_debt`.\n",
    "- Group the results by the newly created `debt_indicator` and already present `indicator_name` columns.\n",
    "- Sort the output with respect to the `average_debt` column in a descending manner and limit the results to _ten_.\n",
    "\n",
    "Helpful links:\n",
    "\n",
    "- Aggregate functions [exercise](https://campus.datacamp.com/courses/intro-to-sql-for-data-science/aggregate-functions?ex=1) from Intro to SQL for Data Science\n",
    "- `GROUP BY` [exercise](https://campus.datacamp.com/courses/intro-to-sql-for-data-science/sorting-grouping-and-joins?ex=7) from Intro to SQL for Data Science\n",
    "- [Exercise](https://campus.datacamp.com/courses/intro-to-sql-for-data-science/sorting-grouping-and-joins?ex=2) on `ORDER BY` from Intro to SQL for Data Science"
   ]
  },
  {
   "cell_type": "markdown",
   "id": "organized-merchandise",
   "metadata": {},
   "source": [
    "# Task 7: Instructions\n",
    "\n",
    "Find out the country with the highest amount of principal repayments.\n",
    "\n",
    "- Select the `country_name` and `indicator_name` columns.\n",
    "- Add a `WHERE` clause to filter out the maximum `debt` in `DT.AMT.DLXF.CD` category.\n",
    "\n",
    "Helpful links:\n",
    "\n",
    "- `WHERE` [exercise](https://campus.datacamp.com/courses/intro-to-sql-for-data-science/filtering-rows?ex=2) from Intro to SQL for Data Science\n",
    "- Aggregate functions [exercise](https://campus.datacamp.com/courses/intro-to-sql-for-data-science/aggregate-functions?ex=1) from Intro to SQL for Data Science\n",
    "- [Tutorial](http://www.postgresqltutorial.com/postgresql-subquery/) on writing subqueries in PostgreSQL"
   ]
  },
  {
   "cell_type": "markdown",
   "id": "sorted-public",
   "metadata": {},
   "source": [
    "# Task 8: Instructions\n",
    "\n",
    "Find out the debt indicator that appears most frequently.\n",
    "\n",
    "- Select the `indicator_code` column, then separately apply an aggregate function to count its values. Alias the column resulting from the counting as `indicator_count`.\n",
    "- Group the results by `indicator_code` and order them first by the newly created `indicator_count` column then the `indicator_code` column, both in a descending manner.\n",
    "- Limit the resulting number of rows to 20.\n",
    "\n",
    "Helpful links:\n",
    "\n",
    "- [Exercise](https://campus.datacamp.com/courses/intro-to-sql-for-data-science/aggregate-functions?ex=2) on _aggregate functions_ from Intro to SQL for Data Science\n",
    "- `GROUP BY` [exercise](https://campus.datacamp.com/courses/intro-to-sql-for-data-science/sorting-grouping-and-joins?ex=7) from Intro to SQL for Data Science\n",
    "- [Exercise](https://campus.datacamp.com/courses/intro-to-sql-for-data-science/sorting-grouping-and-joins?ex=2) on `ORDER BY` from Intro to SQL for Data Science"
   ]
  },
  {
   "cell_type": "markdown",
   "id": "formed-routine",
   "metadata": {},
   "source": [
    "# Task 9: Instructions\n",
    "\n",
    "Get the maximum amount of debt for an indicator that each country owes.\n",
    "\n",
    "- Select the `country_name` and apply an aggregate function to take the maximum of `debt`. Alias the aggregate column as `maximum_debt`.\n",
    "- Group the results by `country_name`.\n",
    "- Order the results by `maximum_debt` in descending order.\n",
    "- Limit the output to 10 rows.\n",
    "\n",
    "Helpful links:\n",
    "\n",
    "- [Exercise](https://campus.datacamp.com/courses/intro-to-sql-for-data-science/aggregate-functions?ex=2) on _aggregate functions_ from Introduction to SQL\n",
    "- `GROUP BY` [exercise](https://campus.datacamp.com/courses/intro-to-sql-for-data-science/sorting-grouping-and-joins?ex=7) from Introduction to SQL\n",
    "- [Exercise](https://campus.datacamp.com/courses/intro-to-sql-for-data-science/sorting-grouping-and-joins?ex=2) on `ORDER BY` from Introduction to SQL"
   ]
  }
 ],
 "metadata": {
  "kernelspec": {
   "display_name": "Python 3",
   "language": "python",
   "name": "python3"
  },
  "language_info": {
   "codemirror_mode": {
    "name": "ipython",
    "version": 3
   },
   "file_extension": ".py",
   "mimetype": "text/x-python",
   "name": "python",
   "nbconvert_exporter": "python",
   "pygments_lexer": "ipython3",
   "version": "3.8.10"
  },
  "toc": {
   "base_numbering": 1,
   "nav_menu": {},
   "number_sections": false,
   "sideBar": true,
   "skip_h1_title": false,
   "title_cell": "Table of Contents",
   "title_sidebar": "Contents",
   "toc_cell": false,
   "toc_position": {},
   "toc_section_display": true,
   "toc_window_display": false
  },
  "varInspector": {
   "cols": {
    "lenName": 16,
    "lenType": 16,
    "lenVar": 40
   },
   "kernels_config": {
    "python": {
     "delete_cmd_postfix": "",
     "delete_cmd_prefix": "del ",
     "library": "var_list.py",
     "varRefreshCmd": "print(var_dic_list())"
    },
    "r": {
     "delete_cmd_postfix": ") ",
     "delete_cmd_prefix": "rm(",
     "library": "var_list.r",
     "varRefreshCmd": "cat(var_dic_list()) "
    }
   },
   "types_to_exclude": [
    "module",
    "function",
    "builtin_function_or_method",
    "instance",
    "_Feature"
   ],
   "window_display": false
  }
 },
 "nbformat": 4,
 "nbformat_minor": 5
}
