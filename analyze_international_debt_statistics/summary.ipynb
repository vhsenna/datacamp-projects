{
 "cells": [
  {
   "cell_type": "markdown",
   "id": "musical-julian",
   "metadata": {},
   "source": [
    "# Analyze International Debt Statistics\n",
    "\n",
    "Write SQL queries to answer interesting questions about international debt using data from The World Bank.\n",
    "\n",
    "## Project Description\n",
    "\n",
    "It's not that we humans only take debts to manage our necessities. A country may also take debt to manage its economy. For example, infrastructure spending is one costly ingredient required for a country's citizens to lead comfortable lives. [The World Bank](https://www.worldbank.org/) is the organization that provides debt to countries.\n",
    "\n",
    "In this project, you are going to analyze international debt data collected by The World Bank. The dataset contains information about the amount of debt (in USD) owed by developing countries across several categories. You are going to find the answers to questions like:\n",
    "\n",
    "- What is the total amount of debt that is owed by the countries listed in the dataset?\n",
    "- Which country owns the maximum amount of debt and what does that amount look like?\n",
    "- What is the average amount of debt owed by countries across different debt indicators?\n",
    "\n",
    "The data used in this project is provided by [The World Bank](https://www.worldbank.org/). It contains both national and regional debt statistics for several countries across the globe as recorded from 1970 to 2015.\n",
    "\n",
    "### Project Tasks\n",
    "\n",
    "1. The World Bank's international debt data\n",
    "2. Finding the number of distinct countries\n",
    "3. Finding out the distinct debt indicators\n",
    "4. Totaling the amount of debt owed by the countries\n",
    "5. Country with the highest debt\n",
    "6. Average amount of debt across indicators\n",
    "7. The highest amount of principal repayments\n",
    "8. The most common debt indicator\n",
    "9. Other viable debt issues and conclusion"
   ]
  }
 ],
 "metadata": {
  "kernelspec": {
   "display_name": "Python 3",
   "language": "python",
   "name": "python3"
  },
  "language_info": {
   "codemirror_mode": {
    "name": "ipython",
    "version": 3
   },
   "file_extension": ".py",
   "mimetype": "text/x-python",
   "name": "python",
   "nbconvert_exporter": "python",
   "pygments_lexer": "ipython3",
   "version": "3.8.10"
  },
  "toc": {
   "base_numbering": 1,
   "nav_menu": {},
   "number_sections": false,
   "sideBar": true,
   "skip_h1_title": false,
   "title_cell": "Table of Contents",
   "title_sidebar": "Contents",
   "toc_cell": false,
   "toc_position": {},
   "toc_section_display": true,
   "toc_window_display": false
  },
  "varInspector": {
   "cols": {
    "lenName": 16,
    "lenType": 16,
    "lenVar": 40
   },
   "kernels_config": {
    "python": {
     "delete_cmd_postfix": "",
     "delete_cmd_prefix": "del ",
     "library": "var_list.py",
     "varRefreshCmd": "print(var_dic_list())"
    },
    "r": {
     "delete_cmd_postfix": ") ",
     "delete_cmd_prefix": "rm(",
     "library": "var_list.r",
     "varRefreshCmd": "cat(var_dic_list()) "
    }
   },
   "types_to_exclude": [
    "module",
    "function",
    "builtin_function_or_method",
    "instance",
    "_Feature"
   ],
   "window_display": false
  }
 },
 "nbformat": 4,
 "nbformat_minor": 5
}
