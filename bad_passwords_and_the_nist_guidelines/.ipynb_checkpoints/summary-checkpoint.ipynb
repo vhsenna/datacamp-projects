{
 "cells": [
  {
   "cell_type": "markdown",
   "id": "mysterious-hobby",
   "metadata": {},
   "source": [
    "# Bad Passwords and the NIST Guidelines\n",
    "\n",
    "Check what passwords fail to conform to the National Institute of Standards and Technology password guidelines.\n",
    "\n",
    "Project Description\n",
    "Almost every web service you join will require you to come up with a password. But what makes a good password? In June 2017 the National Institute of Standards and Technology (NIST) published [publication 800-63B](https://pages.nist.gov/800-63-3/sp800-63b.html) titled _Digital Identity Guidelines: Authentication and Lifecycle Management_. This publication doesn't tell you what is a _good_ password, but it does have specific rules for what is a _bad_ password.\n",
    "\n",
    "In this project, you will take a list of user passwords and, using publication 800-63B, you will write code that automatically detects and flags the bad passwords.\n",
    "\n",
    "## Guided Project\n",
    "\n",
    "Through a series of guided steps, use your string manipulation and regular expression skills to build a password verifier!\n",
    "\n",
    "### Project Tasks\n",
    "\n",
    "1. The NIST Special Publication 800-63B\n",
    "2. Passwords should not be too short\n",
    "3. Common passwords people use\n",
    "4. Passwords should not be common passwords\n",
    "5. Passwords should not be common words\n",
    "6. Passwords should not be your name\n",
    "7. Passwords should not be repetitive\n",
    "8. All together now!\n",
    "9. Otherwise, the password should be up to the user\n",
    "\n",
    "## Unguided Project\n",
    "\n",
    "Equipped only with a list of password requirements, use your string manipulation and regular expression skills to build a password verifier!"
   ]
  }
 ],
 "metadata": {
  "kernelspec": {
   "display_name": "Python 3",
   "language": "python",
   "name": "python3"
  },
  "language_info": {
   "codemirror_mode": {
    "name": "ipython",
    "version": 3
   },
   "file_extension": ".py",
   "mimetype": "text/x-python",
   "name": "python",
   "nbconvert_exporter": "python",
   "pygments_lexer": "ipython3",
   "version": "3.8.5"
  },
  "toc": {
   "base_numbering": 1,
   "nav_menu": {},
   "number_sections": false,
   "sideBar": true,
   "skip_h1_title": false,
   "title_cell": "Table of Contents",
   "title_sidebar": "Contents",
   "toc_cell": false,
   "toc_position": {},
   "toc_section_display": true,
   "toc_window_display": false
  },
  "varInspector": {
   "cols": {
    "lenName": 16,
    "lenType": 16,
    "lenVar": 40
   },
   "kernels_config": {
    "python": {
     "delete_cmd_postfix": "",
     "delete_cmd_prefix": "del ",
     "library": "var_list.py",
     "varRefreshCmd": "print(var_dic_list())"
    },
    "r": {
     "delete_cmd_postfix": ") ",
     "delete_cmd_prefix": "rm(",
     "library": "var_list.r",
     "varRefreshCmd": "cat(var_dic_list()) "
    }
   },
   "types_to_exclude": [
    "module",
    "function",
    "builtin_function_or_method",
    "instance",
    "_Feature"
   ],
   "window_display": false
  }
 },
 "nbformat": 4,
 "nbformat_minor": 5
}
