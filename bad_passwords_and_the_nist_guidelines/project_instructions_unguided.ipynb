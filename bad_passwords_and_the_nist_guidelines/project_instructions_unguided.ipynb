{
 "cells": [
  {
   "cell_type": "markdown",
   "id": "broadband-keeping",
   "metadata": {},
   "source": [
    "# Instructions\n",
    "\n",
    "You are a data analyst working with the IT team at your company. After a recent data breach, the IT team has decided to strengthen password requirements. They've asked you to write a script to analyze the company's employees logins and identify which employees need to update their password. This will require you to use your string manipulation and regular expression skills.\n",
    "\n",
    "Your two questions are as follows:\n",
    "\n",
    "1. **What percentage of users have invalid passwords?** Save your answer as a variable, `bad_pass`, in the form of a float rounded up to two decimals (e.g., 0.18).\n",
    "\n",
    "2. **Which users need to change their passwords?** Save your answer as a `pandas` Series consisting of the `usernames` _in alphabetically ascending order_ called `email_list`. This will be used to automate email notifications to employees."
   ]
  }
 ],
 "metadata": {
  "kernelspec": {
   "display_name": "Python 3",
   "language": "python",
   "name": "python3"
  },
  "language_info": {
   "codemirror_mode": {
    "name": "ipython",
    "version": 3
   },
   "file_extension": ".py",
   "mimetype": "text/x-python",
   "name": "python",
   "nbconvert_exporter": "python",
   "pygments_lexer": "ipython3",
   "version": "3.8.5"
  },
  "toc": {
   "base_numbering": 1,
   "nav_menu": {},
   "number_sections": false,
   "sideBar": true,
   "skip_h1_title": false,
   "title_cell": "Table of Contents",
   "title_sidebar": "Contents",
   "toc_cell": false,
   "toc_position": {},
   "toc_section_display": true,
   "toc_window_display": false
  },
  "varInspector": {
   "cols": {
    "lenName": 16,
    "lenType": 16,
    "lenVar": 40
   },
   "kernels_config": {
    "python": {
     "delete_cmd_postfix": "",
     "delete_cmd_prefix": "del ",
     "library": "var_list.py",
     "varRefreshCmd": "print(var_dic_list())"
    },
    "r": {
     "delete_cmd_postfix": ") ",
     "delete_cmd_prefix": "rm(",
     "library": "var_list.r",
     "varRefreshCmd": "cat(var_dic_list()) "
    }
   },
   "types_to_exclude": [
    "module",
    "function",
    "builtin_function_or_method",
    "instance",
    "_Feature"
   ],
   "window_display": false
  }
 },
 "nbformat": 4,
 "nbformat_minor": 5
}
