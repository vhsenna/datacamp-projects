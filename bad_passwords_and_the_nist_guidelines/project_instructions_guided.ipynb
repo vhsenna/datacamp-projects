{
 "cells": [
  {
   "cell_type": "markdown",
   "id": "affiliated-sweden",
   "metadata": {},
   "source": [
    "# Task 1: Instructions\n",
    "\n",
    "Load in and inspect the usernames and passwords of the fictional users.\n",
    "\n",
    "- Load the `pandas` module.\n",
    "- Load the user data from the file contained in the path `datasets/users.csv` and store it as a DataFrame called `users`.\n",
    "- Print the number of rows (i.e. users).\n",
    "- Show the first 12 rows in `users`.\n",
    "\n",
    "## Good to know\n",
    "\n",
    "To complete this project, you need to know how to manipulate strings in `pandas` DataFrames and be familiar with regular expressions. Before starting this project we recommend that you have completed the following courses:\n",
    "\n",
    "- [Data Cleaning in Python](https://www.datacamp.com/courses/data-cleaning-in-python).\n",
    "- [Regular Expressions in Python](https://www.datacamp.com/courses/regular-expressions-in-python).\n",
    "\n",
    "An excellent companion while doing this project is the _Working with text data_ page from the `pandas` documentation which you can find [here](https://pandas.pydata.org/pandas-docs/stable/text.html). At the bottom of that page you'll also find a list of all the string functions `pandas` supports."
   ]
  },
  {
   "cell_type": "markdown",
   "id": "apparent-camel",
   "metadata": {},
   "source": [
    "# Task 2: Instructions\n",
    "\n",
    "Flag the passwords that are too short.\n",
    "\n",
    "- Add the column `length` to `users` which should list the number of characters in each `password`.\n",
    "- Flag the users with too short passwords by adding the column `users['too_short']` which should be `True` when `users['length']` is less than 8.\n",
    "- Print the count of the number of users with passwords that are too short.\n",
    "- Show the first 12 rows in `users`.\n",
    "\n",
    "To solve this task, you need to be able to figure out the number of characters in each password. Check the [`pandas` string documentation](https://pandas.pydata.org/pandas-docs/stable/text.html) for a method that does just that."
   ]
  },
  {
   "cell_type": "markdown",
   "id": "encouraging-campus",
   "metadata": {},
   "source": [
    "# Task 3: Instructions\n",
    "\n",
    "Load in the list with the 10,000 most common passwords.\n",
    "\n",
    "- Read in `datasets/10_million_password_list_top_10000.txt` as a Series and put it in the variable `common_passwords`.\n",
    "- Take a look at the top 20 common passwords.\n",
    "\n",
    "_Note: The passwords are stored in a plain text file with one password per row. To read this in as a Series you can use the_ `read_csv` _function from_ `pandas` _but to make it return a Series (rather than a DataFrame) you have to set the arguments_ `header=None` _and_ `squeeze=True`._"
   ]
  },
  {
   "cell_type": "markdown",
   "id": "furnished-pennsylvania",
   "metadata": {},
   "source": [
    "# Task 4: Instructions\n",
    "\n",
    "Flag the `user` passwords that are among the top 10,000 used passwords.\n",
    "\n",
    "- Flag common `user` passwords by adding the column `users['common_password']` which should be `True` when a `password` is one of the `common_passwords`.\n",
    "- Count and print the number of users using common passwords.\n",
    "- Show the first 12 rows in `users`."
   ]
  },
  {
   "cell_type": "markdown",
   "id": "broken-tulsa",
   "metadata": {},
   "source": [
    "# Task 5: Instructions\n",
    "\n",
    "Flag the passwords that are among the 10,000 most common English words.\n",
    "\n",
    "- Read in `datasets/google-10000-english.txt` as a Series and put it in the variable `words`.\n",
    "- Flag `user` passwords that are common words by adding the column `users['common_word']` which should be `True` when a `password` is one of the `words`. The comparison should be _case-insensitive_.\n",
    "- Count and print the number of users using common words as passwords.\n",
    "- Show the first 12 rows in `users`."
   ]
  },
  {
   "cell_type": "markdown",
   "id": "consistent-jones",
   "metadata": {},
   "source": [
    "# Task 6: Instructions\n",
    "\n",
    "Flag passwords that are the same as the users first or last name.\n",
    "\n",
    "- Extract users first names from `users['user_name']` into the new column `users['first_name']`.\n",
    "- Similarly, extract last names into the new column `users['last_name']`.\n",
    "- Add the column `users['uses_name']` which should be `True` when a `password` is the same as each users' first or last name.\n",
    "- Count and print the number of users using names as passwords.\n",
    "- Show the first 12 rows in `users`.\n",
    "\n",
    "- To extract the first and last names you can use the `.str.extract()` method. Check out the [`pandas` documentation](https://pandas.pydata.org/pandas-docs/stable/user_guide/text.html#extracting-substrings) under **Extracting substrings** for more info."
   ]
  },
  {
   "cell_type": "markdown",
   "id": "informal-pastor",
   "metadata": {},
   "source": [
    "# Task 7: Instructions\n",
    "\n",
    "Flag passwords that contain 4 or more repeated characters.\n",
    "\n",
    "- Add the column `users['too_many_repeats']` which should be True when a `password` has 4 or more repeated characters.\n",
    "- Take a look at only the `users` with too many repeats.\n",
    "\n",
    "This task can be solved using the `.str.contains()` method that is described in the [`pandas` text documentation](https://pandas.pydata.org/pandas-docs/stable/text.html#testing-for-strings-that-match-or-contain-a-pattern). The regexp you need to craft here is a bit tricky, so you may need to revisit this [video lesson](https://campus.datacamp.com/courses/regular-expressions-in-python/advanced-regular-expression-concepts?ex=7) in Regular Expressions in Python."
   ]
  },
  {
   "cell_type": "markdown",
   "id": "central-snapshot",
   "metadata": {},
   "source": [
    "# Task 8: Instructions\n",
    "\n",
    "Flag _all_ the bad passwords.\n",
    "\n",
    "- Add the column `users['bad_password']` which should be `True` when a password is bad according to `too_short`, `common_password`, `common_word`, `uses_name`, or `too_many_repeats`.\n",
    "- Count and print the number of users with bad passwords.\n",
    "- Show the first 25 bad passwords in `users`."
   ]
  },
  {
   "cell_type": "markdown",
   "id": "connected-winter",
   "metadata": {},
   "source": [
    "# Task 9: Instructions\n",
    "\n",
    "- Assign a new password to `new_password` that passes the NIST rules you've implemented in this project.\n",
    "\n",
    "## If you want to know more\n",
    "\n",
    "- You can [read the full NIST Special Publication 800-63B online](https://pages.nist.gov/800-63-3/sp800-63b.html).\n",
    "- [This blog](https://www.passwordping.com/surprising-new-password-guidelines-nist/) post also gives you a summary of 800-63B.\n",
    "- [Here is an article](https://xato.net/today-i-am-releasing-ten-million-passwords-b6278bbe7495) explaining where the 10,000 common passwords you used in this project come from.\n",
    "- Finally, [some advice](https://xkcd.com/936/) on how to come up with a good password."
   ]
  }
 ],
 "metadata": {
  "kernelspec": {
   "display_name": "Python 3",
   "language": "python",
   "name": "python3"
  },
  "language_info": {
   "codemirror_mode": {
    "name": "ipython",
    "version": 3
   },
   "file_extension": ".py",
   "mimetype": "text/x-python",
   "name": "python",
   "nbconvert_exporter": "python",
   "pygments_lexer": "ipython3",
   "version": "3.8.5"
  },
  "toc": {
   "base_numbering": 1,
   "nav_menu": {},
   "number_sections": false,
   "sideBar": true,
   "skip_h1_title": false,
   "title_cell": "Table of Contents",
   "title_sidebar": "Contents",
   "toc_cell": false,
   "toc_position": {},
   "toc_section_display": true,
   "toc_window_display": false
  },
  "varInspector": {
   "cols": {
    "lenName": 16,
    "lenType": 16,
    "lenVar": 40
   },
   "kernels_config": {
    "python": {
     "delete_cmd_postfix": "",
     "delete_cmd_prefix": "del ",
     "library": "var_list.py",
     "varRefreshCmd": "print(var_dic_list())"
    },
    "r": {
     "delete_cmd_postfix": ") ",
     "delete_cmd_prefix": "rm(",
     "library": "var_list.r",
     "varRefreshCmd": "cat(var_dic_list()) "
    }
   },
   "types_to_exclude": [
    "module",
    "function",
    "builtin_function_or_method",
    "instance",
    "_Feature"
   ],
   "window_display": false
  }
 },
 "nbformat": 4,
 "nbformat_minor": 5
}
