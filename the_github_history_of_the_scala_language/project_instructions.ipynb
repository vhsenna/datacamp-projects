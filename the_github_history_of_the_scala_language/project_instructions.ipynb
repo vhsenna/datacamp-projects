{
 "cells": [
  {
   "cell_type": "markdown",
   "id": "adjusted-somalia",
   "metadata": {},
   "source": [
    "# Task 1: Instructions\n",
    "\n",
    "Import the dataset into the notebook. All the relevant files can be found in the `datasets` subfolder.\n",
    "\n",
    "-Import the `pandas` module.\n",
    "\n",
    "-Load in `'datasets/pulls_2011-2013.csv'` and `'datasets/pulls_2014-2018.csv'` as pandas DataFrames and assign them to `pulls_one` and `pulls_two` respectively.\n",
    "\n",
    "-Similarly, load in `'datasets/pull_files.csv'` and assign it to `pull_files`.\n",
    "\n",
    "## Good to know\n",
    "For this Project, you need to be comfortable with pandas. The skills required to complete this Project are covered in [Data Manipulation with pandas](https://learn.datacamp.com/courses/data-manipulation-with-pandas), and [Merging DataFrames with pandas](https://www.datacamp.com/courses/merging-dataframes-with-pandas)."
   ]
  },
  {
   "cell_type": "markdown",
   "id": "adjusted-request",
   "metadata": {},
   "source": [
    "# Task 2: Instructions\n",
    "\n",
    "Combine the two pulls DataFrames and then convert `date` to a `DateTime` object.\n",
    "\n",
    "- Append `pulls_one` to `pulls_two` and assign the result to `pulls`.\n",
    "\n",
    "- Convert the `date` column for the `pulls` object from a string into a `DateTime` object.\n",
    "\n",
    "For the conversion, we recommend using pandas' `to_datetime()` function. Set the `utc` parameter to `True`, as this will simplify future operations.\n",
    "\n",
    "Coordinated Universal Time (UTC) is the basis for civil time today. This 24-hour time standard is kept using highly precise atomic clocks combined with the Earth's rotation."
   ]
  },
  {
   "cell_type": "markdown",
   "id": "electoral-whale",
   "metadata": {},
   "source": [
    "# Task 3: Instructions\n",
    "\n",
    "Merge the two DataFrames.\n",
    "\n",
    "- Merge `pulls` and `pull_files` on the `pid` column. Assign the result to the `data` variable.\n",
    "\n",
    "The `pandas` DataFrame has a `merge` method that will perform the joining of two DataFrames on a common field."
   ]
  },
  {
   "cell_type": "markdown",
   "id": "standing-poison",
   "metadata": {},
   "source": [
    "# Task 4: Instructions\n",
    "\n",
    "Calculate and plot project activity in terms of pull requests.\n",
    "\n",
    "- Group `data` by month and year (i.e. '2011-01', '2011-02', etc), and count the number pull requests (`pid`). Store the counts in a variable called `counts`.\n",
    "\n",
    "    - There are a number of ways to accomplish this.\n",
    "\n",
    "    - One way would be to create two new columns containing the year and month attributes of the `date` column, and then group by these two variables.\n",
    "\n",
    "- Plot `counts` using a bar chart (this has been done for you).\n",
    "\n",
    "_Note, the scaffolding exists to help you create the two columns as suggested above. However, this exercise will only check whether you create `counts` correctly. Thus, alternate solutions are more than welcome!_"
   ]
  },
  {
   "cell_type": "markdown",
   "id": "sustainable-hardware",
   "metadata": {},
   "source": [
    "# Task 5: Instructions\n",
    "\n",
    "Plot pull requests by user.\n",
    "\n",
    "- Group the pull requests by each user and count the number of pull requests they submitted. Store the counts in a variable called `by_user`.\n",
    "\n",
    "- Plot the histogram for `by_user`."
   ]
  },
  {
   "cell_type": "markdown",
   "id": "designing-china",
   "metadata": {},
   "source": [
    "# Task 6: Instructions\n",
    "\n",
    "Identify the files changed in the last ten pull requests.\n",
    "\n",
    "- Select the last ten pull requests and name the resulting DataFrame `last_10`.\n",
    "\n",
    "- Merge `last_10` with the `pull_files` DataFrame on `pid`, assigning the result to `joined_pr`.\n",
    "\n",
    "- Identify the unique files in `joined_pr` (via the `file` column) using `set()`.\n",
    "\n",
    "Python's `DateTime` objects are comparable and sortable. A more recent date is larger than an older date. In task 2, we converted the `date` column into `DateTime` objects. Therefore, the largest ten values in the `date` column are the most recent ones.\n",
    "\n",
    "pandas' `nlargest` method ([documentation](https://pandas.pydata.org/pandas-docs/version/0.17.0/generated/pandas.DataFrame.nlargest.html)) is helpful for the first bullet.\n",
    "\n",
    "[Here](https://stackoverflow.com/questions/39551566/create-a-set-from-a-series-in-pandas) is an example of using `set()` on Stack Overflow."
   ]
  },
  {
   "cell_type": "markdown",
   "id": "painful-african",
   "metadata": {},
   "source": [
    "# Task 7: Instructions\n",
    "Identify the top 3 developers that submitted pull requests to `src/compiler/scala/reflect/reify/phases/Calculate.scala`.\n",
    "\n",
    "- Select the pull requests that changed that file and name the resulting DataFrame `file_pr`.\n",
    "\n",
    "- Count the number of changes made by each developer and name the resulting DataFrame `author_counts`.\n",
    "\n",
    "- Print the top 3 developers.\n",
    "\n",
    "pandas' `nlargest` method ([documentation](https://pandas.pydata.org/pandas-docs/version/0.17.0/generated/pandas.DataFrame.nlargest.html)) is helpful for the third bullet."
   ]
  },
  {
   "cell_type": "markdown",
   "id": "unique-lender",
   "metadata": {},
   "source": [
    "# Task 8: Instructions\n",
    "\n",
    "Identify the most recent ten pull requests that touched `src/compiler/scala/reflect/reify/phases/Calculate.scala`.\n",
    "\n",
    "- Select the pull requests that touched the file and name the resulting DataFrame `file_pr`.\n",
    "\n",
    "- Merge `file_pr` with the `pulls` DataFrame on the `pid` column and name the resulting DataFrame `joined_pr`.\n",
    "\n",
    "- Using `set()`, create a set of users for the ten most recent pull requests.\n",
    "\n",
    "To find the ten most recent pull requests, use the `nlargest` function of a `DataFrame`. Again, pandas' `nlargest` method ([documentation](https://pandas.pydata.org/pandas-docs/version/0.17.0/generated/pandas.DataFrame.nlargest.html)) may be helpful for this third bullet."
   ]
  },
  {
   "cell_type": "markdown",
   "id": "sustainable-valve",
   "metadata": {},
   "source": [
    "# Task 9: Instructions\n",
    "\n",
    "Plot the number of pull requests for two developers, over time.\n",
    "\n",
    "- Using the `pulls` DataFrame, select all of the pull requests by these two developers and name the resulting DataFrame `by_author`.\n",
    "\n",
    "- Fill in the `groupby` parameters to count the number of pull requests submitted by each author each year. That is, group by `user` and the year property of `date`.\n",
    "\n",
    "- Plot `counts_wide` using a bar chart.\n",
    "\n",
    "pandas' `isin` method ([documentation]( https://pandas.pydata.org/pandas-docs/stable/generated/pandas.DataFrame.isin.html)) will be helpful for bullet one.\n",
    "\n",
    "`DateTime` objects expose the components of a date through their `dt` accessors.\n",
    "\n",
    "`counts` is transformed to a wide format to make plotting the bar chart of pull request count (y-axis) by year (x-axis) by user (legend) easier."
   ]
  },
  {
   "cell_type": "markdown",
   "id": "mechanical-hayes",
   "metadata": {},
   "source": [
    "# Task 10: Instructions\n",
    "\n",
    "Calculate the number of pull requests submitted by a developer to a file each year.\n",
    "\n",
    "- Select the pull requests submitted by the authors from the `data` DataFrame and name the results `by_author`.\n",
    "\n",
    "- Select the pull requests from `by_author` that affect the file and name the results `by_file`.\n",
    "- Transform `grouped` into a wide format using `pivot_table`. Name the results `by_file_wide`.\n",
    "\n",
    "The code required to complete bullet one in this task is the same as the code for bullet one in task 9, except on the `data` DataFrame instead of the `pulls` DataFrame.\n",
    "\n",
    "`by_file` is transformed to a wide format to make plotting the bar chart of pull request count (y-axis) by year (x-axis) by user (legend) easier. The columns for `by_file_wide` are as follows:\n",
    "\n",
    "- Index column: `date`\n",
    "\n",
    "- Columns to expand: `user`\n",
    "\n",
    "- Value columns: `pid`\n",
    "\n",
    "- Fill value: 0"
   ]
  }
 ],
 "metadata": {
  "kernelspec": {
   "display_name": "Python 3",
   "language": "python",
   "name": "python3"
  },
  "language_info": {
   "codemirror_mode": {
    "name": "ipython",
    "version": 3
   },
   "file_extension": ".py",
   "mimetype": "text/x-python",
   "name": "python",
   "nbconvert_exporter": "python",
   "pygments_lexer": "ipython3",
   "version": "3.8.5"
  },
  "toc": {
   "base_numbering": 1,
   "nav_menu": {},
   "number_sections": false,
   "sideBar": true,
   "skip_h1_title": false,
   "title_cell": "Table of Contents",
   "title_sidebar": "Contents",
   "toc_cell": false,
   "toc_position": {},
   "toc_section_display": true,
   "toc_window_display": false
  },
  "varInspector": {
   "cols": {
    "lenName": 16,
    "lenType": 16,
    "lenVar": 40
   },
   "kernels_config": {
    "python": {
     "delete_cmd_postfix": "",
     "delete_cmd_prefix": "del ",
     "library": "var_list.py",
     "varRefreshCmd": "print(var_dic_list())"
    },
    "r": {
     "delete_cmd_postfix": ") ",
     "delete_cmd_prefix": "rm(",
     "library": "var_list.r",
     "varRefreshCmd": "cat(var_dic_list()) "
    }
   },
   "types_to_exclude": [
    "module",
    "function",
    "builtin_function_or_method",
    "instance",
    "_Feature"
   ],
   "window_display": false
  }
 },
 "nbformat": 4,
 "nbformat_minor": 5
}
