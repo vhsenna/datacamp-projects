{
 "cells": [
  {
   "cell_type": "markdown",
   "id": "concrete-delaware",
   "metadata": {},
   "source": [
    "# The GitHub History of the Scala Language\n",
    "\n",
    "Find the true Scala experts by exploring its development history in Git and GitHub.\n",
    "\n",
    "## Project Description\n",
    "\n",
    "Open source projects contain entire development histories, such as who made changes, the changes themselves, and code reviews. In this project, you'll be challenged to read in, clean up, and visualize the real-world project repository of Scala that spans data from a version control system (Git) as well as a project hosting site (GitHub). With almost 30,000 commits and a history spanning over ten years, Scala is a mature language. You will find out who has had the most influence on its development and who are the experts.\n",
    "\n",
    "The dataset includes the project history of [Scala](http://www.scala-lang.org/) retrieved from Git and GitHub as a set of CSV files.\n",
    "\n",
    "### Project Tasks\n",
    "\n",
    "1. Scala's real-world project repository data\n",
    "2. Preparing and cleaning the data\n",
    "3. Merging the DataFrames\n",
    "4. Is the project still actively maintained?\n",
    "5. Is there camaraderie in the project?\n",
    "6. What files were changed in the last ten pull requests?\n",
    "7. Who made the most pull requests to a given file?\n",
    "8. Who made the last ten pull requests on a given file?\n",
    "9. The pull requests of two special developers\n",
    "10. Visualizing the contributions of each developer"
   ]
  }
 ],
 "metadata": {
  "kernelspec": {
   "display_name": "Python 3",
   "language": "python",
   "name": "python3"
  },
  "language_info": {
   "codemirror_mode": {
    "name": "ipython",
    "version": 3
   },
   "file_extension": ".py",
   "mimetype": "text/x-python",
   "name": "python",
   "nbconvert_exporter": "python",
   "pygments_lexer": "ipython3",
   "version": "3.8.5"
  },
  "toc": {
   "base_numbering": 1,
   "nav_menu": {},
   "number_sections": false,
   "sideBar": true,
   "skip_h1_title": false,
   "title_cell": "Table of Contents",
   "title_sidebar": "Contents",
   "toc_cell": false,
   "toc_position": {},
   "toc_section_display": true,
   "toc_window_display": false
  },
  "varInspector": {
   "cols": {
    "lenName": 16,
    "lenType": 16,
    "lenVar": 40
   },
   "kernels_config": {
    "python": {
     "delete_cmd_postfix": "",
     "delete_cmd_prefix": "del ",
     "library": "var_list.py",
     "varRefreshCmd": "print(var_dic_list())"
    },
    "r": {
     "delete_cmd_postfix": ") ",
     "delete_cmd_prefix": "rm(",
     "library": "var_list.r",
     "varRefreshCmd": "cat(var_dic_list()) "
    }
   },
   "types_to_exclude": [
    "module",
    "function",
    "builtin_function_or_method",
    "instance",
    "_Feature"
   ],
   "window_display": false
  }
 },
 "nbformat": 4,
 "nbformat_minor": 5
}
