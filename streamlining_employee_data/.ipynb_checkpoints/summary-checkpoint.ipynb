{
 "cells": [
  {
   "cell_type": "markdown",
   "id": "limited-proposal",
   "metadata": {},
   "source": [
    "# Streamlining Employee Data\n",
    "\n",
    "Use DataFrames to read and merge employee data from different sources.\n",
    "\n",
    "## Project Description\n",
    "\n",
    "Wouldn't it be great if your data was stored in your favorite format, ready to be analyzed? Unfortunately, that's rarely the case. Data comes in different formats, and being able to merge these different sources in a single file for analysis is a fundamental skill for any data practitioner.\n",
    "\n",
    "In this project, you will import employee and human resources data in CSV, Excel, and JSON format. You will then merge it all into a single DataFrame, before cleaning it and exporting your results into a single CSV file.\n",
    "\n",
    "### Project Tasks\n",
    "\n",
    "1. Loading data from CSV and Excel files\n",
    "2. Loading employee data from Excel sheets\n",
    "3. Loading role data from JSON files\n",
    "4. Merging several DataFrames into one\n",
    "5. Editing column names\n",
    "6. Changing column order\n",
    "7. The last minute request\n",
    "8. Saving your work"
   ]
  }
 ],
 "metadata": {
  "kernelspec": {
   "display_name": "Python 3",
   "language": "python",
   "name": "python3"
  },
  "language_info": {
   "codemirror_mode": {
    "name": "ipython",
    "version": 3
   },
   "file_extension": ".py",
   "mimetype": "text/x-python",
   "name": "python",
   "nbconvert_exporter": "python",
   "pygments_lexer": "ipython3",
   "version": "3.8.5"
  },
  "toc": {
   "base_numbering": 1,
   "nav_menu": {},
   "number_sections": false,
   "sideBar": true,
   "skip_h1_title": false,
   "title_cell": "Table of Contents",
   "title_sidebar": "Contents",
   "toc_cell": false,
   "toc_position": {},
   "toc_section_display": true,
   "toc_window_display": false
  },
  "varInspector": {
   "cols": {
    "lenName": 16,
    "lenType": 16,
    "lenVar": 40
   },
   "kernels_config": {
    "python": {
     "delete_cmd_postfix": "",
     "delete_cmd_prefix": "del ",
     "library": "var_list.py",
     "varRefreshCmd": "print(var_dic_list())"
    },
    "r": {
     "delete_cmd_postfix": ") ",
     "delete_cmd_prefix": "rm(",
     "library": "var_list.r",
     "varRefreshCmd": "cat(var_dic_list()) "
    }
   },
   "types_to_exclude": [
    "module",
    "function",
    "builtin_function_or_method",
    "instance",
    "_Feature"
   ],
   "window_display": false
  }
 },
 "nbformat": 4,
 "nbformat_minor": 5
}
