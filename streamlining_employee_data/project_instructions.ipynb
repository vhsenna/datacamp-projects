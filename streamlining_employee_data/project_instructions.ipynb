{
 "cells": [
  {
   "cell_type": "markdown",
   "id": "balanced-smart",
   "metadata": {},
   "source": [
    "# Task 1: Instructions\n",
    "\n",
    "Import the library you need to work with DataFrames, and load the two datasets (all datasets are located in the datasets folder). Then, take a look at the head of both DataFrames.\n",
    "\n",
    "- Import `pandas` using the standard alias.\n",
    "- Load `office_addresses.csv` and assign the resulting DataFrame to `df_office_addresses`.\n",
    "- Load `employee_information.xls` and assign the resulting DataFrame to `df_employee_addresses`.\n",
    "- Take a look at the first rows of each DataFrame to familiarize yourself with the data.\n",
    "\n",
    "## Good to know\n",
    "\n",
    "This project lets you apply the skills from [Streamlined Data Ingestion in Python](https://www.datacamp.com/courses/streamlined-data-ingestion-with-pandas). We recommend that you are familiar with the content in that course before starting this project.\n",
    "\n",
    "Helpful links:\n",
    "\n",
    "- `read_csv()` function [documentation](https://pandas.pydata.org/pandas-docs/stable/reference/api/pandas.read_csv.html).\n",
    "- `read_excel()` function [documentation](https://pandas.pydata.org/pandas-docs/stable/reference/api/pandas.read_excel.html)."
   ]
  },
  {
   "cell_type": "markdown",
   "id": "approximate-carnival",
   "metadata": {},
   "source": [
    "# Task 2: Instructions\n",
    "\n",
    "People apparently remove titles or headers. Make sure to load the sheet using its index rather than its name, in case someone decides to rename it! Then, add the appropriate column titles to the DataFrame.\n",
    "\n",
    "- Load the data from the second sheet of `employee_information.xls` and assign the resulting DataFrame to `df_emergency_contact`.\n",
    "- Assign the list of column names to `emergency_contacts_header`.\n",
    "- Rename the `df_emergency_contact` DataFrame's columns using the list of column names you just declared.\n",
    "- Take a look at the first rows of the DataFrame to familiarize yourself with the data."
   ]
  },
  {
   "cell_type": "markdown",
   "id": "continent-monroe",
   "metadata": {},
   "source": [
    "# Task 3: Instructions\n",
    "\n",
    "`employee_roles.json` is built as a Python dictionary: the keys are employee IDs, and each employee ID has a corresponding dictionary value holding role, salary, and team information.\n",
    "\n",
    "- Load the JSON file to a variable `df_employee_roles`, choosing the appropriate orientation.\n",
    "- Take a look at the first rows of the DataFrame to familiarize yourself with the data.\n",
    "\n",
    "When reading a JSON file, you need to tell `pandas` how the file is [oriented](https://pandas.pydata.org/pandas-docs/stable/reference/api/pandas.read_json.html). If you don't choose the appropriate orientation, your index might become columns, and the columns might become indexes. Check out [this exercise](https://campus.datacamp.com/courses/streamlined-data-ingestion-with-pandas/importing-json-data-and-working-with-apis?ex=3) if you don't remember how to read JSON files.\n",
    "\n",
    "`read_json()` uses Python dictionaries, which are unordered. Notice the provided line of code: it reorders the columns of the DataFrame you just created alphabetically so you don't run into issues later."
   ]
  },
  {
   "cell_type": "markdown",
   "id": "supposed-sensitivity",
   "metadata": {},
   "source": [
    "# Task 4: Instructions\n",
    "\n",
    "Let's merge all DataFrames into one, as initially requested by People Ops! You will be using a left join here, which ensures you keep all the records in the left table. This is done for you and ensures you're not losing any data during the manipulations.\n",
    "\n",
    "- Merge `df_emergency_contacts` with `df_employee_addresses` using the employee ID. Assign the resulting DataFrame to `df_employees`.\n",
    "- Merge `df_employee_roles` with `df_employees` using the employee ID.\n",
    "- Merge `df_office_addresses` with `df_employees` using the country.\n",
    "- Take a look at the first rows and at the columns (you should not have any duplicate column).\n",
    "\n",
    "Remember that:\n",
    "\n",
    "- `df_office_addresses` holds the office addresses.\n",
    "- `df_empoyee_addresses` holds the employee addresses.\n",
    "- `df_emergency_contacts` holds the emergency contact information.\n",
    "- `df_employee_roles` holds more information about employee's roles and education."
   ]
  },
  {
   "cell_type": "markdown",
   "id": "rocky-renaissance",
   "metadata": {},
   "source": [
    "# Task 5: Instructions\n",
    "\n",
    "Let's polish this new `df_employees` DataFrame!\n",
    "\n",
    "- The columns `employee_first_name` and `employee_last_name` are duplicates of `first_name` and `last_name`. Drop `employee_first_name` and `employee_last_name` and assign the resulting DataFrame to `df_employees_renamed`.\n",
    "- Assign the list of new column names to `new_header`.\n",
    "- Rename the columns of `df_employee_renamed` using the `new_header` list.\n",
    "- Take a look at the first rows of the DataFrame.\n",
    "\n",
    "You can rename a DataFrame's columns by assigning a list of strings to the DataFrame `columns` attribute."
   ]
  },
  {
   "cell_type": "markdown",
   "id": "numerical-glucose",
   "metadata": {},
   "source": [
    "# Task 6: Instructions\n",
    "\n",
    "People Ops requested columns to be presented in the following order: `id`, `last_name`, `first_name`, `title`, `team`, `monthly_salary`, `country`, `city`, `street`, `street_number`, `emergency_contact`, `emergency_number`, `emergency_relationship`, `office`, `office_country`, `office_city`, `office_street`, and finally `office_street_number`.\n",
    "\n",
    "- Declare a list storing the column names ordered as specific by People Ops.\n",
    "- Reorder the DataFrame's columns.\n",
    "- Take a look at the result.\n",
    "\n",
    "You can reorder a DataFrame by passing it a selection of columns in the order you wish."
   ]
  },
  {
   "cell_type": "markdown",
   "id": "understanding-nevada",
   "metadata": {},
   "source": [
    "# Task 7: Instructions\n",
    "\n",
    "Let's bring these last-minute changes to our DataFrame.\n",
    "\n",
    "- Set the index of `employees_ordered` to be the employee ID, and then drop the corresponding column.\n",
    "- Loop through the rows of your new DataFrame, appending the value \"Remote\" to `status_list` if the `\"office\"` column value is null and \"On-site\" otherwise.\n",
    "- Insert the `status_list` values as a column named \"status\" right after the `\"monthly_salary\"` column.\n",
    "- Take a look at your results.\n",
    "\n",
    "\n",
    "- You can [loop through a DataFrame](https://pandas.pydata.org/pandas-docs/stable/reference/api/pandas.DataFrame.iterrows.html).\n",
    "- You need to specify where to insert a column, what its name should be, and set its values using a list of predefined values.\n",
    "- You can [check if a column value is null or not](https://pandas.pydata.org/pandas-docs/stable/reference/api/pandas.isnull.html)."
   ]
  },
  {
   "cell_type": "markdown",
   "id": "preliminary-token",
   "metadata": {},
   "source": [
    "# Task 8: Instructions\n",
    "\n",
    "Let's save your work!\n",
    "\n",
    "- Write `df_employees_final` to a CSV file named \"employee_data.csv\" directly in the folder where your notebook is stored.\n",
    "\n",
    "There's a [function for everything](https://pandas.pydata.org/docs/reference/api/pandas.DataFrame.to_csv.html) in pandas."
   ]
  }
 ],
 "metadata": {
  "kernelspec": {
   "display_name": "Python 3",
   "language": "python",
   "name": "python3"
  },
  "language_info": {
   "codemirror_mode": {
    "name": "ipython",
    "version": 3
   },
   "file_extension": ".py",
   "mimetype": "text/x-python",
   "name": "python",
   "nbconvert_exporter": "python",
   "pygments_lexer": "ipython3",
   "version": "3.8.5"
  },
  "toc": {
   "base_numbering": 1,
   "nav_menu": {},
   "number_sections": false,
   "sideBar": true,
   "skip_h1_title": false,
   "title_cell": "Table of Contents",
   "title_sidebar": "Contents",
   "toc_cell": false,
   "toc_position": {},
   "toc_section_display": true,
   "toc_window_display": false
  },
  "varInspector": {
   "cols": {
    "lenName": 16,
    "lenType": 16,
    "lenVar": 40
   },
   "kernels_config": {
    "python": {
     "delete_cmd_postfix": "",
     "delete_cmd_prefix": "del ",
     "library": "var_list.py",
     "varRefreshCmd": "print(var_dic_list())"
    },
    "r": {
     "delete_cmd_postfix": ") ",
     "delete_cmd_prefix": "rm(",
     "library": "var_list.r",
     "varRefreshCmd": "cat(var_dic_list()) "
    }
   },
   "types_to_exclude": [
    "module",
    "function",
    "builtin_function_or_method",
    "instance",
    "_Feature"
   ],
   "window_display": false
  }
 },
 "nbformat": 4,
 "nbformat_minor": 5
}
