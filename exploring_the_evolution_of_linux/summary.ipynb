{
 "cells": [
  {
   "cell_type": "markdown",
   "id": "reserved-flesh",
   "metadata": {},
   "source": [
    "# Exploring the Evolution of Linux\n",
    "\n",
    "Find out about the evolution of the Linux operating system by exploring its version control system.\n",
    "\n",
    "## Project Description\n",
    "\n",
    "Version control repositories like CVS, Subversion or Git store rich evolution information about a software project. In this project, you'll be challenged to read in, clean up and visualize a real world Git repository dataset of the Linux kernel. With almost 700k commits and thousands of contributors (find out the exact number in this project ;-) ) there are some little data cleaning and wrangling challenges that you'll encounter. But you'll also gain insights about the development activities over the last 13 years.\n",
    "\n",
    "For this Project, you need to be familiar with Pandas `DataFrame`s, especially the `read_csv` and `groupby` functions, as well as working with time series data.\n",
    "\n",
    "### Project Tasks\n",
    "\n",
    "1. Introduction\n",
    "2. Reading in the dataset\n",
    "3. Getting an overview\n",
    "4. Finding the TOP 10 contributors\n",
    "5. Wrangling the data\n",
    "6. Treating wrong timestamps\n",
    "7. Grouping commits per year\n",
    "8. Visualizing the history of Linux\n",
    "9. Conclusion"
   ]
  }
 ],
 "metadata": {
  "kernelspec": {
   "display_name": "Python 3",
   "language": "python",
   "name": "python3"
  },
  "language_info": {
   "codemirror_mode": {
    "name": "ipython",
    "version": 3
   },
   "file_extension": ".py",
   "mimetype": "text/x-python",
   "name": "python",
   "nbconvert_exporter": "python",
   "pygments_lexer": "ipython3",
   "version": "3.8.5"
  },
  "toc": {
   "base_numbering": 1,
   "nav_menu": {},
   "number_sections": false,
   "sideBar": true,
   "skip_h1_title": false,
   "title_cell": "Table of Contents",
   "title_sidebar": "Contents",
   "toc_cell": false,
   "toc_position": {},
   "toc_section_display": true,
   "toc_window_display": false
  },
  "varInspector": {
   "cols": {
    "lenName": 16,
    "lenType": 16,
    "lenVar": 40
   },
   "kernels_config": {
    "python": {
     "delete_cmd_postfix": "",
     "delete_cmd_prefix": "del ",
     "library": "var_list.py",
     "varRefreshCmd": "print(var_dic_list())"
    },
    "r": {
     "delete_cmd_postfix": ") ",
     "delete_cmd_prefix": "rm(",
     "library": "var_list.r",
     "varRefreshCmd": "cat(var_dic_list()) "
    }
   },
   "types_to_exclude": [
    "module",
    "function",
    "builtin_function_or_method",
    "instance",
    "_Feature"
   ],
   "window_display": false
  }
 },
 "nbformat": 4,
 "nbformat_minor": 5
}
