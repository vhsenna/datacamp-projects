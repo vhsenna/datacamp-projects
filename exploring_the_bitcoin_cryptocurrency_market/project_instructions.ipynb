{
 "cells": [
  {
   "cell_type": "markdown",
   "id": "dietary-uncertainty",
   "metadata": {},
   "source": [
    "# Task 1: Instructions\n",
    "\n",
    "Load the saved CSV file and select relevant columns.\n",
    "\n",
    "- Load `coinmarketcap_06122017.csv` into a DataFrame named `dec6` using `read_csv()` from `pandas`.\n",
    "- Select the columns `id` and `market_cap_usd` and assign them to `market_cap_raw`.\n",
    "- Use `count()` to count and print the number of values in `market_cap_raw`.\n",
    "\n",
    "## Good to know\n",
    "\n",
    "To complete this project, you need to be fluent with `pandas` DataFrames. Before starting this project, we recommend that you have completed the following courses:\n",
    "\n",
    "- [Data Manipulation with pandas](https://www.datacamp.com/courses/data-manipulation-with-pandas).\n",
    "- [Data Cleaning in Python](https://www.datacamp.com/courses/data-cleaning-in-python).\n",
    "\n",
    "This project uses [`pandas.DataFrame.plot()`](https://pandas.pydata.org/pandas-docs/stable/generated/pandas.DataFrame.plot.html) and the [`Axes`](https://matplotlib.org/api/axes_api.html) API in matplotlib extensively, so these are good references to have open in a separate tab."
   ]
  },
  {
   "cell_type": "markdown",
   "id": "meaning-calculation",
   "metadata": {},
   "source": [
    "# Task 2: Instructions\n",
    "\n",
    "Filter out the coins with no known market capitalization.\n",
    "\n",
    "- `query()` the DataFrame and filter out all the valueless coins and assign the new DataFrame to `cap`.\n",
    "- Use `count()` again to count and print the number of values in `cap`.\n",
    "\n",
    "Using the [`query()` method](http://pandas.pydata.org/pandas-docs/stable/generated/pandas.DataFrame.query.html) of a DataFrame is a convenient alternative to using slicing selectors. For example, this:\n",
    "\n",
    "```\n",
    "df.query('value > 0') \n",
    "```\n",
    "\n",
    "Gives you the same result as this:\n",
    "\n",
    "```\n",
    "df[df['value'] > 0]    \n",
    "```\n",
    "\n",
    "but with less code.\n",
    "\n",
    "Keep in mind that `query()` uses [numexpr](http://numexpr.readthedocs.io/en/latest/user_guide.html) syntax by default instead of python syntax. It means that this:\n",
    "\n",
    "```\n",
    "(condition1 and condition2) or condition3\n",
    "```\n",
    "\n",
    "Should be written like this using numexpr:\n",
    "\n",
    "```\n",
    "(condition1 & condition2) | condition3\n",
    "```"
   ]
  },
  {
   "cell_type": "markdown",
   "id": "fatal-controversy",
   "metadata": {},
   "source": [
    "# Task 3: Instructions\n",
    "\n",
    "Visualize the market capitalization of the top 10 cryptocurrencies.\n",
    "\n",
    "- Select the first 10 coins, set the index to `id`, and assign the resulting DataFrame to `cap10`.\n",
    "- Calculate the percentage of market capitalization for each coin using `assign()` and assign it to `cap10` again.\n",
    "- Plot the top 10 coin's `market_cap_perc` in a barplot with the title \"Top 10 market capitalization\" and assign it to `ax`.\n",
    "- Using the `ax` object, annotate the y axis with \"% of total cap\".\n",
    "\n",
    "Check the pandas docs for [using assign with lambda](https://pandas.pydata.org/pandas-docs/stable/generated/pandas.DataFrame.assign.html) for calculating the % market cap. Remember that `.assign` iterates over all rows and creates a new column, but you can plug in numbers external to the DataFrame, for example:\n",
    "\n",
    "```\n",
    "cap.market_cap_usd.sum()\n",
    "```\n",
    "\n",
    ";-) . Also, don't forget to multiply by 100 inside the lambda to turn the resulting proportion into a percentage.\n",
    "\n",
    "Pandas has an interface for every major plot type, for example `DataFrame.plot.hist()` and `DataFrame.plot.bar()`. For annotating the y axis using the `ax` object you could take a look at the available methods in the [matplotlib docs for the Axes object](https://matplotlib.org/api/axes_api.html#axis-limits)."
   ]
  },
  {
   "cell_type": "markdown",
   "id": "mathematical-seller",
   "metadata": {},
   "source": [
    "# Task 4: Instructions\n",
    "\n",
    "Make the plot from the last task more informative with colors and a nice log scale.\n",
    "\n",
    "- Make a plot like in the last task, but of `market_cap_usd`. Add the given `COLORS` and make the y-axis log<sup>10</sup> scaled.\n",
    "- Again, use the `ax` object to annotate the y axis with \"USD\".\n",
    "- Remove the useless label on the x axis.\n",
    "\n",
    "Scale the y axis using an arguent to `.plot.bar()`, so it is only visual. Do not modify the actual value of the column!"
   ]
  },
  {
   "cell_type": "markdown",
   "id": "impressed-genome",
   "metadata": {},
   "source": [
    "# Task 5: Instructions\n",
    "\n",
    "Create a DataFrame that contains volatility information on cryptocurrencies.\n",
    "\n",
    "- Select the columns `id`, `percent_change_24h`, and `percent_change_7d` from `dec6` and assign the resulting DataFrame to `volatility`.\n",
    "- Set the index to `id` and drop all rows that contain NaNs.\n",
    "- Sort `volatility` by `percent_change_24h` in ascending order.\n",
    "- Print out the `.head()` of `volatility`."
   ]
  },
  {
   "cell_type": "markdown",
   "id": "acute-space",
   "metadata": {},
   "source": [
    "# Task 6: Instructions\n",
    "\n",
    "Make a bar plot that shows the biggest gainers and the biggest losers. Finish writing the function that will show the top losers to the left and the top gainers to the right.\n",
    "\n",
    "- Use `.plot.bar()` to plot the \"top losers\" from `volatility_series` in `'darkred'` color.\n",
    "- Set the figure main title using the `fig.suptitle()` method.\n",
    "- Set the ylabel for the plot on the left using its `Axes` object.\n",
    "- Use `.plot.bar()` again to plot the \"top winners\" bar chart in `'darkblue'`.\n",
    "- Call the function `top10_subplot` with `volatility.percent_change_24h` and the supplied title.\n",
    "\n",
    "The function assumes that `volatility_series` is sorted and so `volatility_series[:10]` would pick out the top 10 losers and `volatility_series[-10:]` would pick out the top 10 winners.\n",
    "\n",
    "In this task, the subplot is already defined for you. To assign a pandas plot to a matplotlib subplot, you need to do the following\n",
    "\n",
    "```\n",
    "fig, axes = plt.subplots(...)\n",
    "# assigns the resulting pandas plot to the first subplot\n",
    "df1.plot.bar(ax=axes[0])\n",
    "# assigns the resulting pandas plot to the second subplot\n",
    "df2.plot.bar(ax=axes[1])\n",
    "```"
   ]
  },
  {
   "cell_type": "markdown",
   "id": "introductory-sound",
   "metadata": {},
   "source": [
    "# Task 7: Instructions\n",
    "\n",
    "Call the function you created in the last task above, but with the weekly data.\n",
    "\n",
    "- Sort `volatility` by `percent_change_7d` in ascending order and assign it to `volatility7d`.\n",
    "- Call `top10_subplot` with `volatility7d` and the supplied title.\n",
    "\n",
    "Keep in mind that our data is not sorted now and that `top10_subplot` assumes the Series is in ascending order."
   ]
  },
  {
   "cell_type": "markdown",
   "id": "duplicate-mustang",
   "metadata": {},
   "source": [
    "# Task 8: Instructions\n",
    "\n",
    "- Use the `.query()` method to select all [large cap](https://www.investopedia.com/terms/l/large-cap.asp) coins in `cap`. That is, coins where `market_cap_usd` is +10 billion USD.\n",
    "- Assign the resulting DataFrame to `largecaps`.\n",
    "- Print out `largecaps`."
   ]
  },
  {
   "cell_type": "markdown",
   "id": "entitled-optimization",
   "metadata": {},
   "source": [
    "# Task 9: Instructions\n",
    "\n",
    "Group _large_, _mid_ and _small_ cap coins into a group called _biggish_ and make a barplot of counts of _biggish_, _micro_ and _nano_ coins.\n",
    "\n",
    "- Count how many biggish, micro and nano coins there are using the given function `capcount`.\n",
    "- Make a list with these 3 numbers and assign it to `values`.\n",
    "- Make a barplot with `values` and the provided labels.\n",
    "\n",
    "These are the market cap definitions from Investopedia:\n",
    "\n",
    "- [Large cap](https://www.investopedia.com/terms/l/large-cap.asp): +10 billion\n",
    "- [Mid cap](https://www.investopedia.com/terms/m/midcapstock.asp): 2 billion - 10 billion\n",
    "- [Small cap](https://www.investopedia.com/terms/s/small-cap.asp): 300 million - 2 billion\n",
    "- [Micro cap](https://www.investopedia.com/terms/m/microcapstock.asp): 50 million - 300 million\n",
    "- [Nano cap](https://www.investopedia.com/terms/n/nanocap.asp): Below 50 million\n",
    "\n",
    "As `capcount` uses the `.query()` method the argument to `capcount` should be a string defining a condition for what values to select.\n",
    "\n",
    "For this final task we will use the matplotlib `bar` interface, instead of `pandas`, as it is more convenient. Check the [matplotlib.pyplot.bar](https://matplotlib.org/devdocs/api/_as_gen/matplotlib.pyplot.bar.html) docs for a reference."
   ]
  }
 ],
 "metadata": {
  "kernelspec": {
   "display_name": "Python 3",
   "language": "python",
   "name": "python3"
  },
  "language_info": {
   "codemirror_mode": {
    "name": "ipython",
    "version": 3
   },
   "file_extension": ".py",
   "mimetype": "text/x-python",
   "name": "python",
   "nbconvert_exporter": "python",
   "pygments_lexer": "ipython3",
   "version": "3.8.5"
  },
  "toc": {
   "base_numbering": 1,
   "nav_menu": {},
   "number_sections": false,
   "sideBar": true,
   "skip_h1_title": false,
   "title_cell": "Table of Contents",
   "title_sidebar": "Contents",
   "toc_cell": false,
   "toc_position": {},
   "toc_section_display": true,
   "toc_window_display": false
  },
  "varInspector": {
   "cols": {
    "lenName": 16,
    "lenType": 16,
    "lenVar": 40
   },
   "kernels_config": {
    "python": {
     "delete_cmd_postfix": "",
     "delete_cmd_prefix": "del ",
     "library": "var_list.py",
     "varRefreshCmd": "print(var_dic_list())"
    },
    "r": {
     "delete_cmd_postfix": ") ",
     "delete_cmd_prefix": "rm(",
     "library": "var_list.r",
     "varRefreshCmd": "cat(var_dic_list()) "
    }
   },
   "types_to_exclude": [
    "module",
    "function",
    "builtin_function_or_method",
    "instance",
    "_Feature"
   ],
   "window_display": false
  }
 },
 "nbformat": 4,
 "nbformat_minor": 5
}
