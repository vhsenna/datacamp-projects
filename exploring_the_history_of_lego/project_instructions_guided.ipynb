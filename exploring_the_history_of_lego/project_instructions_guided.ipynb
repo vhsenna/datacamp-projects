{
 "cells": [
  {
   "cell_type": "markdown",
   "id": "mature-depression",
   "metadata": {},
   "source": [
    "# Task 1: Instructions\n",
    "\n",
    "Welcome to the Python project **Exploring 67 years of LEGO**!\n",
    "\n",
    "If you haven't done a DataCamp project before you should check out the [Intro to Projects](https://projects.datacamp.com/projects/33) first to learn about the interface. In this project, you also need to know your way around `pandas` DataFrames and it's recommended that you take a look at the course [Data Manipulation with pandas](https://www.datacamp.com/courses/data-manipulation-with-pandas). For your first task:\n",
    "\n",
    "- Read the first paragraph in the notebook to familiarize yourself with the topic!\n",
    "- Feel free to poke around the interface.\n",
    "- When you are finished, go to the next task."
   ]
  },
  {
   "cell_type": "markdown",
   "id": "rough-clock",
   "metadata": {},
   "source": [
    "# Task 2: Instructions\n",
    "\n",
    "- Import `pandas` and alias it as `pd`.\n",
    "- Read the csv file located in the path `'datasets/colors.csv'` into a DataFrame named `colors`.\n",
    "- Inspect the first five rows of the resulting `colors` DataFrame."
   ]
  },
  {
   "cell_type": "markdown",
   "id": "basic-macedonia",
   "metadata": {},
   "source": [
    "# Task 3: Instructions\n",
    "\n",
    "- Create a variable named `num_colors` that counts the number of distinct colors.\n",
    "- Print it out."
   ]
  },
  {
   "cell_type": "markdown",
   "id": "thorough-polls",
   "metadata": {},
   "source": [
    "# Task 4: Instructions\n",
    "\n",
    "- Summarize colors based on their transparency.\n",
    "- Save the result as a variable named `colors_summary`.\n",
    "- Print out `colors_summary`.\n",
    "\n",
    "Executing your code should result in the table shown below.\n",
    "\n",
    "```\n",
    "is_trans\tid   name   rgb\n",
    "f           107  107    107\n",
    "t           28   28     28\n",
    "```"
   ]
  },
  {
   "cell_type": "markdown",
   "id": "stable-appliance",
   "metadata": {},
   "source": [
    "# Task 5: Instructions\n",
    "\n",
    "- Read the data in `datasets/sets.csv` as a DataFrame named `sets`.\n",
    "- Create a summary of the average number of parts per year and save it as `parts_by_year`.\n",
    "- Plot the average number of parts per year.\n",
    "\n",
    "The first few rows of `parts_by_year` should resemble the table shown below:\n",
    "\n",
    "```\n",
    "year   num_parts\n",
    "1950   10.14\n",
    "1953   16.50\n",
    "1954   12.36\n",
    "1955   36.86\n",
    "1956   18.50\n",
    "```"
   ]
  },
  {
   "cell_type": "markdown",
   "id": "occasional-utilization",
   "metadata": {},
   "source": [
    "# Task 6: Instructions\n",
    "\n",
    "- Create a summary of the number of distinct themes shipped by year.\n",
    "- Save it as a `DataFrame` named `themes_by_year`.\n",
    "- Print the first couple of rows in `themes_by_year`.\n",
    "\n",
    "The first few rows of your data should resemble the table shown below.\n",
    "\n",
    "```\n",
    "year\ttheme_id\n",
    "1950\t2\n",
    "1953\t1\n",
    "1954\t2\n",
    "1955\t4\n",
    "1956\t3\n",
    "```\n",
    "\n",
    "**Note:** In this step you may need to use an aggregation function that you have yet to encounter. The [documentation here](https://pandas.pydata.org/pandas-docs/stable/reference/groupby.html#computations-descriptive-stats) may be of assistance. You will want to find a way to return the number of unique values in each group."
   ]
  },
  {
   "cell_type": "markdown",
   "id": "retained-bryan",
   "metadata": {},
   "source": [
    "# Task 7: Instructions\n",
    "\n",
    "In 1999, Lego expanded into licensed sets with the introduction of Star Wars themed sets. In that year, how many unique themes were released?\n",
    "\n",
    "- Assign your answer to the variable `num_themes`.\n",
    "- Print `num_themes`."
   ]
  }
 ],
 "metadata": {
  "kernelspec": {
   "display_name": "Python 3",
   "language": "python",
   "name": "python3"
  },
  "language_info": {
   "codemirror_mode": {
    "name": "ipython",
    "version": 3
   },
   "file_extension": ".py",
   "mimetype": "text/x-python",
   "name": "python",
   "nbconvert_exporter": "python",
   "pygments_lexer": "ipython3",
   "version": "3.8.5"
  },
  "toc": {
   "base_numbering": 1,
   "nav_menu": {},
   "number_sections": false,
   "sideBar": true,
   "skip_h1_title": false,
   "title_cell": "Table of Contents",
   "title_sidebar": "Contents",
   "toc_cell": false,
   "toc_position": {},
   "toc_section_display": true,
   "toc_window_display": false
  },
  "varInspector": {
   "cols": {
    "lenName": 16,
    "lenType": 16,
    "lenVar": 40
   },
   "kernels_config": {
    "python": {
     "delete_cmd_postfix": "",
     "delete_cmd_prefix": "del ",
     "library": "var_list.py",
     "varRefreshCmd": "print(var_dic_list())"
    },
    "r": {
     "delete_cmd_postfix": ") ",
     "delete_cmd_prefix": "rm(",
     "library": "var_list.r",
     "varRefreshCmd": "cat(var_dic_list()) "
    }
   },
   "types_to_exclude": [
    "module",
    "function",
    "builtin_function_or_method",
    "instance",
    "_Feature"
   ],
   "window_display": false
  }
 },
 "nbformat": 4,
 "nbformat_minor": 5
}
