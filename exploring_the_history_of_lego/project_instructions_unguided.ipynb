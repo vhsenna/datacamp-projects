{
 "cells": [
  {
   "cell_type": "markdown",
   "id": "going-saskatchewan",
   "metadata": {},
   "source": [
    "# Instructions\n",
    "\n",
    "**Welcome to the Python project Exploring the Evolution of Lego!**\n",
    "\n",
    "You are a Data Analyst at Lego working with the Sales/Customer Success teams. The Account Executive responsible for the Star Wars partnership has asked for specific information in preparation for their meeting with the Star Wars team. Although Star Wars was critical to the survival of the brand, Lego has since introduced a wide variety of licensed sets over subsequent years.\n",
    "\n",
    "Your two questions are as follows:\n",
    "\n",
    "**1. What percentage of all licensed sets ever released were Star Wars themed?** Save your answer as a variable `the_force` in the form of an integer (e.g. 25).\n",
    "\n",
    "**2. In which year was Star Wars not the most popular licensed theme (in terms of number of sets released that year)?** Save your answer as a variable `new_era` in the form of an integer (e.g. 2012).\n",
    "\n",
    "The method through which you approach this question is up to you, but one thing to keep in mind is that the **dataset is not necessarily clean**, and may require the removal rows where there are values missing from _critical_ columns."
   ]
  }
 ],
 "metadata": {
  "kernelspec": {
   "display_name": "Python 3",
   "language": "python",
   "name": "python3"
  },
  "language_info": {
   "codemirror_mode": {
    "name": "ipython",
    "version": 3
   },
   "file_extension": ".py",
   "mimetype": "text/x-python",
   "name": "python",
   "nbconvert_exporter": "python",
   "pygments_lexer": "ipython3",
   "version": "3.8.5"
  },
  "toc": {
   "base_numbering": 1,
   "nav_menu": {},
   "number_sections": false,
   "sideBar": true,
   "skip_h1_title": false,
   "title_cell": "Table of Contents",
   "title_sidebar": "Contents",
   "toc_cell": false,
   "toc_position": {},
   "toc_section_display": true,
   "toc_window_display": false
  },
  "varInspector": {
   "cols": {
    "lenName": 16,
    "lenType": 16,
    "lenVar": 40
   },
   "kernels_config": {
    "python": {
     "delete_cmd_postfix": "",
     "delete_cmd_prefix": "del ",
     "library": "var_list.py",
     "varRefreshCmd": "print(var_dic_list())"
    },
    "r": {
     "delete_cmd_postfix": ") ",
     "delete_cmd_prefix": "rm(",
     "library": "var_list.r",
     "varRefreshCmd": "cat(var_dic_list()) "
    }
   },
   "types_to_exclude": [
    "module",
    "function",
    "builtin_function_or_method",
    "instance",
    "_Feature"
   ],
   "window_display": false
  }
 },
 "nbformat": 4,
 "nbformat_minor": 5
}
