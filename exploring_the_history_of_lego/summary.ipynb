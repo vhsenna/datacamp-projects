{
 "cells": [
  {
   "cell_type": "markdown",
   "id": "adaptive-triangle",
   "metadata": {},
   "source": [
    "# Exploring the History of Lego\n",
    "\n",
    "Use a variety of data manipulation techniques to explore different aspects of Lego's history!\n",
    "\n",
    "## Project Description\n",
    "\n",
    "The [Rebrickable](https://rebrickable.com/downloads/) database includes data on every LEGO set that has ever been sold; the names of the sets, what bricks they contain, what color the bricks are, etc. It might be small bricks, but this is big data! In this project, you will get to explore the Rebrickable database and answer a series of questions related to the history of Lego!\n",
    "\n",
    "## Guided Project\n",
    "\n",
    "Through a sequence of structured tasks, we will explore Lego datasets related to colors, sets, and themes!\n",
    "\n",
    "### Project Tasks\n",
    "\n",
    "1. Introduction\n",
    "2. Reading Data\n",
    "3. Exploring Colors\n",
    "4. Transparent Colors in Lego Sets\n",
    "5. Explore Lego Sets\n",
    "6. Lego Themes Over Years\n",
    "7. Wrapping It All Up!\n",
    "\n",
    "## Unguided\n",
    "\n",
    "Dig into the history of Lego's licensed sets, including uncovering the percentage of all licensed sets that are Star Wars themed!"
   ]
  }
 ],
 "metadata": {
  "kernelspec": {
   "display_name": "Python 3",
   "language": "python",
   "name": "python3"
  },
  "language_info": {
   "codemirror_mode": {
    "name": "ipython",
    "version": 3
   },
   "file_extension": ".py",
   "mimetype": "text/x-python",
   "name": "python",
   "nbconvert_exporter": "python",
   "pygments_lexer": "ipython3",
   "version": "3.8.5"
  },
  "toc": {
   "base_numbering": 1,
   "nav_menu": {},
   "number_sections": false,
   "sideBar": true,
   "skip_h1_title": false,
   "title_cell": "Table of Contents",
   "title_sidebar": "Contents",
   "toc_cell": false,
   "toc_position": {},
   "toc_section_display": true,
   "toc_window_display": false
  },
  "varInspector": {
   "cols": {
    "lenName": 16,
    "lenType": 16,
    "lenVar": 40
   },
   "kernels_config": {
    "python": {
     "delete_cmd_postfix": "",
     "delete_cmd_prefix": "del ",
     "library": "var_list.py",
     "varRefreshCmd": "print(var_dic_list())"
    },
    "r": {
     "delete_cmd_postfix": ") ",
     "delete_cmd_prefix": "rm(",
     "library": "var_list.r",
     "varRefreshCmd": "cat(var_dic_list()) "
    }
   },
   "types_to_exclude": [
    "module",
    "function",
    "builtin_function_or_method",
    "instance",
    "_Feature"
   ],
   "window_display": false
  }
 },
 "nbformat": 4,
 "nbformat_minor": 5
}
