{
 "cells": [
  {
   "cell_type": "markdown",
   "id": "ethical-heater",
   "metadata": {},
   "source": [
    "# A New Era of Data Analysis in Baseball\n",
    "\n",
    "Use MLB's Statcast data to compare New York Yankees sluggers Aaron Judge and Giancarlo Stanton.\n",
    "\n",
    "## Project Description\n",
    "\n",
    "There's a new era of data analysis in baseball. Using a new technology called Statcast, Major League Baseball is now collecting the precise location and movements of its baseballs and players. In this project, you will use Statcast data to compare the home runs of two of baseball's brightest (and largest) stars, Aaron Judge (6'7\") and Giancarlo Stanton (6'6\"), both of whom now play for the New York Yankees.\n",
    "\n",
    "The dataset used in this project is from [Baseball Savant](https://baseballsavant.mlb.com/about).\n",
    "\n",
    "### Project Tasks\n",
    "\n",
    "1. The Statcast revolution\n",
    "2. What can Statcast measure?\n",
    "3. Aaron Judge and Giancarlo Stanton, prolific sluggers\n",
    "4. Analyzing home runs with Statcast data\n",
    "5. Home runs by pitch velocity\n",
    "6. Home runs by pitch location (I)\n",
    "7. Home runs by pitch location (II)\n",
    "8. Aaron Judge's home run zone\n",
    "9. Giancarlo Stanton's home run zone\n",
    "10. Should opposing pitchers be scared?"
   ]
  }
 ],
 "metadata": {
  "kernelspec": {
   "display_name": "Python 3",
   "language": "python",
   "name": "python3"
  },
  "language_info": {
   "codemirror_mode": {
    "name": "ipython",
    "version": 3
   },
   "file_extension": ".py",
   "mimetype": "text/x-python",
   "name": "python",
   "nbconvert_exporter": "python",
   "pygments_lexer": "ipython3",
   "version": "3.8.5"
  },
  "toc": {
   "base_numbering": 1,
   "nav_menu": {},
   "number_sections": false,
   "sideBar": true,
   "skip_h1_title": false,
   "title_cell": "Table of Contents",
   "title_sidebar": "Contents",
   "toc_cell": false,
   "toc_position": {},
   "toc_section_display": true,
   "toc_window_display": false
  },
  "varInspector": {
   "cols": {
    "lenName": 16,
    "lenType": 16,
    "lenVar": 40
   },
   "kernels_config": {
    "python": {
     "delete_cmd_postfix": "",
     "delete_cmd_prefix": "del ",
     "library": "var_list.py",
     "varRefreshCmd": "print(var_dic_list())"
    },
    "r": {
     "delete_cmd_postfix": ") ",
     "delete_cmd_prefix": "rm(",
     "library": "var_list.r",
     "varRefreshCmd": "cat(var_dic_list()) "
    }
   },
   "types_to_exclude": [
    "module",
    "function",
    "builtin_function_or_method",
    "instance",
    "_Feature"
   ],
   "window_display": false
  }
 },
 "nbformat": 4,
 "nbformat_minor": 5
}
