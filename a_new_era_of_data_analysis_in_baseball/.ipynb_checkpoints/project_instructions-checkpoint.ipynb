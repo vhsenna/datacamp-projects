{
 "cells": [
  {
   "cell_type": "markdown",
   "id": "suitable-comparison",
   "metadata": {},
   "source": [
    "# Task 1: Instructions\n",
    "\n",
    "Load the CSV files, which hold the Statcast data for each player, into pandas DataFrames.\n",
    "\n",
    "- Load `judge.csv` into a DataFrame and assign it to the variable `judge`.\n",
    "- Load `stanton.csv` into a DataFrame and assign it to the variable `stanton`.\n",
    "\n",
    "## Good to know\n",
    "\n",
    "This Project requires that you know your way around Python, pandas, and data visualization. We recommend the following courses as prerequisites:\n",
    "\n",
    "- [Intermediate Python](https://www.datacamp.com/courses/intermediate-python).\n",
    "- [Introduction to Data Visualization with Matplotlib](https://www.datacamp.com/courses/introduction-to-data-visualization-with-matplotlib).\n",
    "- [Introduction to Data Visualization with Seaborn](https://www.datacamp.com/courses/introduction-to-data-visualization-with-seaborn).\n",
    "\n",
    "[MLB.com's Statcast glossary](http://m.mlb.com/glossary/statcast) (MLB stands for Major League Baseball) may be helpful at various points _throughout_ the Project. Through accessible text and video, they explain baseball concepts in more detail than the Project Notebook. Links to specific glossary pages will be provided throughout the Project."
   ]
  },
  {
   "cell_type": "markdown",
   "id": "talented-ensemble",
   "metadata": {},
   "source": [
    "# Task 2: Instructions\n",
    "\n",
    "Display the last five rows of the `judge` DataFrame.\n",
    "\n",
    "- Use pandas' `tail` method to display the last five rows of `judge`.\n",
    "\n",
    "The last five rows of the `judge` DataFrame are displayed instead of the first five because they contain more interesting data.\n",
    "\n",
    "Helpful links:\n",
    "\n",
    "- pandas' `tail` method ([documentation](https://pandas.pydata.org/pandas-docs/stable/generated/pandas.DataFrame.tail.html))."
   ]
  },
  {
   "cell_type": "markdown",
   "id": "turkish-projector",
   "metadata": {},
   "source": [
    "# Task 3: Instructions\n",
    "\n",
    "Isolate each player's batted ball events for the 2017 season.\n",
    "\n",
    "- Filter `judge` to include pitches from 2017 only and select the `events` column. Store the result in a variable called `judge_events_2017`.\n",
    "- Using the `value_counts` method, print out the count of unique values for `judge_events_2017`.\n",
    "- Filter `stanton` to include pitches from 2017 only and select the `events` column. Store the result in a variable called `stanton_events_2017`.\n",
    "- Using the `value_counts` method, print out the count of unique values for `stanton_events_2017`.\n",
    "\n",
    "Helpful links:\n",
    "\n",
    "- pandas' `value_counts` method ([documentation](https://pandas.pydata.org/pandas-docs/stable/generated/pandas.Series.value_counts.html))."
   ]
  },
  {
   "cell_type": "markdown",
   "id": "protecting-desktop",
   "metadata": {},
   "source": [
    "# Task 4: Instructions\n",
    "\n",
    "Isolate each player's home runs then plot exit velocity vs. launch angle.\n",
    "\n",
    "- Filter the `judge` and `stanton` DataFrames to include home runs only.\n",
    "- Create a figure using seaborn's `regplot` function with two scatter plots of launch speed vs. launch angle, one for each player's home runs.\n",
    "- Create a figure using seaborn's `kdeplot` function with two KDE plots of launch speed vs. launch angle, one for each player's home runs.\n",
    "\n",
    "Exit velocity is also known as launch speed, where `launch_speed` is the name of the column in each file.\n",
    "\n",
    "Helpful links:\n",
    "\n",
    "- seaborn's `regplot` function ([documentation](https://seaborn.pydata.org/generated/seaborn.regplot.html)).\n",
    "- seaborn's `kdeplot` function ([documentation](https://seaborn.pydata.org/generated/seaborn.kdeplot.html))."
   ]
  },
  {
   "cell_type": "markdown",
   "id": "descending-trick",
   "metadata": {},
   "source": [
    "# Task 5: Instructions\n",
    "\n",
    "Plot the pitch velocities of each player's home runs on box plots.\n",
    "\n",
    "- Concatenate `judge_hr` and `stanton_hr` using pandas' `concat` function and store the result in a variable called `judge_stanton_hr`.\n",
    "- Create a boxplot using seaborn's `boxplot` function that describes the pitch velocity of each player's home runs. Make the color argument `'tab:blue'`.\n",
    "\n",
    "Pitch velocity is also known as release speed, where `release_speed` is the name of the column in each file.\n",
    "\n",
    "Helpful links:\n",
    "\n",
    "- pandas' `concat` function ([documentation](https://pandas.pydata.org/pandas-docs/stable/generated/pandas.concat.html)).\n",
    "- seaborn's `boxplot` function ([documentation](https://seaborn.pydata.org/generated/seaborn.boxplot.html))."
   ]
  },
  {
   "cell_type": "markdown",
   "id": "imposed-netherlands",
   "metadata": {},
   "source": [
    "# Task 6: Instructions\n",
    "\n",
    "Create a function that returns the x-coordinate of a pitch zone.\n",
    "\n",
    "- Return the x-coordinate for the left third of strike zone.\n",
    "- Return the x-coordinate for the middle third of strike zone.\n",
    "- Return the x-coordinate for the right third of strike zone.\n",
    "\n",
    "While you should ignore zones 11, 12, 13, and 14 for this plotting task, setting up conditionals to filter these out now isn't necessary. That will come in an upcoming task!\n",
    "\n",
    "`zone` is the name of the column that holds each pitch's zone data.\n",
    "\n",
    "It may be helpful to draw the zone and label the x- and y-coordinates by hand."
   ]
  },
  {
   "cell_type": "markdown",
   "id": "hired-florist",
   "metadata": {},
   "source": [
    "# Task 7: Instructions\n",
    "\n",
    "Create a function that returns the y-coordinate of a pitch zone.\n",
    "\n",
    "- Return the y-coordinate for the upper third of strike zone.\n",
    "- Return the y-coordinate for the middle third of strike zone.\n",
    "- Return the y-coordinate for the lower third of strike zone.\n",
    "\n",
    "While you should ignore zones 11, 12, 13, and 14 for this plotting task, setting up conditionals to filter these out now isn't necessary. That will come in an upcoming task!\n",
    "\n",
    "`zone` is the name of the column that holds each pitch's zone data.\n",
    "\n",
    "It may be helpful to draw the zone and label the x- and y-coordinates by hand."
   ]
  },
  {
   "cell_type": "markdown",
   "id": "industrial-edmonton",
   "metadata": {},
   "source": [
    "# Task 8: Instructions\n",
    "\n",
    "Assign Cartesian coordinates to the strike zone and plot pitches that resulted in Judge home runs as a 2D histogram.\n",
    "\n",
    "- Apply `assign_x_coord` to `judge_strike_hr` to create a new column called `zone_x`.\n",
    "- Apply `assign_y_coord` to `judge_strike_hr` to create a new column called `zone_y`.\n",
    "- Plot Judge's home run zone as a 2D histogram (using matplotlib's `hist2d` function) with a colorbar.\n",
    "\n",
    "Helpful links:\n",
    "\n",
    "- pandas' `apply` method ([documentation](https://pandas.pydata.org/pandas-docs/stable/generated/pandas.DataFrame.apply.html)).\n",
    "- How to use pandas' `apply` method ([StackOverflow answer](https://stackoverflow.com/questions/27041724/using-conditional-to-generate-new-column-in-pandas-dataframe)).\n",
    "- matplotlib's `hist2d` function ([documentation](https://matplotlib.org/api/_as_gen/matplotlib.pyplot.hist2d.html))."
   ]
  },
  {
   "cell_type": "markdown",
   "id": "wrapped-candle",
   "metadata": {},
   "source": [
    "# Task 9: Instructions\n",
    "\n",
    "Assign Cartesian coordinates to the strike zone and plot pitches that resulted in Stanton home runs as a 2D histogram.\n",
    "\n",
    "- Apply `assign_x_coord` to `stanton_strike_hr` to create a new column called `zone_x`.\n",
    "- Apply `assign_y_coord` to `stanton_strike_hr` to create a new column called `zone_y`.\n",
    "- Plot Stanton's home run zone as a 2D histogram (using matplotlib's `hist2d` function) with a colorbar.\n",
    "\n",
    "Helpful links:\n",
    "\n",
    "- pandas' `apply` method ([documentation](https://pandas.pydata.org/pandas-docs/stable/generated/pandas.DataFrame.apply.html)).\n",
    "- How to use pandas' `apply` method ([StackOverflow answer](https://stackoverflow.com/questions/27041724/using-conditional-to-generate-new-column-in-pandas-dataframe)).\n",
    "- matplotlib's `hist2d` function ([documentation](https://matplotlib.org/api/_as_gen/matplotlib.pyplot.hist2d.html))."
   ]
  },
  {
   "cell_type": "markdown",
   "id": "arctic-biography",
   "metadata": {},
   "source": [
    "# Task 10: Instructions\n",
    "\n",
    "Answer the following question: \"Should opposing pitchers be wary of Aaron Judge and Giancarlo Stanton?\"\n",
    "\n",
    "- Store a Boolean value (True or False) in `should_pitchers_be_scared`.\n",
    "\n",
    "These editorial images ([Judge](https://www.gettyimages.ca/photos/aaron-judge?sort=mostpopular&mediatype=photography&phrase=aaron%20judge&family=editorial), [Stanton](https://www.gettyimages.com/photos/giancarlo-stanton?sort=mostpopular&mediatype=photography&phrase=giancarlo%20stanton&family=editorial)) from Getty Images are awesome. The best are the ones with each player next to normal sized humans.\n",
    "\n",
    "If you'd like more Statcast content to digest, this video ([A culmination of special Statcast records in 2017](https://www.youtube.com/watch?v=tzPKlQXo6hk) from MLB's YouTube channel) and this article ([Major League Baseball's Statcast Can Break Sabermetrics](https://deadspin.com/major-league-baseballs-statcast-can-break-sabermetrics-1820987737) by Emma Baccellieri) are excellent."
   ]
  }
 ],
 "metadata": {
  "kernelspec": {
   "display_name": "Python 3",
   "language": "python",
   "name": "python3"
  },
  "language_info": {
   "codemirror_mode": {
    "name": "ipython",
    "version": 3
   },
   "file_extension": ".py",
   "mimetype": "text/x-python",
   "name": "python",
   "nbconvert_exporter": "python",
   "pygments_lexer": "ipython3",
   "version": "3.8.5"
  },
  "toc": {
   "base_numbering": 1,
   "nav_menu": {},
   "number_sections": false,
   "sideBar": true,
   "skip_h1_title": false,
   "title_cell": "Table of Contents",
   "title_sidebar": "Contents",
   "toc_cell": false,
   "toc_position": {},
   "toc_section_display": true,
   "toc_window_display": false
  },
  "varInspector": {
   "cols": {
    "lenName": 16,
    "lenType": 16,
    "lenVar": 40
   },
   "kernels_config": {
    "python": {
     "delete_cmd_postfix": "",
     "delete_cmd_prefix": "del ",
     "library": "var_list.py",
     "varRefreshCmd": "print(var_dic_list())"
    },
    "r": {
     "delete_cmd_postfix": ") ",
     "delete_cmd_prefix": "rm(",
     "library": "var_list.r",
     "varRefreshCmd": "cat(var_dic_list()) "
    }
   },
   "types_to_exclude": [
    "module",
    "function",
    "builtin_function_or_method",
    "instance",
    "_Feature"
   ],
   "window_display": false
  }
 },
 "nbformat": 4,
 "nbformat_minor": 5
}
